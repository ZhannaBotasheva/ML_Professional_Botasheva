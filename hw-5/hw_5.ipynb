{
 "cells": [
  {
   "cell_type": "markdown",
   "id": "617252a5",
   "metadata": {},
   "source": [
    "## HW 5\n",
    "Botasheva Zhanna"
   ]
  },
  {
   "cell_type": "markdown",
   "id": "e2a59122",
   "metadata": {},
   "source": [
    "## Откуда берутся датасеты? Практический проект по сбору данных и работе с текстами"
   ]
  },
  {
   "cell_type": "markdown",
   "id": "49a3b4b1",
   "metadata": {},
   "source": [
    "### Часть 1. Парсинг"
   ]
  },
  {
   "cell_type": "code",
   "execution_count": 1,
   "id": "4024bbba",
   "metadata": {},
   "outputs": [],
   "source": [
    "import warnings\n",
    "warnings.filterwarnings(\"ignore\")"
   ]
  },
  {
   "cell_type": "code",
   "execution_count": 2,
   "id": "2e52c8f4",
   "metadata": {},
   "outputs": [],
   "source": [
    "import requests      # Библиотека для отправки запросов\n",
    "import numpy as np   # Библиотека для матриц, векторов и линала\n",
    "import pandas as pd  # Библиотека для табличек\n",
    "import time          # Библиотека для времени"
   ]
  },
  {
   "cell_type": "code",
   "execution_count": 3,
   "id": "338010bc",
   "metadata": {},
   "outputs": [],
   "source": [
    "page_link = 'https://www.ivi.ru/collections/serialy-s-vyisokim-rejtingom'"
   ]
  },
  {
   "cell_type": "code",
   "execution_count": 4,
   "id": "36df67bc",
   "metadata": {},
   "outputs": [],
   "source": [
    "# подгрузим один из методов этой библиотеки\n",
    "from fake_useragent import UserAgent"
   ]
  },
  {
   "cell_type": "code",
   "execution_count": 5,
   "id": "41f64e7e",
   "metadata": {},
   "outputs": [
    {
     "data": {
      "text/plain": [
       "'Mozilla/5.0 (Macintosh; Intel Mac OS X 10_15_7) AppleWebKit/537.36 (KHTML, like Gecko) Chrome/117.0.0.0 Safari/537.36'"
      ]
     },
     "execution_count": 5,
     "metadata": {},
     "output_type": "execute_result"
    }
   ],
   "source": [
    "UserAgent().chrome"
   ]
  },
  {
   "cell_type": "code",
   "execution_count": 6,
   "id": "a7a69679",
   "metadata": {},
   "outputs": [
    {
     "data": {
      "text/plain": [
       "<Response [200]>"
      ]
     },
     "execution_count": 6,
     "metadata": {},
     "output_type": "execute_result"
    }
   ],
   "source": [
    "response = requests.get(page_link, headers={'User-Agent': UserAgent().chrome})\n",
    "response"
   ]
  },
  {
   "cell_type": "code",
   "execution_count": 7,
   "id": "9a97d8c5",
   "metadata": {},
   "outputs": [
    {
     "data": {
      "text/plain": [
       "requests.models.Response"
      ]
     },
     "execution_count": 7,
     "metadata": {},
     "output_type": "execute_result"
    }
   ],
   "source": [
    "type(response)"
   ]
  },
  {
   "cell_type": "code",
   "execution_count": 8,
   "id": "782ef178",
   "metadata": {},
   "outputs": [],
   "source": [
    "html = response.content"
   ]
  },
  {
   "cell_type": "code",
   "execution_count": 9,
   "id": "070680f4",
   "metadata": {},
   "outputs": [
    {
     "data": {
      "text/plain": [
       "b'<!DOCTYPE html><html lang=\"ru\" prefix=\"og: https://ogp.me/ns# video: http://ogp.me/ns/video# ya: https://webmaster.yandex.ru/vocabularies/\"><head><base href=\"https://www.ivi.ru/\"/><script type=\"text/javascript\">\\n                        (function(m,e,t,r,i,k,a){m[i]=m[i]||function(){(m[i].a=m[i].a||[]).push(arguments)};\\n                        m[i].l=1*new Date();\\n                        for (var j = 0; j < document.scripts.length; j++) {if (document.scripts[j].src === r) { return; }}\\n                        k=e.createElement(t),a=e.getElementsByTagName(t)[0],k.async=1,k.src=r,a.parentNode.insertBefore(k,a)})\\n                        (window, document, \"script\", \"https://mc.yandex.ru/metrika/tag.js\", \"ym\");\\n        \\n                        ym(89754140, \"init\", {\\n                            clickmap:true,\\n                            trackLinks:true,\\n                            accurateTrackBounce:true\\n                        });\\n                    </script><noscript><div><img src=\"https:'"
      ]
     },
     "execution_count": 9,
     "metadata": {},
     "output_type": "execute_result"
    }
   ],
   "source": [
    "html[:1000]"
   ]
  },
  {
   "cell_type": "code",
   "execution_count": 10,
   "id": "8e37bf42",
   "metadata": {},
   "outputs": [
    {
     "data": {
      "text/plain": [
       "b'\":\"\",\"passwordResetParams\":null,\"loginChangeAllowed\":false,\"authAction\":null,\"authType\":null,\"code\":\"\",\"returnStep\":null,\"codeDevice\":\"\",\"profileData\":null,\"phoneAuthenticationMethod\":\"sms\",\"isLoginFromMenu\":false,\"backRoute\":\"\"},\"buy\":{\"initPsKey\":null,\"initPsMethod\":null,\"initPsAccountId\":null,\"phone\":\"\",\"subscriptionId\":null},\"certificate\":{\"key\":\"\"},\"navigationBar\":{\"title\":\"\",\"subtitle\":\"\",\"prevTitle\":\"\",\"initSubtitle\":\"\",\"totalStepsInScenario\":null},\"contacts\":{\"contactType\":\"email\",\"contactValue\":\"\",\"availableContactValue\":null,\"numberOfAttempts\":null,\"availableMerge\":false,\"mode\":\"bind\"},\"needAcceptOferta\":false,\"reloadOnClose\":false},\"catalog\":{\"pages\":{\"1\":{\"index\":1,\"items\":[16784,16935,17317,17109,17338,14194,16861,17162,17325,17240,16974,15277,14241,15730,17078,16648,17406,16525,17324,17417,17365,17086,16283,15293,17405,16790,17279,16284,15440,17322],\"status\":\"success\"}},\"initialPage\":1,\"itemsCount\":436,\"itemsPerRow\":7}}</script><div id=\"footer-assets\"></div></body></html>'"
      ]
     },
     "execution_count": 10,
     "metadata": {},
     "output_type": "execute_result"
    }
   ],
   "source": [
    "html[-1000:]"
   ]
  },
  {
   "cell_type": "code",
   "execution_count": 11,
   "id": "dd3662f6",
   "metadata": {},
   "outputs": [
    {
     "data": {
      "text/plain": [
       "559595"
      ]
     },
     "execution_count": 11,
     "metadata": {},
     "output_type": "execute_result"
    }
   ],
   "source": [
    "len(html)"
   ]
  },
  {
   "cell_type": "code",
   "execution_count": 12,
   "id": "61e62d4a",
   "metadata": {},
   "outputs": [
    {
     "data": {
      "text/plain": [
       "bytes"
      ]
     },
     "execution_count": 12,
     "metadata": {},
     "output_type": "execute_result"
    }
   ],
   "source": [
    "type(html)"
   ]
  },
  {
   "cell_type": "markdown",
   "id": "0842e211",
   "metadata": {},
   "source": [
    "Готовим суп))"
   ]
  },
  {
   "cell_type": "code",
   "execution_count": 13,
   "id": "dc3707a2",
   "metadata": {},
   "outputs": [],
   "source": [
    "from bs4 import BeautifulSoup"
   ]
  },
  {
   "cell_type": "code",
   "execution_count": 14,
   "id": "f5dd96e0",
   "metadata": {},
   "outputs": [],
   "source": [
    "soup = BeautifulSoup(html, 'html.parser') # В опции также можно указать lxml,\n",
    "                                         # если предварительно установить одноименный пакет"
   ]
  },
  {
   "cell_type": "code",
   "execution_count": 15,
   "id": "3dffe100",
   "metadata": {},
   "outputs": [
    {
     "data": {
      "text/plain": [
       "bs4.BeautifulSoup"
      ]
     },
     "execution_count": 15,
     "metadata": {},
     "output_type": "execute_result"
    }
   ],
   "source": [
    "type(soup)"
   ]
  },
  {
   "cell_type": "code",
   "execution_count": 16,
   "id": "0866f1fd",
   "metadata": {},
   "outputs": [
    {
     "name": "stdout",
     "output_type": "stream",
     "text": [
      "<!DOCTYPE html>\n",
      "<html lang=\"ru\" prefix=\"og: https://ogp.me/ns# video: http://ogp.me/ns/video# ya: https://webmaster.yandex.ru/vocabularies/\">\n",
      " <head>\n",
      "  <base href=\"https://www.ivi.ru/\"/>\n",
      "  <script type=\"text/javascript\">\n",
      "   (function(m,e,t,r,i,k,a){m[i]=m[i]||function(){(m[i].a=m[i].a||[]).push(arguments)};\n",
      "                        m[i].l=1*new Date();\n",
      "                        for (var j = 0; j < document.scripts.length; j++) {if (document.scripts[j].src === r) { return; }}\n",
      "                        k=e.createElement(t),a=e.getElementsByTagName(t)[0],k.async=1,k.src=r,a.parentNode.insertBefore(k,a)})\n",
      "                        (window, document, \"script\", \"https://mc.yandex.ru/metrika/tag.js\", \"ym\");\n",
      "        \n",
      "                        ym(89754140, \"init\", {\n",
      "                            clickmap:true,\n",
      "                            trackLinks:true,\n",
      "                            accurateTrackBounce:true\n",
      "                        });\n",
      "  </script>\n",
      "  <noscript>\n",
      "   <div>\n",
      "    <img alt=\"\" src=\"https://mc.yandex.ru/watch/89754140\" style=\"position:absolute;left:-9999px\"/>\n",
      "   </div>\n",
      "  </noscript>\n",
      "  <title>\n",
      "   Сериалы с высоким рейтингом по подписке смотреть онлайн подборку. Список лучшего контента в HD качестве\n",
      "  </title>\n",
      "  <link href=\"https://gambit-parent.dfs.ivi.ru/dist/release_24.01.07_801af318/es5/storm.bundle.83e0a3.css\" rel=\"stylesheet\"/>\n",
      "  <link href=\"https://gambit-parent.dfs.ivi.ru/dist/release_24.01.07_801af318/es5/SingleCollectionPage.f3ca8a.css\" rel=\"stylesheet\"/>\n",
      "  <script defer=\"\" fetchpriority=\"high\" src=\"https://gambit-parent.dfs.ivi.ru/dist/release_24.01.07_801af318/es5/storm.polyfill.js\">\n",
      "  </script>\n",
      "  <script defer=\"\" fetchpriority=\"high\" src=\"https://gambit-parent.dfs.ivi.ru/dist/release_24.01.07_801af318/es5/SingleCollectionPage.f3ca8a.js\">\n",
      "  </script>\n",
      "  <script defer=\"\" fetchpriority=\"high\" src=\"https://gambit-parent.dfs.ivi.ru/dist/release_24.01.07_801af318/es5/storm.bundle.83e0a3.js\">\n",
      "  </script>\n",
      "  <meta charset=\"utf-8\"/>\n",
      "  <meta content=\"width=device-width, initial-scale=1\" name=\"viewport\"/>\n",
      "  <meta content=\"Сериалы с высоким рейтингом по подписке, Подборка, общие\" name=\"keywords\"/>\n",
      "  <meta content=\"Сериалы с высоким рейтингом по подписке смотреть онлайн подборку. Список лучшего контента в HD качестве\" property=\"og:title\"/>\n",
      "  <meta content=\"Сериалы с высоким рейтингом по подписке смотреть онлайн подборку. Список лучшего контента в HD качестве\" property=\"mrc__share_title\"/>\n",
      "  <meta content=\"https://gambit-parent.dfs.ivi.ru/dist/release_24.01.07_801af318/storm/images/social/ivi_1000x523.jpg\" property=\"og:image\"/>\n",
      "  <meta content=\"968\" property=\"og:image:width\"/>\n",
      "  <meta content=\"504\" property=\"og:image:height\"/>\n",
      "  <meta content=\"https://gambit-parent.dfs.ivi.ru/dist/release_24.01.07_801af318/storm/images/social/ivi_1000x523.jpg\" name=\"twitter:image:src\"/>\n",
      "  <link href=\"https://gambit-parent.dfs.ivi.ru/dist/release_24.01.07_801af318/storm/images/social/ivi_1000x523.jpg\" rel=\"image_src\"/>\n",
      "  <link href=\"https://gambit-parent.dfs.ivi.ru/dist/release_24.01\n"
     ]
    }
   ],
   "source": [
    "print(soup.prettify()[:3000])"
   ]
  },
  {
   "cell_type": "code",
   "execution_count": 17,
   "id": "8db11a20",
   "metadata": {},
   "outputs": [
    {
     "data": {
      "text/plain": [
       "<title>Сериалы с высоким рейтингом по подписке смотреть онлайн подборку. Список лучшего контента в HD качестве</title>"
      ]
     },
     "execution_count": 17,
     "metadata": {},
     "output_type": "execute_result"
    }
   ],
   "source": [
    "soup.html.head.title"
   ]
  },
  {
   "cell_type": "code",
   "execution_count": 18,
   "id": "295247f5",
   "metadata": {},
   "outputs": [
    {
     "data": {
      "text/plain": [
       "bs4.element.Tag"
      ]
     },
     "execution_count": 18,
     "metadata": {},
     "output_type": "execute_result"
    }
   ],
   "source": [
    "type(soup.html.head.title)"
   ]
  },
  {
   "cell_type": "code",
   "execution_count": 19,
   "id": "8bf50d47",
   "metadata": {},
   "outputs": [
    {
     "data": {
      "text/plain": [
       "'Сериалы с высоким рейтингом по подписке смотреть онлайн подборку. Список лучшего контента в HD качестве'"
      ]
     },
     "execution_count": 19,
     "metadata": {},
     "output_type": "execute_result"
    }
   ],
   "source": [
    "soup.html.head.title.text"
   ]
  },
  {
   "cell_type": "code",
   "execution_count": 20,
   "id": "9c86cef1",
   "metadata": {},
   "outputs": [
    {
     "data": {
      "text/plain": [
       "str"
      ]
     },
     "execution_count": 20,
     "metadata": {},
     "output_type": "execute_result"
    }
   ],
   "source": [
    "type(soup.html.head.title.text)"
   ]
  },
  {
   "cell_type": "code",
   "execution_count": 21,
   "id": "d37fab11",
   "metadata": {},
   "outputs": [
    {
     "data": {
      "text/plain": [
       "<a class=\"nbl-slimPosterBlock nbl-slimPosterBlock_type_poster nbl-slimPosterBlock_iconStatus_none nbl-slimPosterBlock_available collections__nbl-slimPosterBlock\" data-content-id=\"16784\" href=\"/watch/zolotoe-dno\" to=\"/watch/zolotoe-dno\"><div class=\"nbl-slimPosterBlock__imageSection\"><div class=\"nbl-poster nbl-poster_type_poster nbl-poster_extrasMode_rusk nbl-slimPosterBlock__nbl-poster\"><div class=\"nbl-poster__imageWrapper\"><picture><source media=\"(min-width: 1272px)\" srcset=\"https://thumbs.dfs.ivi.ru/storage23/contents/9/d/d4127102d75bf8fd5ce870a3e42e8b.jpg/153x235/?q=85 1x, https://thumbs.dfs.ivi.ru/storage23/contents/9/d/d4127102d75bf8fd5ce870a3e42e8b.jpg/230x353/?q=85 1.5x, https://thumbs.dfs.ivi.ru/storage23/contents/9/d/d4127102d75bf8fd5ce870a3e42e8b.jpg/306x470/?q=85 2x\"/><source media=\"(min-width: 1096px)\" srcset=\"https://thumbs.dfs.ivi.ru/storage23/contents/9/d/d4127102d75bf8fd5ce870a3e42e8b.jpg/181x278/?q=85 1x, https://thumbs.dfs.ivi.ru/storage23/contents/9/d/d4127102d75bf8fd5ce870a3e42e8b.jpg/272x417/?q=85 1.5x, https://thumbs.dfs.ivi.ru/storage23/contents/9/d/d4127102d75bf8fd5ce870a3e42e8b.jpg/362x556/?q=85 2x\"/><source media=\"(min-width: 920px)\" srcset=\"https://thumbs.dfs.ivi.ru/storage23/contents/9/d/d4127102d75bf8fd5ce870a3e42e8b.jpg/187x287/?q=85 1x, https://thumbs.dfs.ivi.ru/storage23/contents/9/d/d4127102d75bf8fd5ce870a3e42e8b.jpg/281x431/?q=85 1.5x, https://thumbs.dfs.ivi.ru/storage23/contents/9/d/d4127102d75bf8fd5ce870a3e42e8b.jpg/374x574/?q=85 2x\"/><source media=\"(min-width: 744px)\" srcset=\"https://thumbs.dfs.ivi.ru/storage23/contents/9/d/d4127102d75bf8fd5ce870a3e42e8b.jpg/196x300/?q=85 1x, https://thumbs.dfs.ivi.ru/storage23/contents/9/d/d4127102d75bf8fd5ce870a3e42e8b.jpg/294x450/?q=85 1.5x, https://thumbs.dfs.ivi.ru/storage23/contents/9/d/d4127102d75bf8fd5ce870a3e42e8b.jpg/392x600/?q=85 2x\"/><source media=\"(min-width: 600px)\" srcset=\"https://thumbs.dfs.ivi.ru/storage23/contents/9/d/d4127102d75bf8fd5ce870a3e42e8b.jpg/210x322/?q=85 1x, https://thumbs.dfs.ivi.ru/storage23/contents/9/d/d4127102d75bf8fd5ce870a3e42e8b.jpg/315x483/?q=85 1.5x, https://thumbs.dfs.ivi.ru/storage23/contents/9/d/d4127102d75bf8fd5ce870a3e42e8b.jpg/420x644/?q=85 2x\"/><source media=\"(min-width: 392px)\" srcset=\"https://thumbs.dfs.ivi.ru/storage23/contents/9/d/d4127102d75bf8fd5ce870a3e42e8b.jpg/144x221/?q=85 1x, https://thumbs.dfs.ivi.ru/storage23/contents/9/d/d4127102d75bf8fd5ce870a3e42e8b.jpg/216x332/?q=85 1.5x, https://thumbs.dfs.ivi.ru/storage23/contents/9/d/d4127102d75bf8fd5ce870a3e42e8b.jpg/288x442/?q=85 2x\"/><img alt=\"Золотое дно\" class=\"nbl-poster__image\" data-stub=\"false\" src=\"https://thumbs.dfs.ivi.ru/storage23/contents/9/d/d4127102d75bf8fd5ce870a3e42e8b.jpg/163x250/?q=85\" srcset=\"https://thumbs.dfs.ivi.ru/storage23/contents/9/d/d4127102d75bf8fd5ce870a3e42e8b.jpg/245x375/?q=85 1.5x, https://thumbs.dfs.ivi.ru/storage23/contents/9/d/d4127102d75bf8fd5ce870a3e42e8b.jpg/326x500/?q=85 2x\"/></picture></div><div class=\"nbl-poster__properties\"><div class=\"nbl-poster__properties-inner\"><div class=\"nbl-poster__propertiesRow\"><div class=\"nbl-poster__nbl-ratingCompact nbl-ratingCompact nbl-ratingCompact_style_utis nbl-ratingCompact_hasExtra_0\"><div class=\"nbl-ratingCompact__value\"><div class=\"nbl-ratingCompact__valueInteger\">8</div><div class=\"nbl-ratingCompact__valueFraction\">,<!-- -->4</div></div></div></div><div class=\"nbl-poster__propertiesInfo\"><div class=\"nbl-poster__propertiesRow\">2024, Россия, Драмы</div><div class=\"nbl-poster__propertiesRow\">1 сезон</div></div></div></div><div class=\"nbl-textBadge nbl-textBadge_size_dadom nbl-textBadge_style_alli nbl-textBadge_isShadowEnabled_1 nbl-poster__nbl-textBadge nbl-poster__mainTextBadge\"><div class=\"nbl-textBadge__text\">сериал Иви</div></div><div class=\"nbl-ageBadge nbl-ageBadge nbl-ageBadge_value_18 nbl-poster__nbl-ageBadge\"></div></div></div><div class=\"nbl-slimPosterBlock__textSection\"><div class=\"nbl-slimPosterBlock__title\"><span class=\"nbl-slimPosterBlock__titleText\">Золотое дно</span></div><div class=\"nbl-slimPosterBlock__extra\"><div class=\"nbl-slimPosterBlock__extraItem\"><div class=\"nbl-stub nbl-stub_hasBlinkAnimation_1 nbl-stub_style_rodi\"></div></div></div></div></a>"
      ]
     },
     "execution_count": 21,
     "metadata": {},
     "output_type": "execute_result"
    }
   ],
   "source": [
    "obj = soup.find('a', attrs = {'class':'nbl-slimPosterBlock'})\n",
    "obj"
   ]
  },
  {
   "cell_type": "code",
   "execution_count": 22,
   "id": "63959e0f",
   "metadata": {},
   "outputs": [
    {
     "data": {
      "text/plain": [
       "['nbl-slimPosterBlock',\n",
       " 'nbl-slimPosterBlock_type_poster',\n",
       " 'nbl-slimPosterBlock_iconStatus_none',\n",
       " 'nbl-slimPosterBlock_available',\n",
       " 'collections__nbl-slimPosterBlock']"
      ]
     },
     "execution_count": 22,
     "metadata": {},
     "output_type": "execute_result"
    }
   ],
   "source": [
    "obj.get(\"class\")"
   ]
  },
  {
   "cell_type": "code",
   "execution_count": 23,
   "id": "e8297882",
   "metadata": {},
   "outputs": [
    {
     "data": {
      "text/plain": [
       "'/watch/zolotoe-dno'"
      ]
     },
     "execution_count": 23,
     "metadata": {},
     "output_type": "execute_result"
    }
   ],
   "source": [
    "obj.attrs['href']"
   ]
  },
  {
   "cell_type": "code",
   "execution_count": 24,
   "id": "645cfca1",
   "metadata": {},
   "outputs": [
    {
     "name": "stdout",
     "output_type": "stream",
     "text": [
      "Тип данных до вытаскивания ссылки: <class 'bs4.element.Tag'>\n",
      "Тип данных после вытаскивания ссылки: <class 'str'>\n"
     ]
    }
   ],
   "source": [
    "print(\"Тип данных до вытаскивания ссылки:\", type(obj))\n",
    "print(\"Тип данных после вытаскивания ссылки:\", type(obj.attrs['href']))"
   ]
  },
  {
   "cell_type": "code",
   "execution_count": 25,
   "id": "9f8fd221",
   "metadata": {},
   "outputs": [
    {
     "data": {
      "text/plain": [
       "[<a class=\"nbl-slimPosterBlock nbl-slimPosterBlock_type_poster nbl-slimPosterBlock_iconStatus_none nbl-slimPosterBlock_available collections__nbl-slimPosterBlock\" data-content-id=\"16784\" href=\"/watch/zolotoe-dno\" to=\"/watch/zolotoe-dno\"><div class=\"nbl-slimPosterBlock__imageSection\"><div class=\"nbl-poster nbl-poster_type_poster nbl-poster_extrasMode_rusk nbl-slimPosterBlock__nbl-poster\"><div class=\"nbl-poster__imageWrapper\"><picture><source media=\"(min-width: 1272px)\" srcset=\"https://thumbs.dfs.ivi.ru/storage23/contents/9/d/d4127102d75bf8fd5ce870a3e42e8b.jpg/153x235/?q=85 1x, https://thumbs.dfs.ivi.ru/storage23/contents/9/d/d4127102d75bf8fd5ce870a3e42e8b.jpg/230x353/?q=85 1.5x, https://thumbs.dfs.ivi.ru/storage23/contents/9/d/d4127102d75bf8fd5ce870a3e42e8b.jpg/306x470/?q=85 2x\"/><source media=\"(min-width: 1096px)\" srcset=\"https://thumbs.dfs.ivi.ru/storage23/contents/9/d/d4127102d75bf8fd5ce870a3e42e8b.jpg/181x278/?q=85 1x, https://thumbs.dfs.ivi.ru/storage23/contents/9/d/d4127102d75bf8fd5ce870a3e42e8b.jpg/272x417/?q=85 1.5x, https://thumbs.dfs.ivi.ru/storage23/contents/9/d/d4127102d75bf8fd5ce870a3e42e8b.jpg/362x556/?q=85 2x\"/><source media=\"(min-width: 920px)\" srcset=\"https://thumbs.dfs.ivi.ru/storage23/contents/9/d/d4127102d75bf8fd5ce870a3e42e8b.jpg/187x287/?q=85 1x, https://thumbs.dfs.ivi.ru/storage23/contents/9/d/d4127102d75bf8fd5ce870a3e42e8b.jpg/281x431/?q=85 1.5x, https://thumbs.dfs.ivi.ru/storage23/contents/9/d/d4127102d75bf8fd5ce870a3e42e8b.jpg/374x574/?q=85 2x\"/><source media=\"(min-width: 744px)\" srcset=\"https://thumbs.dfs.ivi.ru/storage23/contents/9/d/d4127102d75bf8fd5ce870a3e42e8b.jpg/196x300/?q=85 1x, https://thumbs.dfs.ivi.ru/storage23/contents/9/d/d4127102d75bf8fd5ce870a3e42e8b.jpg/294x450/?q=85 1.5x, https://thumbs.dfs.ivi.ru/storage23/contents/9/d/d4127102d75bf8fd5ce870a3e42e8b.jpg/392x600/?q=85 2x\"/><source media=\"(min-width: 600px)\" srcset=\"https://thumbs.dfs.ivi.ru/storage23/contents/9/d/d4127102d75bf8fd5ce870a3e42e8b.jpg/210x322/?q=85 1x, https://thumbs.dfs.ivi.ru/storage23/contents/9/d/d4127102d75bf8fd5ce870a3e42e8b.jpg/315x483/?q=85 1.5x, https://thumbs.dfs.ivi.ru/storage23/contents/9/d/d4127102d75bf8fd5ce870a3e42e8b.jpg/420x644/?q=85 2x\"/><source media=\"(min-width: 392px)\" srcset=\"https://thumbs.dfs.ivi.ru/storage23/contents/9/d/d4127102d75bf8fd5ce870a3e42e8b.jpg/144x221/?q=85 1x, https://thumbs.dfs.ivi.ru/storage23/contents/9/d/d4127102d75bf8fd5ce870a3e42e8b.jpg/216x332/?q=85 1.5x, https://thumbs.dfs.ivi.ru/storage23/contents/9/d/d4127102d75bf8fd5ce870a3e42e8b.jpg/288x442/?q=85 2x\"/><img alt=\"Золотое дно\" class=\"nbl-poster__image\" data-stub=\"false\" src=\"https://thumbs.dfs.ivi.ru/storage23/contents/9/d/d4127102d75bf8fd5ce870a3e42e8b.jpg/163x250/?q=85\" srcset=\"https://thumbs.dfs.ivi.ru/storage23/contents/9/d/d4127102d75bf8fd5ce870a3e42e8b.jpg/245x375/?q=85 1.5x, https://thumbs.dfs.ivi.ru/storage23/contents/9/d/d4127102d75bf8fd5ce870a3e42e8b.jpg/326x500/?q=85 2x\"/></picture></div><div class=\"nbl-poster__properties\"><div class=\"nbl-poster__properties-inner\"><div class=\"nbl-poster__propertiesRow\"><div class=\"nbl-poster__nbl-ratingCompact nbl-ratingCompact nbl-ratingCompact_style_utis nbl-ratingCompact_hasExtra_0\"><div class=\"nbl-ratingCompact__value\"><div class=\"nbl-ratingCompact__valueInteger\">8</div><div class=\"nbl-ratingCompact__valueFraction\">,<!-- -->4</div></div></div></div><div class=\"nbl-poster__propertiesInfo\"><div class=\"nbl-poster__propertiesRow\">2024, Россия, Драмы</div><div class=\"nbl-poster__propertiesRow\">1 сезон</div></div></div></div><div class=\"nbl-textBadge nbl-textBadge_size_dadom nbl-textBadge_style_alli nbl-textBadge_isShadowEnabled_1 nbl-poster__nbl-textBadge nbl-poster__mainTextBadge\"><div class=\"nbl-textBadge__text\">сериал Иви</div></div><div class=\"nbl-ageBadge nbl-ageBadge nbl-ageBadge_value_18 nbl-poster__nbl-ageBadge\"></div></div></div><div class=\"nbl-slimPosterBlock__textSection\"><div class=\"nbl-slimPosterBlock__title\"><span class=\"nbl-slimPosterBlock__titleText\">Золотое дно</span></div><div class=\"nbl-slimPosterBlock__extra\"><div class=\"nbl-slimPosterBlock__extraItem\"><div class=\"nbl-stub nbl-stub_hasBlinkAnimation_1 nbl-stub_style_rodi\"></div></div></div></div></a>,\n",
       " <a class=\"nbl-slimPosterBlock nbl-slimPosterBlock_type_poster nbl-slimPosterBlock_iconStatus_none nbl-slimPosterBlock_available collections__nbl-slimPosterBlock\" data-content-id=\"16935\" href=\"/watch/zimorodok\" to=\"/watch/zimorodok\"><div class=\"nbl-slimPosterBlock__imageSection\"><div class=\"nbl-poster nbl-poster_type_poster nbl-poster_extrasMode_rusk nbl-slimPosterBlock__nbl-poster\"><div class=\"nbl-poster__imageWrapper\"><picture><source media=\"(min-width: 1272px)\" srcset=\"https://thumbs.dfs.ivi.ru/storage29/contents/c/4/29cd736a592ed6e784228c5968128f.jpg/153x235/?q=85 1x, https://thumbs.dfs.ivi.ru/storage29/contents/c/4/29cd736a592ed6e784228c5968128f.jpg/230x353/?q=85 1.5x, https://thumbs.dfs.ivi.ru/storage29/contents/c/4/29cd736a592ed6e784228c5968128f.jpg/306x470/?q=85 2x\"/><source media=\"(min-width: 1096px)\" srcset=\"https://thumbs.dfs.ivi.ru/storage29/contents/c/4/29cd736a592ed6e784228c5968128f.jpg/181x278/?q=85 1x, https://thumbs.dfs.ivi.ru/storage29/contents/c/4/29cd736a592ed6e784228c5968128f.jpg/272x417/?q=85 1.5x, https://thumbs.dfs.ivi.ru/storage29/contents/c/4/29cd736a592ed6e784228c5968128f.jpg/362x556/?q=85 2x\"/><source media=\"(min-width: 920px)\" srcset=\"https://thumbs.dfs.ivi.ru/storage29/contents/c/4/29cd736a592ed6e784228c5968128f.jpg/187x287/?q=85 1x, https://thumbs.dfs.ivi.ru/storage29/contents/c/4/29cd736a592ed6e784228c5968128f.jpg/281x431/?q=85 1.5x, https://thumbs.dfs.ivi.ru/storage29/contents/c/4/29cd736a592ed6e784228c5968128f.jpg/374x574/?q=85 2x\"/><source media=\"(min-width: 744px)\" srcset=\"https://thumbs.dfs.ivi.ru/storage29/contents/c/4/29cd736a592ed6e784228c5968128f.jpg/196x300/?q=85 1x, https://thumbs.dfs.ivi.ru/storage29/contents/c/4/29cd736a592ed6e784228c5968128f.jpg/294x450/?q=85 1.5x, https://thumbs.dfs.ivi.ru/storage29/contents/c/4/29cd736a592ed6e784228c5968128f.jpg/392x600/?q=85 2x\"/><source media=\"(min-width: 600px)\" srcset=\"https://thumbs.dfs.ivi.ru/storage29/contents/c/4/29cd736a592ed6e784228c5968128f.jpg/210x322/?q=85 1x, https://thumbs.dfs.ivi.ru/storage29/contents/c/4/29cd736a592ed6e784228c5968128f.jpg/315x483/?q=85 1.5x, https://thumbs.dfs.ivi.ru/storage29/contents/c/4/29cd736a592ed6e784228c5968128f.jpg/420x644/?q=85 2x\"/><source media=\"(min-width: 392px)\" srcset=\"https://thumbs.dfs.ivi.ru/storage29/contents/c/4/29cd736a592ed6e784228c5968128f.jpg/144x221/?q=85 1x, https://thumbs.dfs.ivi.ru/storage29/contents/c/4/29cd736a592ed6e784228c5968128f.jpg/216x332/?q=85 1.5x, https://thumbs.dfs.ivi.ru/storage29/contents/c/4/29cd736a592ed6e784228c5968128f.jpg/288x442/?q=85 2x\"/><img alt=\"Зимородок\" class=\"nbl-poster__image\" data-stub=\"false\" src=\"https://thumbs.dfs.ivi.ru/storage29/contents/c/4/29cd736a592ed6e784228c5968128f.jpg/163x250/?q=85\" srcset=\"https://thumbs.dfs.ivi.ru/storage29/contents/c/4/29cd736a592ed6e784228c5968128f.jpg/245x375/?q=85 1.5x, https://thumbs.dfs.ivi.ru/storage29/contents/c/4/29cd736a592ed6e784228c5968128f.jpg/326x500/?q=85 2x\"/></picture></div><div class=\"nbl-poster__properties\"><div class=\"nbl-poster__properties-inner\"><div class=\"nbl-poster__propertiesRow\"><div class=\"nbl-poster__nbl-ratingCompact nbl-ratingCompact nbl-ratingCompact_style_utis nbl-ratingCompact_hasExtra_0\"><div class=\"nbl-ratingCompact__value\"><div class=\"nbl-ratingCompact__valueInteger\">7</div><div class=\"nbl-ratingCompact__valueFraction\">,<!-- -->9</div></div></div></div><div class=\"nbl-poster__propertiesInfo\"><div class=\"nbl-poster__propertiesRow\">2022-2024, Турция, Драмы</div><div class=\"nbl-poster__propertiesRow\">2 сезона</div></div></div></div><div class=\"nbl-ageBadge nbl-ageBadge nbl-ageBadge_value_16 nbl-poster__nbl-ageBadge\"></div></div></div><div class=\"nbl-slimPosterBlock__textSection\"><div class=\"nbl-slimPosterBlock__title\"><span class=\"nbl-slimPosterBlock__titleText\">Зимородок</span></div><div class=\"nbl-slimPosterBlock__extra\"><div class=\"nbl-slimPosterBlock__extraItem\"><div class=\"nbl-stub nbl-stub_hasBlinkAnimation_1 nbl-stub_style_rodi\"></div></div></div></div></a>,\n",
       " <a class=\"nbl-slimPosterBlock nbl-slimPosterBlock_type_poster nbl-slimPosterBlock_iconStatus_none nbl-slimPosterBlock_available collections__nbl-slimPosterBlock\" data-content-id=\"17317\" href=\"/watch/sovershenno-drugoj\" to=\"/watch/sovershenno-drugoj\"><div class=\"nbl-slimPosterBlock__imageSection\"><div class=\"nbl-poster nbl-poster_type_poster nbl-poster_extrasMode_rusk nbl-slimPosterBlock__nbl-poster\"><div class=\"nbl-poster__imageWrapper\"><picture><source media=\"(min-width: 1272px)\" srcset=\"https://thumbs.dfs.ivi.ru/storage26/contents/c/1/4e4052cd66159be32a56d50295e1c9.jpg/153x235/?q=85 1x, https://thumbs.dfs.ivi.ru/storage26/contents/c/1/4e4052cd66159be32a56d50295e1c9.jpg/230x353/?q=85 1.5x, https://thumbs.dfs.ivi.ru/storage26/contents/c/1/4e4052cd66159be32a56d50295e1c9.jpg/306x470/?q=85 2x\"/><source media=\"(min-width: 1096px)\" srcset=\"https://thumbs.dfs.ivi.ru/storage26/contents/c/1/4e4052cd66159be32a56d50295e1c9.jpg/181x278/?q=85 1x, https://thumbs.dfs.ivi.ru/storage26/contents/c/1/4e4052cd66159be32a56d50295e1c9.jpg/272x417/?q=85 1.5x, https://thumbs.dfs.ivi.ru/storage26/contents/c/1/4e4052cd66159be32a56d50295e1c9.jpg/362x556/?q=85 2x\"/><source media=\"(min-width: 920px)\" srcset=\"https://thumbs.dfs.ivi.ru/storage26/contents/c/1/4e4052cd66159be32a56d50295e1c9.jpg/187x287/?q=85 1x, https://thumbs.dfs.ivi.ru/storage26/contents/c/1/4e4052cd66159be32a56d50295e1c9.jpg/281x431/?q=85 1.5x, https://thumbs.dfs.ivi.ru/storage26/contents/c/1/4e4052cd66159be32a56d50295e1c9.jpg/374x574/?q=85 2x\"/><source media=\"(min-width: 744px)\" srcset=\"https://thumbs.dfs.ivi.ru/storage26/contents/c/1/4e4052cd66159be32a56d50295e1c9.jpg/196x300/?q=85 1x, https://thumbs.dfs.ivi.ru/storage26/contents/c/1/4e4052cd66159be32a56d50295e1c9.jpg/294x450/?q=85 1.5x, https://thumbs.dfs.ivi.ru/storage26/contents/c/1/4e4052cd66159be32a56d50295e1c9.jpg/392x600/?q=85 2x\"/><source media=\"(min-width: 600px)\" srcset=\"https://thumbs.dfs.ivi.ru/storage26/contents/c/1/4e4052cd66159be32a56d50295e1c9.jpg/210x322/?q=85 1x, https://thumbs.dfs.ivi.ru/storage26/contents/c/1/4e4052cd66159be32a56d50295e1c9.jpg/315x483/?q=85 1.5x, https://thumbs.dfs.ivi.ru/storage26/contents/c/1/4e4052cd66159be32a56d50295e1c9.jpg/420x644/?q=85 2x\"/><source media=\"(min-width: 392px)\" srcset=\"https://thumbs.dfs.ivi.ru/storage26/contents/c/1/4e4052cd66159be32a56d50295e1c9.jpg/144x221/?q=85 1x, https://thumbs.dfs.ivi.ru/storage26/contents/c/1/4e4052cd66159be32a56d50295e1c9.jpg/216x332/?q=85 1.5x, https://thumbs.dfs.ivi.ru/storage26/contents/c/1/4e4052cd66159be32a56d50295e1c9.jpg/288x442/?q=85 2x\"/><img alt=\"Совершенно другой\" class=\"nbl-poster__image\" data-stub=\"false\" src=\"https://thumbs.dfs.ivi.ru/storage26/contents/c/1/4e4052cd66159be32a56d50295e1c9.jpg/163x250/?q=85\" srcset=\"https://thumbs.dfs.ivi.ru/storage26/contents/c/1/4e4052cd66159be32a56d50295e1c9.jpg/245x375/?q=85 1.5x, https://thumbs.dfs.ivi.ru/storage26/contents/c/1/4e4052cd66159be32a56d50295e1c9.jpg/326x500/?q=85 2x\"/></picture></div><div class=\"nbl-poster__properties\"><div class=\"nbl-poster__properties-inner\"><div class=\"nbl-poster__propertiesRow\"><div class=\"nbl-poster__nbl-ratingCompact nbl-ratingCompact nbl-ratingCompact_style_utis nbl-ratingCompact_hasExtra_0\"><div class=\"nbl-ratingCompact__value\"><div class=\"nbl-ratingCompact__valueInteger\">8</div><div class=\"nbl-ratingCompact__valueFraction\">,<!-- -->3</div></div></div></div><div class=\"nbl-poster__propertiesInfo\"><div class=\"nbl-poster__propertiesRow\">2023, Турция, Триллеры</div><div class=\"nbl-poster__propertiesRow\">1 сезон</div></div></div></div><div class=\"nbl-textBadge nbl-textBadge_size_dadom nbl-textBadge_style_dor nbl-textBadge_isShadowEnabled_1 nbl-poster__nbl-textBadge nbl-poster__mainTextBadge\"><div class=\"nbl-textBadge__text\">мировая премьера</div></div><div class=\"nbl-ageBadge nbl-ageBadge nbl-ageBadge_value_18 nbl-poster__nbl-ageBadge\"></div></div></div><div class=\"nbl-slimPosterBlock__textSection\"><div class=\"nbl-slimPosterBlock__title\"><span class=\"nbl-slimPosterBlock__titleText\">Совершенно другой</span></div><div class=\"nbl-slimPosterBlock__extra\"><div class=\"nbl-slimPosterBlock__extraItem\"><div class=\"nbl-stub nbl-stub_hasBlinkAnimation_1 nbl-stub_style_rodi\"></div></div></div></div></a>]"
      ]
     },
     "execution_count": 25,
     "metadata": {},
     "output_type": "execute_result"
    }
   ],
   "source": [
    "film_links = soup.findAll(lambda tag: tag.name == 'a' and tag.get('class') == ['nbl-slimPosterBlock',\n",
    " 'nbl-slimPosterBlock_type_poster',\n",
    " 'nbl-slimPosterBlock_iconStatus_none',\n",
    " 'nbl-slimPosterBlock_available',\n",
    " 'collections__nbl-slimPosterBlock'])\n",
    "film_links[:3]"
   ]
  },
  {
   "cell_type": "code",
   "execution_count": 26,
   "id": "1a0b9b4d",
   "metadata": {},
   "outputs": [
    {
     "data": {
      "text/plain": [
       "30"
      ]
     },
     "execution_count": 26,
     "metadata": {},
     "output_type": "execute_result"
    }
   ],
   "source": [
    "len(film_links)"
   ]
  },
  {
   "cell_type": "code",
   "execution_count": 27,
   "id": "8f37a138",
   "metadata": {
    "scrolled": true
   },
   "outputs": [],
   "source": [
    "film_links = [link.attrs['href'] for link in film_links]"
   ]
  },
  {
   "cell_type": "code",
   "execution_count": 28,
   "id": "aeb97013",
   "metadata": {},
   "outputs": [
    {
     "data": {
      "text/plain": [
       "['/watch/zolotoe-dno',\n",
       " '/watch/zimorodok',\n",
       " '/watch/sovershenno-drugoj',\n",
       " '/watch/klyukvennyij-scherbet',\n",
       " '/watch/spryach-menya',\n",
       " '/watch/nezhnost',\n",
       " '/watch/semya-2023',\n",
       " '/watch/etot-gorod-posleduet-za-toboj',\n",
       " '/watch/dikij',\n",
       " '/watch/sama-vinovata']"
      ]
     },
     "execution_count": 28,
     "metadata": {},
     "output_type": "execute_result"
    }
   ],
   "source": [
    "film_links[:10]"
   ]
  },
  {
   "cell_type": "code",
   "execution_count": 29,
   "id": "5bd0e27d",
   "metadata": {},
   "outputs": [],
   "source": [
    "def getPageLinks(page_number):\n",
    "    \"\"\"\n",
    "        Возвращает список ссылок на мемы, полученный с текущей страницы\n",
    "\n",
    "        page_number: int/string\n",
    "            номер страницы для парсинга\n",
    "\n",
    "    \"\"\"\n",
    "    # составляем ссылку на страницу поиска\n",
    "    page_link = 'https://www.ivi.ru/collections/serialy-s-vyisokim-rejtingom/page{}'.format(page_number)\n",
    "\n",
    "    # запрашиваем данные по ней\n",
    "    response = requests.get(page_link, headers={'User-Agent': UserAgent().chrome})\n",
    "\n",
    "    if not response.ok:\n",
    "        # если сервер нам отказал, вернем пустой лист для текущей страницы\n",
    "        return []\n",
    "\n",
    "    # получаем содержимое страницы и переводим в суп\n",
    "    html = response.content\n",
    "    soup = BeautifulSoup(html,'html.parser')\n",
    "\n",
    "    # наконец, ищем ссылки на мемы и очищаем их от ненужных тэгов\n",
    "    film_links = soup.findAll(lambda tag: tag.name == 'a' and tag.get('class') == ['nbl-slimPosterBlock',\n",
    " 'nbl-slimPosterBlock_type_poster',\n",
    " 'nbl-slimPosterBlock_iconStatus_none',\n",
    " 'nbl-slimPosterBlock_available',\n",
    " 'collections__nbl-slimPosterBlock'])\n",
    "    film_links = ['https://www.ivi.ru' + link.attrs['href'] for link in film_links]\n",
    "\n",
    "    return film_links"
   ]
  },
  {
   "cell_type": "code",
   "execution_count": 30,
   "id": "c92df1ac",
   "metadata": {},
   "outputs": [
    {
     "data": {
      "text/plain": [
       "['https://www.ivi.ru/watch/zolotoe-dno', 'https://www.ivi.ru/watch/zimorodok']"
      ]
     },
     "execution_count": 30,
     "metadata": {},
     "output_type": "execute_result"
    }
   ],
   "source": [
    "film_links = getPageLinks(1)\n",
    "film_links[:2]"
   ]
  },
  {
   "cell_type": "code",
   "execution_count": 31,
   "id": "4d1f2583",
   "metadata": {},
   "outputs": [],
   "source": [
    "film_page = 'https://www.ivi.tv/watch/nezhnost'\n",
    "response = requests.get(film_page, headers={'User-Agent': UserAgent().chrome})\n",
    "\n",
    "html = response.content\n",
    "soup = BeautifulSoup(html,'html.parser')"
   ]
  },
  {
   "cell_type": "code",
   "execution_count": 32,
   "id": "b7e0f970",
   "metadata": {},
   "outputs": [
    {
     "data": {
      "text/plain": [
       "<div class=\"nbl-ratingPlate__value\">8,6</div>"
      ]
     },
     "execution_count": 32,
     "metadata": {},
     "output_type": "execute_result"
    }
   ],
   "source": [
    "raiting = soup.find(attrs={'class':'nbl-ratingPlate__value'})\n",
    "raiting"
   ]
  },
  {
   "cell_type": "code",
   "execution_count": 33,
   "id": "9f20497e",
   "metadata": {},
   "outputs": [
    {
     "data": {
      "text/plain": [
       "bs4.element.Tag"
      ]
     },
     "execution_count": 33,
     "metadata": {},
     "output_type": "execute_result"
    }
   ],
   "source": [
    "type(raiting)"
   ]
  },
  {
   "cell_type": "code",
   "execution_count": 34,
   "id": "8dd82303",
   "metadata": {},
   "outputs": [
    {
     "data": {
      "text/plain": [
       "bs4.element.NavigableString"
      ]
     },
     "execution_count": 34,
     "metadata": {},
     "output_type": "execute_result"
    }
   ],
   "source": [
    "raiting = raiting.string\n",
    "type(raiting)"
   ]
  },
  {
   "cell_type": "code",
   "execution_count": 35,
   "id": "976651ef",
   "metadata": {},
   "outputs": [
    {
     "data": {
      "text/plain": [
       "<div class=\"ratingBlock__extra\">187 633 оценки</div>"
      ]
     },
     "execution_count": 35,
     "metadata": {},
     "output_type": "execute_result"
    }
   ],
   "source": [
    "numberofraitings = soup.find(attrs={'class':'ratingBlock__extra'})\n",
    "numberofraitings"
   ]
  },
  {
   "cell_type": "code",
   "execution_count": 36,
   "id": "d9efa38e",
   "metadata": {},
   "outputs": [
    {
     "data": {
      "text/plain": [
       "str"
      ]
     },
     "execution_count": 36,
     "metadata": {},
     "output_type": "execute_result"
    }
   ],
   "source": [
    "numberofraitings = numberofraitings.string\n",
    "type(str(numberofraitings))"
   ]
  },
  {
   "cell_type": "code",
   "execution_count": 37,
   "id": "c19b569d",
   "metadata": {},
   "outputs": [
    {
     "data": {
      "text/plain": [
       "'187 633 оценки'"
      ]
     },
     "execution_count": 37,
     "metadata": {},
     "output_type": "execute_result"
    }
   ],
   "source": [
    "numberofraitings"
   ]
  },
  {
   "cell_type": "code",
   "execution_count": 38,
   "id": "fe659e8e",
   "metadata": {},
   "outputs": [],
   "source": [
    "numberofraitings = numberofraitings.split()[:-1]"
   ]
  },
  {
   "cell_type": "code",
   "execution_count": 39,
   "id": "8dfeccca",
   "metadata": {},
   "outputs": [
    {
     "data": {
      "text/plain": [
       "list"
      ]
     },
     "execution_count": 39,
     "metadata": {},
     "output_type": "execute_result"
    }
   ],
   "source": [
    "type(numberofraitings)"
   ]
  },
  {
   "cell_type": "code",
   "execution_count": 40,
   "id": "efb86a52",
   "metadata": {},
   "outputs": [
    {
     "data": {
      "text/plain": [
       "187633"
      ]
     },
     "execution_count": 40,
     "metadata": {},
     "output_type": "execute_result"
    }
   ],
   "source": [
    "numberofraitings = int(''.join(numberofraitings))\n",
    "numberofraitings"
   ]
  },
  {
   "cell_type": "code",
   "execution_count": 41,
   "id": "119da5c9",
   "metadata": {},
   "outputs": [],
   "source": [
    "def getStats(soup, stats):\n",
    "    \"\"\"\n",
    "        Возвращает очищенное число просмотров/коментариев/...\n",
    "\n",
    "        soup: объект bs4.BeautifulSoup\n",
    "            суп текущей страницы\n",
    "\n",
    "        stats: string\n",
    "            views/videos/photos/comments\n",
    "\n",
    "    \"\"\"\n",
    "    try:\n",
    "        obj = soup.find(attrs={'class':stats})\n",
    "        obj = obj.string\n",
    "        obj = int(obj.replace(',', ''))\n",
    "        #obj = obj.split()[:-1]\n",
    "        #obj = int(''.join(obj))\n",
    "    except:\n",
    "        obj=None\n",
    "\n",
    "    return obj"
   ]
  },
  {
   "cell_type": "code",
   "execution_count": 42,
   "id": "271ee4fe",
   "metadata": {},
   "outputs": [],
   "source": [
    "def getNumberofraitings(soup, stats1):\n",
    "    \"\"\"\n",
    "        Возвращает очищенное число просмотров/коментариев/...\n",
    "\n",
    "        soup: объект bs4.BeautifulSoup\n",
    "            суп текущей страницы\n",
    "\n",
    "        stats: string\n",
    "            views/videos/photos/comments\n",
    "\n",
    "    \"\"\"\n",
    "    try:\n",
    "        obj = soup.find(attrs={'class':stats1})\n",
    "        obj = obj.string\n",
    "        obj = obj.split()[:-1]\n",
    "        obj = int(''.join(obj))\n",
    "    except:\n",
    "        obj=None\n",
    "\n",
    "    return obj"
   ]
  },
  {
   "cell_type": "code",
   "execution_count": 43,
   "id": "f17845f1",
   "metadata": {},
   "outputs": [
    {
     "name": "stdout",
     "output_type": "stream",
     "text": [
      "Рейтинг: 86\n",
      "Количество оценок: 187633\n",
      "Отзывы: 308\n",
      "\n"
     ]
    }
   ],
   "source": [
    "raiting = getStats(soup, stats='nbl-ratingPlate__value')\n",
    "numberofraitings = getNumberofraitings(soup, stats1='ratingBlock__extra')\n",
    "reviews = getStats(soup, stats='nbl-superscript__text')\n",
    "\n",
    "print(\"Рейтинг: {}\\nКоличество оценок: {}\\nОтзывы: {}\\n\".format(raiting, numberofraitings, reviews))"
   ]
  },
  {
   "cell_type": "code",
   "execution_count": 44,
   "id": "86faa2fd",
   "metadata": {},
   "outputs": [
    {
     "data": {
      "text/plain": [
       "int"
      ]
     },
     "execution_count": 44,
     "metadata": {},
     "output_type": "execute_result"
    }
   ],
   "source": [
    "#type(raiting)\n",
    "type(numberofraitings)\n",
    "#type(reviews)"
   ]
  },
  {
   "cell_type": "code",
   "execution_count": 45,
   "id": "8f4d500e",
   "metadata": {},
   "outputs": [
    {
     "data": {
      "text/plain": [
       "<a class=\"nbl-link nbl-link_style_wovou\" href=\"https://www.ivi.ru/series/2020\">2020-2024</a>"
      ]
     },
     "execution_count": 45,
     "metadata": {},
     "output_type": "execute_result"
    }
   ],
   "source": [
    "year = soup.find(attrs={'class':'nbl-link nbl-link_style_wovou'})\n",
    "year"
   ]
  },
  {
   "cell_type": "code",
   "execution_count": 46,
   "id": "d4393756",
   "metadata": {},
   "outputs": [
    {
     "data": {
      "text/plain": [
       "bs4.element.Tag"
      ]
     },
     "execution_count": 46,
     "metadata": {},
     "output_type": "execute_result"
    }
   ],
   "source": [
    "type(year)"
   ]
  },
  {
   "cell_type": "code",
   "execution_count": 47,
   "id": "b1de6183",
   "metadata": {},
   "outputs": [],
   "source": [
    "year = year.string"
   ]
  },
  {
   "cell_type": "code",
   "execution_count": 48,
   "id": "e13f0e5f",
   "metadata": {},
   "outputs": [
    {
     "data": {
      "text/plain": [
       "bs4.element.NavigableString"
      ]
     },
     "execution_count": 48,
     "metadata": {},
     "output_type": "execute_result"
    }
   ],
   "source": [
    "type(year)"
   ]
  },
  {
   "cell_type": "code",
   "execution_count": 49,
   "id": "7180bfe7",
   "metadata": {},
   "outputs": [
    {
     "data": {
      "text/plain": [
       "'2020-2024'"
      ]
     },
     "execution_count": 49,
     "metadata": {},
     "output_type": "execute_result"
    }
   ],
   "source": [
    "year"
   ]
  },
  {
   "cell_type": "code",
   "execution_count": 50,
   "id": "76411fb7",
   "metadata": {},
   "outputs": [
    {
     "data": {
      "text/plain": [
       "str"
      ]
     },
     "execution_count": 50,
     "metadata": {},
     "output_type": "execute_result"
    }
   ],
   "source": [
    "year = str(year)\n",
    "type(year)"
   ]
  },
  {
   "cell_type": "code",
   "execution_count": 51,
   "id": "b334ff10",
   "metadata": {},
   "outputs": [
    {
     "data": {
      "text/plain": [
       "'2020-2024'"
      ]
     },
     "execution_count": 51,
     "metadata": {},
     "output_type": "execute_result"
    }
   ],
   "source": [
    "year"
   ]
  },
  {
   "cell_type": "code",
   "execution_count": 52,
   "id": "7a36c729",
   "metadata": {},
   "outputs": [],
   "source": [
    "def getText(soup):\n",
    "    \"\"\"\n",
    "        Возвращает текстовые описания фильма\n",
    "\n",
    "        soup: объект bs4.BeautifulSoup\n",
    "            суп текущей страницы\n",
    "\n",
    "    \"\"\"\n",
    "    # название фильма\n",
    "    film_name = soup.find('h1', attrs={'class':['watchTitle__title', 'font-1160-42-44 font-600-50-50 font-320-32-36']}).text.strip()\n",
    "    film_name = str(film_name)\n",
    "    #film_name = film_name.split()[1]\n",
    "    #film_name = soup.find('span', attrs={'class':'nbl-slimPosterBlock__titleText'}).find('h1').text.strip()\n",
    "     \n",
    "    # достаём описание\n",
    "    film_about = soup.find('div', attrs={'class':'clause__text-inner'}).text.strip()\n",
    "\n",
    "    # раздел about (если он есть), должен идти первым, берем его без уточнения класса\n",
    "    #meme_about = body.find('p')\n",
    "    #meme_about = \"\" if not meme_about else meme_about.text\n",
    "\n",
    "    # раздел origin можно найти после заголовка Origin или History,\n",
    "    # находим заголовок, определяем родителя и ищем следущего ребенка - наш раздел\n",
    "    #meme_origin = body.find(text='Origin') or body.find(text='History')\n",
    "    #meme_origin = \"\" if not meme_origin else meme_origin.parent.find_next().text\n",
    "\n",
    "    # весь остальной текст (если он есть) можно запихнуть в одно текстовое поле\n",
    "    #if body.text:\n",
    "        #other_text = body.text.strip().split('\\n')[4:]\n",
    "        #other_text = \" \".join(other_text).strip()\n",
    "   # else:\n",
    "       # other_text = \"\"\n",
    "\n",
    "    return {'Название': film_name, 'Описание':film_about}"
   ]
  },
  {
   "cell_type": "code",
   "execution_count": 53,
   "id": "e1c8917c",
   "metadata": {},
   "outputs": [
    {
     "name": "stdout",
     "output_type": "stream",
     "text": [
      "Название фильма:\n",
      "Нежность (Сериал 2020)\n",
      "\n",
      "Описание:\n",
      "Финансовый директор крупной компании Елена Ивановна Подберезкина во время спонтанной поездки в Санкт-Петербург неожиданно встречает мужчину своей мечты и так же неожиданно его теряет. Поиски придется начинать с нуля, и теперь в ход идет всё: дедукция, эзотерика, помощь подруг, знакомство с новым мужчиной, ретрит и многое другое. Продолжение нашумевшей короткометражки 2018 года режиссера Анны Меликян. К главным ролям возвращаются Виктория Исакова и Евгений Цыганов. С ранних лет Елена Ивановна «шла по жизни маршем»: с пугающей целеустремленностью взбиралась по карьерной лестнице, не размениваясь на романтику и отношения. Так было всегда – вплоть до одного случайного, странного, самого счастливого знакомства. В новых эпизодах Елена Ивановна возобновляет поиски утраченного, пользуясь всеми доступными и недоступными способами. Она бежит сломя голову, ошибается, падает, но продолжает движение на этом непростом пути, где ищет любовь и нежность, а главное, обретает себя. Смотрите онлайн лирический сериал «Нежность» Анны Меликян только на IVI! Приглашаем посмотреть сериал «Нежность» в нашем онлайн-кинотеатре совершенно бесплатно в хорошем HD качестве. Приятного просмотра! Приглашаем посмотреть сериал «Нежность» в нашем онлайн-кинотеатре совершенно бесплатно в хорошем HD качестве. Приятного просмотра!\n",
      "\n",
      "\n"
     ]
    }
   ],
   "source": [
    "text_fields = getText(soup)\n",
    "\n",
    "print(\"Название фильма:\\n{}\\n\\nОписание:\\n{}\\n\\n\".format(text_fields['Название'], text_fields['Описание']))"
   ]
  },
  {
   "cell_type": "code",
   "execution_count": 54,
   "id": "c75ef350",
   "metadata": {},
   "outputs": [],
   "source": [
    "def getFilmData(film_page):\n",
    "    \"\"\"\n",
    "        Запрашивает данные по странице, возвращает обработанный словарь с данными\n",
    "\n",
    "        film_page: string\n",
    "            ссылка на страницу с фильмом\n",
    "\n",
    "    \"\"\"\n",
    "\n",
    "    # запрашиваем данные по ссылке\n",
    "    response = requests.get(film_page, headers={'User-Agent': UserAgent().chrome})\n",
    "\n",
    "    if not response.ok:\n",
    "        # если сервер нам отказал, вернем статус ошибки\n",
    "        return response.status_code\n",
    "\n",
    "    # получаем содержимое страницы и переводим в суп\n",
    "    html = response.content\n",
    "    soup = BeautifulSoup(html,'html.parser')\n",
    "\n",
    "    # используя ранее написанные функции парсим информацию\n",
    "    # views = getStats(soup=soup, stats='views')\n",
    "    # videos = getStats(soup=soup, stats='videos')\n",
    "    #photos = getStats(soup=soup, stats='photos')\n",
    "   # comments = getStats(soup=soup, stats='comments')\n",
    "    \n",
    "    raiting = getStats(soup=soup, stats='nbl-ratingPlate__value')\n",
    "    numberofraitings = getNumberofraitings(soup=soup, stats1='ratingBlock__extra')\n",
    "    reviews = getStats(soup=soup, stats='nbl-superscript__text')\n",
    "\n",
    "    # дата\n",
    "    #date = soup.findAll('abbr', attrs={'class':'timeago'})[1].attrs['title']\n",
    "\n",
    "    # текстовые поля\n",
    "    text_fileds = getText(soup=soup)\n",
    "\n",
    "    # составляем словарь, в котором будут хранится все полученные и обработанные данные\n",
    "    data_row = {\"Рейтинг\":raiting, \"Кол-во оценок\":numberofraitings, \"Отзывы\":reviews}\n",
    "    data_row.update(text_fileds)\n",
    "\n",
    "    return data_row"
   ]
  },
  {
   "cell_type": "code",
   "execution_count": 55,
   "id": "3ac8d3a3",
   "metadata": {},
   "outputs": [],
   "source": [
    "data_row = getFilmData('https://www.ivi.tv/watch/nezhnost')"
   ]
  },
  {
   "cell_type": "code",
   "execution_count": 56,
   "id": "c2df0638",
   "metadata": {},
   "outputs": [
    {
     "data": {
      "text/plain": [
       "{'Рейтинг': 86,\n",
       " 'Кол-во оценок': 187633,\n",
       " 'Отзывы': 308,\n",
       " 'Название': 'Нежность (Сериал 2020)',\n",
       " 'Описание': 'Финансовый директор крупной компании Елена Ивановна Подберезкина во время спонтанной поездки в Санкт-Петербург неожиданно встречает мужчину своей мечты и так же неожиданно его теряет. Поиски придется начинать с нуля, и теперь в ход идет всё: дедукция, эзотерика, помощь подруг, знакомство с новым мужчиной, ретрит и многое другое. Продолжение нашумевшей короткометражки 2018 года режиссера Анны Меликян. К главным ролям возвращаются Виктория Исакова и Евгений Цыганов. С ранних лет Елена Ивановна «шла по жизни маршем»: с пугающей целеустремленностью взбиралась по карьерной лестнице, не размениваясь на романтику и отношения. Так было всегда – вплоть до одного случайного, странного, самого счастливого знакомства. В новых эпизодах Елена Ивановна возобновляет поиски утраченного, пользуясь всеми доступными и недоступными способами. Она бежит сломя голову, ошибается, падает, но продолжает движение на этом непростом пути, где ищет любовь и нежность, а главное, обретает себя. Смотрите онлайн лирический сериал «Нежность» Анны Меликян только на IVI! Приглашаем посмотреть сериал «Нежность» в нашем онлайн-кинотеатре совершенно бесплатно в хорошем HD качестве. Приятного просмотра! Приглашаем посмотреть сериал «Нежность» в нашем онлайн-кинотеатре совершенно бесплатно в хорошем HD качестве. Приятного просмотра!'}"
      ]
     },
     "execution_count": 56,
     "metadata": {},
     "output_type": "execute_result"
    }
   ],
   "source": [
    "data_row"
   ]
  },
  {
   "cell_type": "code",
   "execution_count": 57,
   "id": "70b11235",
   "metadata": {},
   "outputs": [],
   "source": [
    "final_df = pd.DataFrame(columns=['Название',  'Рейтинг', 'Кол-во оценок', 'Отзывы', 'Описание'])"
   ]
  },
  {
   "cell_type": "code",
   "execution_count": 58,
   "id": "cf1fed86",
   "metadata": {},
   "outputs": [
    {
     "data": {
      "text/html": [
       "<div>\n",
       "<style scoped>\n",
       "    .dataframe tbody tr th:only-of-type {\n",
       "        vertical-align: middle;\n",
       "    }\n",
       "\n",
       "    .dataframe tbody tr th {\n",
       "        vertical-align: top;\n",
       "    }\n",
       "\n",
       "    .dataframe thead th {\n",
       "        text-align: right;\n",
       "    }\n",
       "</style>\n",
       "<table border=\"1\" class=\"dataframe\">\n",
       "  <thead>\n",
       "    <tr style=\"text-align: right;\">\n",
       "      <th></th>\n",
       "      <th>Название</th>\n",
       "      <th>Рейтинг</th>\n",
       "      <th>Кол-во оценок</th>\n",
       "      <th>Отзывы</th>\n",
       "      <th>Описание</th>\n",
       "    </tr>\n",
       "  </thead>\n",
       "  <tbody>\n",
       "    <tr>\n",
       "      <th>0</th>\n",
       "      <td>Нежность (Сериал 2020)</td>\n",
       "      <td>86</td>\n",
       "      <td>187633</td>\n",
       "      <td>308</td>\n",
       "      <td>Финансовый директор крупной компании Елена Ива...</td>\n",
       "    </tr>\n",
       "  </tbody>\n",
       "</table>\n",
       "</div>"
      ],
      "text/plain": [
       "                 Название Рейтинг Кол-во оценок Отзывы  \\\n",
       "0  Нежность (Сериал 2020)      86        187633    308   \n",
       "\n",
       "                                            Описание  \n",
       "0  Финансовый директор крупной компании Елена Ива...  "
      ]
     },
     "execution_count": 58,
     "metadata": {},
     "output_type": "execute_result"
    }
   ],
   "source": [
    "#final_df = final_df.np.concat(data_row, ignore_index=True).dropna(axis = 1)\n",
    "#final_df\n",
    "#df = pd.DataFrame(df).append(new_row, ignore_index=True)\n",
    "final_df = pd.concat([final_df, pd.DataFrame([data_row])], ignore_index=True)\n",
    "final_df"
   ]
  },
  {
   "cell_type": "code",
   "execution_count": 59,
   "id": "1302f4e4",
   "metadata": {},
   "outputs": [],
   "source": [
    "from tqdm import tqdm_notebook"
   ]
  },
  {
   "cell_type": "code",
   "execution_count": 60,
   "id": "a0bf741c",
   "metadata": {},
   "outputs": [
    {
     "data": {
      "text/plain": [
       "['https://www.ivi.ru/watch/zolotoe-dno',\n",
       " 'https://www.ivi.ru/watch/zimorodok',\n",
       " 'https://www.ivi.ru/watch/sovershenno-drugoj',\n",
       " 'https://www.ivi.ru/watch/klyukvennyij-scherbet',\n",
       " 'https://www.ivi.ru/watch/spryach-menya',\n",
       " 'https://www.ivi.ru/watch/nezhnost',\n",
       " 'https://www.ivi.ru/watch/semya-2023',\n",
       " 'https://www.ivi.ru/watch/etot-gorod-posleduet-za-toboj',\n",
       " 'https://www.ivi.ru/watch/dikij',\n",
       " 'https://www.ivi.ru/watch/sama-vinovata',\n",
       " 'https://www.ivi.ru/watch/blesk',\n",
       " 'https://www.ivi.ru/watch/velikolepnyij-vek',\n",
       " 'https://www.ivi.ru/watch/love-is-in-the-air',\n",
       " 'https://www.ivi.ru/watch/protiv-vseh',\n",
       " 'https://www.ivi.ru/watch/esli-silno-polyubish',\n",
       " 'https://www.ivi.ru/watch/pravosudie-2021',\n",
       " 'https://www.ivi.ru/watch/kriminalnyij-doktor',\n",
       " 'https://www.ivi.ru/watch/pes',\n",
       " 'https://www.ivi.ru/watch/moya-prekrasnaya-zhizn',\n",
       " 'https://www.ivi.ru/watch/bukinyi',\n",
       " 'https://www.ivi.ru/watch/borchi',\n",
       " 'https://www.ivi.ru/watch/dobrota',\n",
       " 'https://www.ivi.ru/watch/rannyaya-ptashka',\n",
       " 'https://www.ivi.ru/watch/doch-posla',\n",
       " 'https://www.ivi.ru/watch/kapkan-dlya-monstra',\n",
       " 'https://www.ivi.ru/watch/lada-gold',\n",
       " 'https://www.ivi.ru/watch/menya-zovut-farah',\n",
       " 'https://www.ivi.ru/watch/lyubov-naprokat',\n",
       " 'https://www.ivi.ru/watch/chernaya-lyubov',\n",
       " 'https://www.ivi.ru/watch/dusha-ne-slyishit']"
      ]
     },
     "execution_count": 60,
     "metadata": {},
     "output_type": "execute_result"
    }
   ],
   "source": [
    "film_links"
   ]
  },
  {
   "cell_type": "code",
   "execution_count": 61,
   "id": "1ea15801",
   "metadata": {},
   "outputs": [
    {
     "data": {
      "application/vnd.jupyter.widget-view+json": {
       "model_id": "a5e8950d5deb438fbde7678ed7fc9d50",
       "version_major": 2,
       "version_minor": 0
      },
      "text/plain": [
       "  0%|          | 0/30 [00:00<?, ?it/s]"
      ]
     },
     "metadata": {},
     "output_type": "display_data"
    }
   ],
   "source": [
    "for film_link in tqdm_notebook(film_links):\n",
    "    try:\n",
    "        data_row = getFilmData(film_link)\n",
    "        final_df = pd.concat([final_df, pd.DataFrame([data_row])], ignore_index=True)\n",
    "        time.sleep(0.3)\n",
    "    except:\n",
    "        continue"
   ]
  },
  {
   "cell_type": "code",
   "execution_count": 62,
   "id": "89ba0150",
   "metadata": {},
   "outputs": [],
   "source": [
    "final_df = final_df.drop_duplicates().dropna(axis = 1)"
   ]
  },
  {
   "cell_type": "code",
   "execution_count": 63,
   "id": "431c8e2a",
   "metadata": {},
   "outputs": [
    {
     "data": {
      "text/plain": [
       "(30, 4)"
      ]
     },
     "execution_count": 63,
     "metadata": {},
     "output_type": "execute_result"
    }
   ],
   "source": [
    "final_df.shape"
   ]
  },
  {
   "cell_type": "code",
   "execution_count": 64,
   "id": "a5245ed0",
   "metadata": {},
   "outputs": [
    {
     "data": {
      "text/html": [
       "<div>\n",
       "<style scoped>\n",
       "    .dataframe tbody tr th:only-of-type {\n",
       "        vertical-align: middle;\n",
       "    }\n",
       "\n",
       "    .dataframe tbody tr th {\n",
       "        vertical-align: top;\n",
       "    }\n",
       "\n",
       "    .dataframe thead th {\n",
       "        text-align: right;\n",
       "    }\n",
       "</style>\n",
       "<table border=\"1\" class=\"dataframe\">\n",
       "  <thead>\n",
       "    <tr style=\"text-align: right;\">\n",
       "      <th></th>\n",
       "      <th>Название</th>\n",
       "      <th>Рейтинг</th>\n",
       "      <th>Кол-во оценок</th>\n",
       "      <th>Описание</th>\n",
       "    </tr>\n",
       "  </thead>\n",
       "  <tbody>\n",
       "    <tr>\n",
       "      <th>0</th>\n",
       "      <td>Нежность (Сериал 2020)</td>\n",
       "      <td>86</td>\n",
       "      <td>187633</td>\n",
       "      <td>Финансовый директор крупной компании Елена Ива...</td>\n",
       "    </tr>\n",
       "    <tr>\n",
       "      <th>1</th>\n",
       "      <td>Золотое дно (сериал 2024)</td>\n",
       "      <td>84</td>\n",
       "      <td>14753</td>\n",
       "      <td>Несколько поколений богатой династии делят биз...</td>\n",
       "    </tr>\n",
       "    <tr>\n",
       "      <th>2</th>\n",
       "      <td>Зимородок (сериал 2022) смотреть онлайн</td>\n",
       "      <td>79</td>\n",
       "      <td>328101</td>\n",
       "      <td>Красавец и ловелас Ферит вырос в богатой семье...</td>\n",
       "    </tr>\n",
       "    <tr>\n",
       "      <th>3</th>\n",
       "      <td>Совершенно другой (турецкий сериал)</td>\n",
       "      <td>83</td>\n",
       "      <td>26313</td>\n",
       "      <td>Известный журналист Кенан влюбляется в девушку...</td>\n",
       "    </tr>\n",
       "    <tr>\n",
       "      <th>4</th>\n",
       "      <td>Клюквенный щербет (сериал 2022)</td>\n",
       "      <td>80</td>\n",
       "      <td>56153</td>\n",
       "      <td>Двое влюблённых из очень разных семей борются ...</td>\n",
       "    </tr>\n",
       "    <tr>\n",
       "      <th>5</th>\n",
       "      <td>Спрячь меня (Сериал 2023)</td>\n",
       "      <td>78</td>\n",
       "      <td>23190</td>\n",
       "      <td>Наз планирует будущее со своим давним возлюбле...</td>\n",
       "    </tr>\n",
       "    <tr>\n",
       "      <th>7</th>\n",
       "      <td>Семья (турецкий сериал 2023)</td>\n",
       "      <td>83</td>\n",
       "      <td>74572</td>\n",
       "      <td>Один из самых ожидаемых турецких сериалов 2023...</td>\n",
       "    </tr>\n",
       "    <tr>\n",
       "      <th>8</th>\n",
       "      <td>Этот город последует за тобой (Сериал 2017)</td>\n",
       "      <td>81</td>\n",
       "      <td>1694</td>\n",
       "      <td>В детстве Али пережил тяжёлую травму, став сви...</td>\n",
       "    </tr>\n",
       "    <tr>\n",
       "      <th>9</th>\n",
       "      <td>Дикий (турецкий сериал)</td>\n",
       "      <td>81</td>\n",
       "      <td>9988</td>\n",
       "      <td>В детстве Яман Али потерял семью, и ему пришло...</td>\n",
       "    </tr>\n",
       "    <tr>\n",
       "      <th>10</th>\n",
       "      <td>Сама виновата? (сериал 2023)</td>\n",
       "      <td>88</td>\n",
       "      <td>45613</td>\n",
       "      <td>Реальная история, шокировавшая страну: драма о...</td>\n",
       "    </tr>\n",
       "    <tr>\n",
       "      <th>11</th>\n",
       "      <td>Блеск (сериал 2023) смотреть онлайн</td>\n",
       "      <td>80</td>\n",
       "      <td>20958</td>\n",
       "      <td>Красавицу Аню и султана Серкана объединяет бол...</td>\n",
       "    </tr>\n",
       "    <tr>\n",
       "      <th>12</th>\n",
       "      <td>Великолепный век (Сериал 2011)</td>\n",
       "      <td>86</td>\n",
       "      <td>24019</td>\n",
       "      <td>Захватывающая костюмная драма, вдохновлённая р...</td>\n",
       "    </tr>\n",
       "    <tr>\n",
       "      <th>13</th>\n",
       "      <td>Постучись в мою дверь (турецкий сериал)</td>\n",
       "      <td>87</td>\n",
       "      <td>280357</td>\n",
       "      <td>Турецкий романтический сериал «Постучись в мою...</td>\n",
       "    </tr>\n",
       "    <tr>\n",
       "      <th>14</th>\n",
       "      <td>Против всех (сериал 2023)</td>\n",
       "      <td>84</td>\n",
       "      <td>138768</td>\n",
       "      <td>Непреклонный дед Захар и его семья живут в дер...</td>\n",
       "    </tr>\n",
       "    <tr>\n",
       "      <th>15</th>\n",
       "      <td>Если сильно полюбишь (турецкий сериал)</td>\n",
       "      <td>84</td>\n",
       "      <td>133537</td>\n",
       "      <td>Звезда оглушительного хита «Постучись в мою дв...</td>\n",
       "    </tr>\n",
       "    <tr>\n",
       "      <th>16</th>\n",
       "      <td>Правосудие (Приговор) (Сериал 2021)</td>\n",
       "      <td>85</td>\n",
       "      <td>37771</td>\n",
       "      <td>Уважаемый прокурор узнаёт, что его младший бра...</td>\n",
       "    </tr>\n",
       "    <tr>\n",
       "      <th>17</th>\n",
       "      <td>Криминальный доктор (Сериал 2021)</td>\n",
       "      <td>79</td>\n",
       "      <td>2302</td>\n",
       "      <td>Хирург Смирнов оказывается подозреваемым в уби...</td>\n",
       "    </tr>\n",
       "    <tr>\n",
       "      <th>18</th>\n",
       "      <td>Пес (сериал)</td>\n",
       "      <td>83</td>\n",
       "      <td>35627</td>\n",
       "      <td>Детективный сериал «Пёс» это захватывающий при...</td>\n",
       "    </tr>\n",
       "    <tr>\n",
       "      <th>19</th>\n",
       "      <td>Моя прекрасная жизнь (Сериал 2022)</td>\n",
       "      <td>81</td>\n",
       "      <td>5694</td>\n",
       "      <td>Блистательная светская львица Шебнем прошла пу...</td>\n",
       "    </tr>\n",
       "    <tr>\n",
       "      <th>20</th>\n",
       "      <td>Букины (сериал 2023)</td>\n",
       "      <td>78</td>\n",
       "      <td>15604</td>\n",
       "      <td>Продолжение хитового сериала «Счастливы вместе...</td>\n",
       "    </tr>\n",
       "    <tr>\n",
       "      <th>21</th>\n",
       "      <td>Борщи (Сериал 2023)</td>\n",
       "      <td>80</td>\n",
       "      <td>2268</td>\n",
       "      <td>Оперативник Борщёв и его друзья из угрозыска э...</td>\n",
       "    </tr>\n",
       "    <tr>\n",
       "      <th>22</th>\n",
       "      <td>Доброта (Сериал 2022)</td>\n",
       "      <td>81</td>\n",
       "      <td>9015</td>\n",
       "      <td>Неслихан и Мурат познакомились на работе. Деву...</td>\n",
       "    </tr>\n",
       "    <tr>\n",
       "      <th>23</th>\n",
       "      <td>Ранняя пташка (турецкий сериал)</td>\n",
       "      <td>89</td>\n",
       "      <td>84420</td>\n",
       "      <td>Горячая турецкая новинка! Мечтательная Санем у...</td>\n",
       "    </tr>\n",
       "    <tr>\n",
       "      <th>24</th>\n",
       "      <td>Дочь посла (турецкий сериал)</td>\n",
       "      <td>79</td>\n",
       "      <td>54126</td>\n",
       "      <td>Парень из бедной семьи и дочь посла мечтали по...</td>\n",
       "    </tr>\n",
       "    <tr>\n",
       "      <th>25</th>\n",
       "      <td>Капкан для монстра (Сериал 2021)</td>\n",
       "      <td>85</td>\n",
       "      <td>2658</td>\n",
       "      <td>Когда в столице происходит громкое убийство по...</td>\n",
       "    </tr>\n",
       "    <tr>\n",
       "      <th>26</th>\n",
       "      <td>Лада Голд (2023) смотреть онлайн</td>\n",
       "      <td>85</td>\n",
       "      <td>73009</td>\n",
       "      <td>Самая дорогая и самая опасная «Лада» на свете ...</td>\n",
       "    </tr>\n",
       "    <tr>\n",
       "      <th>27</th>\n",
       "      <td>Меня зовут Фарах (турецкий сериал)</td>\n",
       "      <td>82</td>\n",
       "      <td>10409</td>\n",
       "      <td>Талантливая девушка Фарах оставляет карьеру вр...</td>\n",
       "    </tr>\n",
       "    <tr>\n",
       "      <th>28</th>\n",
       "      <td>Любовь напрокат (турецкий сериал)</td>\n",
       "      <td>88</td>\n",
       "      <td>51768</td>\n",
       "      <td>Многосерийная турецкая мелодрама \"Любовь напро...</td>\n",
       "    </tr>\n",
       "    <tr>\n",
       "      <th>29</th>\n",
       "      <td>Черная любовь (турецкий сериал)</td>\n",
       "      <td>86</td>\n",
       "      <td>86464</td>\n",
       "      <td>История двух влюблённых из Стамбула, которые п...</td>\n",
       "    </tr>\n",
       "    <tr>\n",
       "      <th>30</th>\n",
       "      <td>Душа не слышит (Сериал 2023)</td>\n",
       "      <td>78</td>\n",
       "      <td>5019</td>\n",
       "      <td>Онур Карасу – талантливый агент разведки, кото...</td>\n",
       "    </tr>\n",
       "  </tbody>\n",
       "</table>\n",
       "</div>"
      ],
      "text/plain": [
       "                                       Название Рейтинг Кол-во оценок  \\\n",
       "0                        Нежность (Сериал 2020)      86        187633   \n",
       "1                     Золотое дно (сериал 2024)      84         14753   \n",
       "2       Зимородок (сериал 2022) смотреть онлайн      79        328101   \n",
       "3           Совершенно другой (турецкий сериал)      83         26313   \n",
       "4               Клюквенный щербет (сериал 2022)      80         56153   \n",
       "5                     Спрячь меня (Сериал 2023)      78         23190   \n",
       "7                  Семья (турецкий сериал 2023)      83         74572   \n",
       "8   Этот город последует за тобой (Сериал 2017)      81          1694   \n",
       "9                       Дикий (турецкий сериал)      81          9988   \n",
       "10                 Сама виновата? (сериал 2023)      88         45613   \n",
       "11          Блеск (сериал 2023) смотреть онлайн      80         20958   \n",
       "12               Великолепный век (Сериал 2011)      86         24019   \n",
       "13      Постучись в мою дверь (турецкий сериал)      87        280357   \n",
       "14                    Против всех (сериал 2023)      84        138768   \n",
       "15       Если сильно полюбишь (турецкий сериал)      84        133537   \n",
       "16          Правосудие (Приговор) (Сериал 2021)      85         37771   \n",
       "17            Криминальный доктор (Сериал 2021)      79          2302   \n",
       "18                                 Пес (сериал)      83         35627   \n",
       "19           Моя прекрасная жизнь (Сериал 2022)      81          5694   \n",
       "20                         Букины (сериал 2023)      78         15604   \n",
       "21                          Борщи (Сериал 2023)      80          2268   \n",
       "22                        Доброта (Сериал 2022)      81          9015   \n",
       "23              Ранняя пташка (турецкий сериал)      89         84420   \n",
       "24                 Дочь посла (турецкий сериал)      79         54126   \n",
       "25             Капкан для монстра (Сериал 2021)      85          2658   \n",
       "26             Лада Голд (2023) смотреть онлайн      85         73009   \n",
       "27           Меня зовут Фарах (турецкий сериал)      82         10409   \n",
       "28            Любовь напрокат (турецкий сериал)      88         51768   \n",
       "29              Черная любовь (турецкий сериал)      86         86464   \n",
       "30                 Душа не слышит (Сериал 2023)      78          5019   \n",
       "\n",
       "                                             Описание  \n",
       "0   Финансовый директор крупной компании Елена Ива...  \n",
       "1   Несколько поколений богатой династии делят биз...  \n",
       "2   Красавец и ловелас Ферит вырос в богатой семье...  \n",
       "3   Известный журналист Кенан влюбляется в девушку...  \n",
       "4   Двое влюблённых из очень разных семей борются ...  \n",
       "5   Наз планирует будущее со своим давним возлюбле...  \n",
       "7   Один из самых ожидаемых турецких сериалов 2023...  \n",
       "8   В детстве Али пережил тяжёлую травму, став сви...  \n",
       "9   В детстве Яман Али потерял семью, и ему пришло...  \n",
       "10  Реальная история, шокировавшая страну: драма о...  \n",
       "11  Красавицу Аню и султана Серкана объединяет бол...  \n",
       "12  Захватывающая костюмная драма, вдохновлённая р...  \n",
       "13  Турецкий романтический сериал «Постучись в мою...  \n",
       "14  Непреклонный дед Захар и его семья живут в дер...  \n",
       "15  Звезда оглушительного хита «Постучись в мою дв...  \n",
       "16  Уважаемый прокурор узнаёт, что его младший бра...  \n",
       "17  Хирург Смирнов оказывается подозреваемым в уби...  \n",
       "18  Детективный сериал «Пёс» это захватывающий при...  \n",
       "19  Блистательная светская львица Шебнем прошла пу...  \n",
       "20  Продолжение хитового сериала «Счастливы вместе...  \n",
       "21  Оперативник Борщёв и его друзья из угрозыска э...  \n",
       "22  Неслихан и Мурат познакомились на работе. Деву...  \n",
       "23  Горячая турецкая новинка! Мечтательная Санем у...  \n",
       "24  Парень из бедной семьи и дочь посла мечтали по...  \n",
       "25  Когда в столице происходит громкое убийство по...  \n",
       "26  Самая дорогая и самая опасная «Лада» на свете ...  \n",
       "27  Талантливая девушка Фарах оставляет карьеру вр...  \n",
       "28  Многосерийная турецкая мелодрама \"Любовь напро...  \n",
       "29  История двух влюблённых из Стамбула, которые п...  \n",
       "30  Онур Карасу – талантливый агент разведки, кото...  "
      ]
     },
     "execution_count": 64,
     "metadata": {},
     "output_type": "execute_result"
    }
   ],
   "source": [
    "final_df.head(30)"
   ]
  },
  {
   "cell_type": "code",
   "execution_count": 65,
   "id": "3e483db4",
   "metadata": {},
   "outputs": [
    {
     "data": {
      "application/vnd.jupyter.widget-view+json": {
       "model_id": "8263d93f7d854b5c968748e87b1d935a",
       "version_major": 2,
       "version_minor": 0
      },
      "text/plain": [
       "Pages:   0%|          | 0/10 [00:00<?, ?it/s]"
      ]
     },
     "metadata": {},
     "output_type": "display_data"
    },
    {
     "data": {
      "application/vnd.jupyter.widget-view+json": {
       "model_id": "",
       "version_major": 2,
       "version_minor": 0
      },
      "text/plain": [
       "Films:   0%|          | 0/30 [00:00<?, ?it/s]"
      ]
     },
     "metadata": {},
     "output_type": "display_data"
    },
    {
     "data": {
      "application/vnd.jupyter.widget-view+json": {
       "model_id": "",
       "version_major": 2,
       "version_minor": 0
      },
      "text/plain": [
       "Films:   0%|          | 0/30 [00:00<?, ?it/s]"
      ]
     },
     "metadata": {},
     "output_type": "display_data"
    },
    {
     "data": {
      "application/vnd.jupyter.widget-view+json": {
       "model_id": "",
       "version_major": 2,
       "version_minor": 0
      },
      "text/plain": [
       "Films:   0%|          | 0/30 [00:00<?, ?it/s]"
      ]
     },
     "metadata": {},
     "output_type": "display_data"
    },
    {
     "data": {
      "application/vnd.jupyter.widget-view+json": {
       "model_id": "",
       "version_major": 2,
       "version_minor": 0
      },
      "text/plain": [
       "Films:   0%|          | 0/30 [00:00<?, ?it/s]"
      ]
     },
     "metadata": {},
     "output_type": "display_data"
    },
    {
     "data": {
      "application/vnd.jupyter.widget-view+json": {
       "model_id": "",
       "version_major": 2,
       "version_minor": 0
      },
      "text/plain": [
       "Films:   0%|          | 0/30 [00:00<?, ?it/s]"
      ]
     },
     "metadata": {},
     "output_type": "display_data"
    },
    {
     "data": {
      "application/vnd.jupyter.widget-view+json": {
       "model_id": "",
       "version_major": 2,
       "version_minor": 0
      },
      "text/plain": [
       "Films:   0%|          | 0/30 [00:00<?, ?it/s]"
      ]
     },
     "metadata": {},
     "output_type": "display_data"
    },
    {
     "data": {
      "application/vnd.jupyter.widget-view+json": {
       "model_id": "",
       "version_major": 2,
       "version_minor": 0
      },
      "text/plain": [
       "Films:   0%|          | 0/30 [00:00<?, ?it/s]"
      ]
     },
     "metadata": {},
     "output_type": "display_data"
    },
    {
     "data": {
      "application/vnd.jupyter.widget-view+json": {
       "model_id": "",
       "version_major": 2,
       "version_minor": 0
      },
      "text/plain": [
       "Films:   0%|          | 0/30 [00:00<?, ?it/s]"
      ]
     },
     "metadata": {},
     "output_type": "display_data"
    },
    {
     "data": {
      "application/vnd.jupyter.widget-view+json": {
       "model_id": "",
       "version_major": 2,
       "version_minor": 0
      },
      "text/plain": [
       "Films:   0%|          | 0/30 [00:00<?, ?it/s]"
      ]
     },
     "metadata": {},
     "output_type": "display_data"
    },
    {
     "data": {
      "application/vnd.jupyter.widget-view+json": {
       "model_id": "",
       "version_major": 2,
       "version_minor": 0
      },
      "text/plain": [
       "Films:   0%|          | 0/30 [00:00<?, ?it/s]"
      ]
     },
     "metadata": {},
     "output_type": "display_data"
    }
   ],
   "source": [
    "# Немного красивых циклов. При желании пакет можно отключить и\n",
    "# удалить команду tqdm_notebook из всех циклов\n",
    "from tqdm import tqdm_notebook\n",
    "\n",
    "\n",
    "final_df = pd.DataFrame(columns=['Название',  'Рейтинг', 'Кол-во оценок', 'Отзывы', 'Описание'])\n",
    "\n",
    "for page_number in tqdm_notebook(range(10), desc='Pages'):\n",
    "    # собрали хрефы с текущей страницы\n",
    "    film_links = getPageLinks(page_number+1)\n",
    "    for film_link in tqdm_notebook(film_links, desc='Films', leave=False):\n",
    "        # иногда с первого раза страничка не парсится\n",
    "        for i in range(3):\n",
    "            try:\n",
    "                # закидываем её в таблицу\n",
    "                #final_df = final_df.append(data_row, ignore_index=True)\n",
    "                data_row = getFilmData(film_link)\n",
    "                final_df = pd.concat([final_df, pd.DataFrame([data_row])], ignore_index=True)\n",
    "                # если всё получилось - выходим из внутреннего цикла\n",
    "                break\n",
    "            except:\n",
    "                # Иначе, пробуем еще несколько раз, пока не закончатся попытки\n",
    "                print('AHTUNG! parsing once again:', film_link)\n",
    "                continue\n",
    "            time.sleep(0.3)"
   ]
  },
  {
   "cell_type": "code",
   "execution_count": 66,
   "id": "6bdd9396",
   "metadata": {},
   "outputs": [
    {
     "data": {
      "text/html": [
       "<div>\n",
       "<style scoped>\n",
       "    .dataframe tbody tr th:only-of-type {\n",
       "        vertical-align: middle;\n",
       "    }\n",
       "\n",
       "    .dataframe tbody tr th {\n",
       "        vertical-align: top;\n",
       "    }\n",
       "\n",
       "    .dataframe thead th {\n",
       "        text-align: right;\n",
       "    }\n",
       "</style>\n",
       "<table border=\"1\" class=\"dataframe\">\n",
       "  <thead>\n",
       "    <tr style=\"text-align: right;\">\n",
       "      <th></th>\n",
       "      <th>Название</th>\n",
       "      <th>Рейтинг</th>\n",
       "      <th>Кол-во оценок</th>\n",
       "      <th>Отзывы</th>\n",
       "      <th>Описание</th>\n",
       "    </tr>\n",
       "  </thead>\n",
       "  <tbody>\n",
       "    <tr>\n",
       "      <th>0</th>\n",
       "      <td>Золотое дно (сериал 2024)</td>\n",
       "      <td>84</td>\n",
       "      <td>14753</td>\n",
       "      <td>21</td>\n",
       "      <td>Несколько поколений богатой династии делят биз...</td>\n",
       "    </tr>\n",
       "    <tr>\n",
       "      <th>1</th>\n",
       "      <td>Зимородок (сериал 2022) смотреть онлайн</td>\n",
       "      <td>79</td>\n",
       "      <td>328101</td>\n",
       "      <td>226</td>\n",
       "      <td>Красавец и ловелас Ферит вырос в богатой семье...</td>\n",
       "    </tr>\n",
       "    <tr>\n",
       "      <th>2</th>\n",
       "      <td>Совершенно другой (турецкий сериал)</td>\n",
       "      <td>83</td>\n",
       "      <td>26313</td>\n",
       "      <td>33</td>\n",
       "      <td>Известный журналист Кенан влюбляется в девушку...</td>\n",
       "    </tr>\n",
       "    <tr>\n",
       "      <th>3</th>\n",
       "      <td>Клюквенный щербет (сериал 2022)</td>\n",
       "      <td>80</td>\n",
       "      <td>56153</td>\n",
       "      <td>21</td>\n",
       "      <td>Двое влюблённых из очень разных семей борются ...</td>\n",
       "    </tr>\n",
       "    <tr>\n",
       "      <th>4</th>\n",
       "      <td>Спрячь меня (Сериал 2023)</td>\n",
       "      <td>78</td>\n",
       "      <td>23190</td>\n",
       "      <td>21</td>\n",
       "      <td>Наз планирует будущее со своим давним возлюбле...</td>\n",
       "    </tr>\n",
       "    <tr>\n",
       "      <th>...</th>\n",
       "      <td>...</td>\n",
       "      <td>...</td>\n",
       "      <td>...</td>\n",
       "      <td>...</td>\n",
       "      <td>...</td>\n",
       "    </tr>\n",
       "    <tr>\n",
       "      <th>295</th>\n",
       "      <td>Красная манжета (Дорама)</td>\n",
       "      <td>88</td>\n",
       "      <td>7967</td>\n",
       "      <td>11</td>\n",
       "      <td>История неравной любви в королевском дворце Чо...</td>\n",
       "    </tr>\n",
       "    <tr>\n",
       "      <th>296</th>\n",
       "      <td>Угрюм-река (Сериал 2020)</td>\n",
       "      <td>78</td>\n",
       "      <td>44715</td>\n",
       "      <td>66</td>\n",
       "      <td>Рассказ о семье, пережившей период с XIX по XX...</td>\n",
       "    </tr>\n",
       "    <tr>\n",
       "      <th>297</th>\n",
       "      <td>Сериал Мерлин</td>\n",
       "      <td>85</td>\n",
       "      <td>12290</td>\n",
       "      <td>2</td>\n",
       "      <td>Юный волшебник Мерлин приезжает в королевство ...</td>\n",
       "    </tr>\n",
       "    <tr>\n",
       "      <th>298</th>\n",
       "      <td>Догоняя смерть (Сериал 2019)</td>\n",
       "      <td>75</td>\n",
       "      <td>11937</td>\n",
       "      <td>12</td>\n",
       "      <td>В израильском заповеднике обнаруживают три чел...</td>\n",
       "    </tr>\n",
       "    <tr>\n",
       "      <th>299</th>\n",
       "      <td>Светлана (Сериал 2017)</td>\n",
       "      <td>80</td>\n",
       "      <td>10027</td>\n",
       "      <td>4</td>\n",
       "      <td>История жизни Светланы Аллилуевой, известной к...</td>\n",
       "    </tr>\n",
       "  </tbody>\n",
       "</table>\n",
       "<p>300 rows × 5 columns</p>\n",
       "</div>"
      ],
      "text/plain": [
       "                                    Название Рейтинг Кол-во оценок Отзывы  \\\n",
       "0                  Золотое дно (сериал 2024)      84         14753     21   \n",
       "1    Зимородок (сериал 2022) смотреть онлайн      79        328101    226   \n",
       "2        Совершенно другой (турецкий сериал)      83         26313     33   \n",
       "3            Клюквенный щербет (сериал 2022)      80         56153     21   \n",
       "4                  Спрячь меня (Сериал 2023)      78         23190     21   \n",
       "..                                       ...     ...           ...    ...   \n",
       "295                 Красная манжета (Дорама)      88          7967     11   \n",
       "296                 Угрюм-река (Сериал 2020)      78         44715     66   \n",
       "297                            Сериал Мерлин      85         12290      2   \n",
       "298             Догоняя смерть (Сериал 2019)      75         11937     12   \n",
       "299                   Светлана (Сериал 2017)      80         10027      4   \n",
       "\n",
       "                                              Описание  \n",
       "0    Несколько поколений богатой династии делят биз...  \n",
       "1    Красавец и ловелас Ферит вырос в богатой семье...  \n",
       "2    Известный журналист Кенан влюбляется в девушку...  \n",
       "3    Двое влюблённых из очень разных семей борются ...  \n",
       "4    Наз планирует будущее со своим давним возлюбле...  \n",
       "..                                                 ...  \n",
       "295  История неравной любви в королевском дворце Чо...  \n",
       "296  Рассказ о семье, пережившей период с XIX по XX...  \n",
       "297  Юный волшебник Мерлин приезжает в королевство ...  \n",
       "298  В израильском заповеднике обнаруживают три чел...  \n",
       "299  История жизни Светланы Аллилуевой, известной к...  \n",
       "\n",
       "[300 rows x 5 columns]"
      ]
     },
     "execution_count": 66,
     "metadata": {},
     "output_type": "execute_result"
    }
   ],
   "source": [
    "final_df"
   ]
  },
  {
   "cell_type": "code",
   "execution_count": 67,
   "id": "c0afb495",
   "metadata": {},
   "outputs": [
    {
     "data": {
      "text/plain": [
       "(300, 5)"
      ]
     },
     "execution_count": 67,
     "metadata": {},
     "output_type": "execute_result"
    }
   ],
   "source": [
    "final_df.shape"
   ]
  },
  {
   "cell_type": "code",
   "execution_count": 68,
   "id": "57335912",
   "metadata": {},
   "outputs": [],
   "source": [
    "final_df = final_df.drop_duplicates().dropna(axis = 1)"
   ]
  },
  {
   "cell_type": "code",
   "execution_count": 69,
   "id": "a225b161",
   "metadata": {},
   "outputs": [
    {
     "name": "stdout",
     "output_type": "stream",
     "text": [
      "<class 'pandas.core.frame.DataFrame'>\n",
      "RangeIndex: 300 entries, 0 to 299\n",
      "Data columns (total 3 columns):\n",
      " #   Column    Non-Null Count  Dtype \n",
      "---  ------    --------------  ----- \n",
      " 0   Название  300 non-null    object\n",
      " 1   Рейтинг   300 non-null    object\n",
      " 2   Описание  300 non-null    object\n",
      "dtypes: object(3)\n",
      "memory usage: 7.2+ KB\n"
     ]
    }
   ],
   "source": [
    "final_df.info()"
   ]
  },
  {
   "cell_type": "markdown",
   "id": "10cfde80",
   "metadata": {},
   "source": [
    "### Часть 2. NLP"
   ]
  },
  {
   "cell_type": "code",
   "execution_count": 70,
   "id": "6d4585a0",
   "metadata": {},
   "outputs": [
    {
     "name": "stdout",
     "output_type": "stream",
     "text": [
      "Requirement already satisfied: pymorphy2 in c:\\users\\zhanna botasheva\\anaconda3\\lib\\site-packages (0.9.1)\n",
      "Requirement already satisfied: dawg-python>=0.7.1 in c:\\users\\zhanna botasheva\\anaconda3\\lib\\site-packages (from pymorphy2) (0.7.2)\n",
      "Requirement already satisfied: pymorphy2-dicts-ru<3.0,>=2.4 in c:\\users\\zhanna botasheva\\anaconda3\\lib\\site-packages (from pymorphy2) (2.4.417127.4579844)\n",
      "Requirement already satisfied: docopt>=0.6 in c:\\users\\zhanna botasheva\\anaconda3\\lib\\site-packages (from pymorphy2) (0.6.2)\n"
     ]
    }
   ],
   "source": [
    "%matplotlib inline\n",
    "! pip install pymorphy2\n",
    "import matplotlib.pyplot as plt\n",
    "import json\n",
    "from tqdm import tqdm\n",
    "from sklearn.metrics import *\n",
    "import warnings\n",
    "warnings.filterwarnings(\"ignore\")"
   ]
  },
  {
   "cell_type": "markdown",
   "id": "c6e2cecf",
   "metadata": {},
   "source": [
    "### Часть 2. NLP"
   ]
  },
  {
   "cell_type": "code",
   "execution_count": 84,
   "id": "b6a721f3",
   "metadata": {},
   "outputs": [],
   "source": [
    "import nltk   # Natural Language Toolkit\n",
    "from nltk.corpus import stopwords\n",
    "from string import punctuation\n",
    "from pymystem3 import Mystem"
   ]
  },
  {
   "cell_type": "code",
   "execution_count": 85,
   "id": "d6226a38",
   "metadata": {},
   "outputs": [
    {
     "name": "stdout",
     "output_type": "stream",
     "text": [
      "151\n",
      "['и', 'в', 'во', 'не', 'что', 'он', 'на', 'я', 'с', 'со']\n"
     ]
    },
    {
     "name": "stderr",
     "output_type": "stream",
     "text": [
      "[nltk_data] Downloading package stopwords to C:\\Users\\Zhanna\n",
      "[nltk_data]     Botasheva\\AppData\\Roaming\\nltk_data...\n",
      "[nltk_data]   Package stopwords is already up-to-date!\n"
     ]
    }
   ],
   "source": [
    "# загружаем список стоп-слов для русского\n",
    "nltk.download('stopwords')\n",
    "stop_words = nltk.corpus.stopwords.words('russian')\n",
    "\n",
    "# примеры стоп-слов\n",
    "print(len(stop_words))\n",
    "print(stop_words[:10])"
   ]
  },
  {
   "cell_type": "code",
   "execution_count": 86,
   "id": "ad50bbfe",
   "metadata": {},
   "outputs": [
    {
     "name": "stderr",
     "output_type": "stream",
     "text": [
      "Installing mystem to C:\\Users\\Zhanna Botasheva/.local/bin\\mystem.exe from http://download.cdn.yandex.net/mystem/mystem-3.1-win-64bit.zip\n"
     ]
    }
   ],
   "source": [
    "#создадим функцию, которая будет осуществлять предобработку текста\n",
    "mystem = Mystem() \n",
    "\n",
    "def lemmatize_and_filter(text):\n",
    "    tokens = mystem.lemmatize(text.lower())\n",
    "    tokens = [token for token in tokens if token not in stop_words \\\n",
    "              and token != \" \" \\\n",
    "              and token.strip() not in punctuation]\n",
    "    \n",
    "    text = \" \".join(tokens)\n",
    "    \n",
    "    return text"
   ]
  },
  {
   "cell_type": "code",
   "execution_count": 87,
   "id": "6c5e3379",
   "metadata": {},
   "outputs": [
    {
     "data": {
      "text/plain": [
       "'Несколько поколений богатой династии делят бизнес, власть и миллиарды. Как далеко способны зайти наследники? Гораздо дальше, чем они сами думали. Ироничная драма Сергея Минаева о семье и жадности. Сериал собрал роскошную актёрскую команду, в которую вошли Алексей Гуськов, Юлия Снигирь, Игорь Гордин и другие звёзды.Многомиллионная корпорация остаётся без лидера, и начинается большая грызня. Семья олигарха Градова, его заклятый бизнес-партнёр и любовница развязывают войну за наследство. В ход идёт всё: шпионаж, шантаж, соблазнение, угрозы, интриги... Чем дальше, тем сложнее остановиться. Теперь это не просто бизнес, а личное дело для всех наследников, теряющих грань между врагами и своими. Здесь больше никому нельзя верить.Смотри онлайн вместе с Иви стильную семейную сагу о закулисье роскоши и больших денег «Золотое дно». Приглашаем посмотреть сериал «Золотое дно» в нашем онлайн-кинотеатре совершенно бесплатно в хорошем HD качестве. Приятного просмотра!'"
      ]
     },
     "execution_count": 87,
     "metadata": {},
     "output_type": "execute_result"
    }
   ],
   "source": [
    "#Проверим работу функции на одной строке\n",
    "final_df['Описание'].values[0]"
   ]
  },
  {
   "cell_type": "code",
   "execution_count": 88,
   "id": "0ff18da2",
   "metadata": {},
   "outputs": [
    {
     "data": {
      "text/plain": [
       "'несколько поколение богатый династия делить бизнес власть миллиард далеко способный зайти наследник гораздо далеко думать ироничный драма сергей минаев семья жадность сериал собирать роскошный актерский команда который входить алексей гуськов юлия снигирь игорь гордин звезда многомиллионный корпорация оставаться лидер начинаться большой грызня семья олигарх градов заклятый бизнес партнер любовница развязывать война наследство ход идти шпионаж шантаж соблазнение угроза интрига ... далеко сложно останавливаться это просто бизнес личный дело весь наследник терять грань враг свой никто верить смотреть онлайн вместе иви стильный семейный сага закулисье роскошь большой деньги  « золотой дно » приглашать посмотреть сериал  « золотой дно »  наш онлайн кинотеатр совершенно бесплатно хороший hd качество приятный просмотр'"
      ]
     },
     "execution_count": 88,
     "metadata": {},
     "output_type": "execute_result"
    }
   ],
   "source": [
    "lemmatize_and_filter(final_df['Описание'].values[0])"
   ]
  },
  {
   "cell_type": "code",
   "execution_count": 89,
   "id": "b17368e4",
   "metadata": {},
   "outputs": [
    {
     "data": {
      "text/plain": [
       "'несколько поколение богатый династия делить бизнес власть миллиард далеко способный зайти наследник гораздо далеко думать ироничный драма сергей минаев семья жадность сериал собирать роскошный актерский команда который входить алексей гуськов юлия снигирь игорь гордин звезда многомиллионный корпорация оставаться лидер начинаться большой грызня семья олигарх градов заклятый бизнес партнер любовница развязывать война наследство ход идти шпионаж шантаж соблазнение угроза интрига ... далеко сложно останавливаться это просто бизнес личный дело весь наследник терять грань враг свой никто верить смотреть онлайн вместе иви стильный семейный сага закулисье роскошь большой деньги  « золотой дно » приглашать посмотреть сериал  « золотой дно »  наш онлайн кинотеатр совершенно бесплатно хороший hd качество приятный просмотр'"
      ]
     },
     "execution_count": 89,
     "metadata": {},
     "output_type": "execute_result"
    }
   ],
   "source": [
    "#Сделаем теперь предобработку для всего датасета.\n",
    "data_preprocessed = final_df.copy()\n",
    "data_preprocessed['Описание'] = final_df['Описание'].apply(lambda text: lemmatize_and_filter(text))\n",
    "data_preprocessed['Описание'].values[0]"
   ]
  },
  {
   "cell_type": "code",
   "execution_count": 91,
   "id": "00447cd9",
   "metadata": {},
   "outputs": [
    {
     "data": {
      "text/plain": [
       "((300,), (300,))"
      ]
     },
     "execution_count": 91,
     "metadata": {},
     "output_type": "execute_result"
    }
   ],
   "source": [
    "#Сохраним в X все колонки признаки, а в y - целевую переменную.\n",
    "X = data_preprocessed['Описание']\n",
    "y = data_preprocessed['Рейтинг']\n",
    "\n",
    "X.shape, y.shape"
   ]
  },
  {
   "cell_type": "code",
   "execution_count": 92,
   "id": "12125dee",
   "metadata": {},
   "outputs": [
    {
     "data": {
      "text/plain": [
       "((210,), (90,), (210,), (90,))"
      ]
     },
     "execution_count": 92,
     "metadata": {},
     "output_type": "execute_result"
    }
   ],
   "source": [
    "#Разобьем выборку на train/test, отложив наблюдений для тестирования.\n",
    "from sklearn.model_selection import train_test_split\n",
    "\n",
    "X_train, X_test, y_train, y_test = train_test_split(X, y, test_size=0.3, random_state=42)\n",
    "\n",
    "X_train.shape, X_test.shape, y_train.shape, y_test.shape"
   ]
  },
  {
   "cell_type": "code",
   "execution_count": 95,
   "id": "8e7eed54",
   "metadata": {},
   "outputs": [
    {
     "data": {
      "text/plain": [
       "matrix([[0.        , 0.        , 0.        , ..., 0.        , 0.        ,\n",
       "         0.        ],\n",
       "        [0.        , 0.        , 0.        , ..., 0.        , 0.        ,\n",
       "         0.        ],\n",
       "        [0.        , 0.        , 0.        , ..., 0.        , 0.        ,\n",
       "         0.        ],\n",
       "        ...,\n",
       "        [0.        , 0.        , 0.        , ..., 0.        , 0.        ,\n",
       "         0.        ],\n",
       "        [0.        , 0.        , 0.        , ..., 4.40594798, 0.        ,\n",
       "         0.        ],\n",
       "        [0.        , 0.        , 0.        , ..., 0.        , 0.        ,\n",
       "         0.        ]])"
      ]
     },
     "execution_count": 95,
     "metadata": {},
     "output_type": "execute_result"
    }
   ],
   "source": [
    "#Теперь применим tf-idf преобразование для описания фильма\n",
    "\n",
    "from sklearn.feature_extraction.text import TfidfVectorizer\n",
    "\n",
    "tfidf_model = TfidfVectorizer(max_df=0.7, min_df=5,\n",
    "                              max_features=2987,\n",
    "                              stop_words='english',\n",
    "                              ngram_range=(1,2),\n",
    "                              norm=None)\n",
    "\n",
    "tfidf = tfidf_model.fit_transform(X_train).todense()\n",
    "tfidf"
   ]
  },
  {
   "cell_type": "code",
   "execution_count": 97,
   "id": "a8b22c01",
   "metadata": {},
   "outputs": [
    {
     "data": {
      "text/plain": [
       "array(['15', 'авторитет', 'агент', 'адвокат', 'актер', 'актерский',\n",
       "       'актерский дуэт', 'актриса', 'александр', 'алексей'], dtype=object)"
      ]
     },
     "execution_count": 97,
     "metadata": {},
     "output_type": "execute_result"
    }
   ],
   "source": [
    "# Топ-10 слов\n",
    "tfidf_model.get_feature_names_out()[:10]"
   ]
  },
  {
   "cell_type": "code",
   "execution_count": 98,
   "id": "136aa866",
   "metadata": {},
   "outputs": [
    {
     "data": {
      "text/plain": [
       "{'продолжение': 568,\n",
       " 'популярный': 515,\n",
       " 'знаменитый': 233,\n",
       " 'свобода': 642,\n",
       " 'узнавать': 788,\n",
       " 'начинаться': 384,\n",
       " 'который': 298,\n",
       " 'обходиться': 417,\n",
       " 'план': 481,\n",
       " 'смотреть': 691,\n",
       " 'месть': 341,\n",
       " 'второй': 94,\n",
       " 'сезон': 651,\n",
       " 'история': 263,\n",
       " 'герой': 112,\n",
       " 'давать': 134,\n",
       " 'белый': 16,\n",
       " 'вдохновлять': 41,\n",
       " 'возглавлять': 78,\n",
       " 'конец': 290,\n",
       " 'первый': 476,\n",
       " 'владелец': 61,\n",
       " 'школа': 843,\n",
       " 'вина': 60,\n",
       " 'трагический': 766,\n",
       " 'обстоятельство': 416,\n",
       " 'происходить': 573,\n",
       " 'вынужденный': 104,\n",
       " 'главный': 116,\n",
       " 'роль': 621,\n",
       " 'исполнять': 260,\n",
       " 'погибать': 486,\n",
       " 'актер': 4,\n",
       " 'вместо': 71,\n",
       " 'предстоять': 540,\n",
       " 'сражаться': 719,\n",
       " 'смотреть онлайн': 692,\n",
       " 'история герой': 264,\n",
       " 'главный роль': 118,\n",
       " 'продолжение история': 569,\n",
       " 'свой': 645,\n",
       " 'фирма': 817,\n",
       " 'летний': 312,\n",
       " 'решать': 614,\n",
       " 'начинать': 383,\n",
       " 'новый': 401,\n",
       " 'жизнь': 200,\n",
       " 'идти': 241,\n",
       " 'работать': 590,\n",
       " 'полиция': 503,\n",
       " 'самый': 634,\n",
       " 'старший': 725,\n",
       " 'среди': 721,\n",
       " 'становиться': 724,\n",
       " 'полицейский': 502,\n",
       " 'настоящий': 377,\n",
       " 'звезда': 225,\n",
       " 'ничто': 399,\n",
       " 'необычный': 391,\n",
       " 'пока': 496,\n",
       " 'свидетель': 641,\n",
       " 'это': 851,\n",
       " 'событие': 700,\n",
       " 'интересный': 252,\n",
       " 'преступность': 548,\n",
       " 'поступать': 524,\n",
       " 'попадать': 513,\n",
       " 'опытный': 444,\n",
       " 'офицер': 467,\n",
       " 'вместе': 69,\n",
       " 'следить': 675,\n",
       " 'порядок': 518,\n",
       " 'улица': 794,\n",
       " 'пытаться': 588,\n",
       " 'доверие': 163,\n",
       " 'строгий': 735,\n",
       " 'коллега': 284,\n",
       " 'помогать': 510,\n",
       " 'человек': 833,\n",
       " 'понимать': 512,\n",
       " 'динамичный': 157,\n",
       " 'онлайн приглашать': 436,\n",
       " 'известный': 244,\n",
       " 'бизнесмен': 18,\n",
       " 'влюбляться': 68,\n",
       " 'молодой': 356,\n",
       " 'выступать': 107,\n",
       " 'ресторан': 613,\n",
       " 'большой': 27,\n",
       " 'семья': 654,\n",
       " 'высокий': 106,\n",
       " 'общество': 418,\n",
       " 'менять': 337,\n",
       " 'богатый': 22,\n",
       " 'дом': 174,\n",
       " 'увлекательный': 784,\n",
       " 'турецкий': 771,\n",
       " 'мелодрама': 336,\n",
       " 'любовь': 324,\n",
       " 'семейный': 653,\n",
       " 'отношение': 462,\n",
       " 'актерский': 5,\n",
       " 'работа': 589,\n",
       " 'однажды': 426,\n",
       " 'забывать': 205,\n",
       " 'подозревать': 488,\n",
       " 'глава': 115,\n",
       " 'крупный': 307,\n",
       " 'компания': 289,\n",
       " 'случайный': 688,\n",
       " 'знакомство': 231,\n",
       " 'начало': 381,\n",
       " 'красивый': 304,\n",
       " 'приводить': 551,\n",
       " 'возлюбленная': 79,\n",
       " 'мать': 332,\n",
       " 'сын': 748,\n",
       " 'смочь': 694,\n",
       " 'бедный': 15,\n",
       " 'находить': 379,\n",
       " 'что': 837,\n",
       " 'то': 761,\n",
       " 'общий': 419,\n",
       " 'эмоциональный': 848,\n",
       " 'невеста': 389,\n",
       " 'турецкий мелодрама': 773,\n",
       " 'история любовь': 265,\n",
       " 'что то': 838,\n",
       " 'эмоциональный турецкий': 849,\n",
       " 'турецкий сериал': 774,\n",
       " 'переживать': 480,\n",
       " 'предательство': 535,\n",
       " 'имя': 250,\n",
       " 'оказываться': 430,\n",
       " 'центр': 829,\n",
       " 'интрига': 255,\n",
       " 'отомщать': 463,\n",
       " 'спасать': 712,\n",
       " 'дочь': 179,\n",
       " 'корейский': 293,\n",
       " 'бороться': 28,\n",
       " 'справедливость': 716,\n",
       " 'триллер': 767,\n",
       " 'боевик': 25,\n",
       " 'приходиться': 561,\n",
       " 'оставлять': 450,\n",
       " 'дело': 146,\n",
       " 'бывший': 38,\n",
       " 'бояться': 30,\n",
       " 'ради': 591,\n",
       " 'опасный': 440,\n",
       " 'игра': 239,\n",
       " 'правило': 531,\n",
       " 'вести': 48,\n",
       " 'влиятельный': 64,\n",
       " 'страна': 731,\n",
       " 'желание': 190,\n",
       " 'жить': 202,\n",
       " 'поклонник': 499,\n",
       " 'дора': 176,\n",
       " 'предлагать': 536,\n",
       " 'предлагать посмотреть': 537,\n",
       " 'кинотеатр приглашать': 277,\n",
       " 'охота': 468,\n",
       " 'шпион': 846,\n",
       " 'планировать': 482,\n",
       " 'похищать': 526,\n",
       " 'граница': 129,\n",
       " 'советский': 703,\n",
       " 'захватывающий': 222,\n",
       " 'исторический': 262,\n",
       " 'детектив': 152,\n",
       " 'год': 120,\n",
       " 'михаил': 352,\n",
       " 'служить': 685,\n",
       " 'город': 123,\n",
       " 'старый': 726,\n",
       " 'враг': 87,\n",
       " 'время': 89,\n",
       " 'великий': 43,\n",
       " 'война': 82,\n",
       " 'прошлое': 584,\n",
       " 'команда': 285,\n",
       " 'помешать': 509,\n",
       " 'преступник': 547,\n",
       " 'сбегать': 636,\n",
       " 'гениальный': 110,\n",
       " 'противостояние': 581,\n",
       " 'давний': 135,\n",
       " 'противник': 580,\n",
       " 'иви': 237,\n",
       " 'онлайн иви': 434,\n",
       " 'хирург': 820,\n",
       " 'убийство': 780,\n",
       " 'банда': 13,\n",
       " 'выходить': 108,\n",
       " 'живой': 198,\n",
       " 'кирилл': 278,\n",
       " 'андрей': 11,\n",
       " 'талантливый': 756,\n",
       " 'весь': 49,\n",
       " 'непростой': 394,\n",
       " 'близкие': 20,\n",
       " 'жена': 192,\n",
       " 'уходить': 809,\n",
       " 'давно': 136,\n",
       " 'отец': 457,\n",
       " 'постоянно': 522,\n",
       " 'день': 148,\n",
       " 'умирать': 796,\n",
       " 'разбираться': 592,\n",
       " 'приносить': 557,\n",
       " 'лишь': 318,\n",
       " 'проблема': 562,\n",
       " 'суровый': 742,\n",
       " 'складываться': 666,\n",
       " 'криминальный': 306,\n",
       " 'доктор': 167,\n",
       " 'весь жизнь': 50,\n",
       " 'узнавать складываться': 792,\n",
       " 'складываться история': 668,\n",
       " 'герой смотреть': 113,\n",
       " 'следователь': 676,\n",
       " 'условие': 801,\n",
       " 'раскрывать': 601,\n",
       " 'загадочный': 209,\n",
       " 'преступление': 546,\n",
       " 'заговор': 210,\n",
       " 'сложно': 681,\n",
       " 'каждый': 269,\n",
       " 'интригующий': 256,\n",
       " 'расследование': 605,\n",
       " 'разный': 595,\n",
       " 'встречаться': 93,\n",
       " 'запутанный': 219,\n",
       " 'группа': 132,\n",
       " 'сильно': 662,\n",
       " 'борьба': 29,\n",
       " 'докапываться': 166,\n",
       " 'правда': 530,\n",
       " 'преодолевать': 542,\n",
       " 'мочь': 362,\n",
       " 'изменять': 246,\n",
       " 'судьба': 737,\n",
       " 'полагать': 501,\n",
       " 'долгий': 169,\n",
       " 'военный': 75,\n",
       " 'будни': 35,\n",
       " 'особый': 448,\n",
       " 'закон': 214,\n",
       " 'онлайн вместе': 432,\n",
       " 'вместе иви': 70,\n",
       " 'иви приглашать': 238,\n",
       " 'век': 42,\n",
       " 'расследовать': 606,\n",
       " 'серия': 658,\n",
       " 'жестокий': 197,\n",
       " 'помощь': 511,\n",
       " 'стильный': 728,\n",
       " 'захватывать': 221,\n",
       " 'детективный': 153,\n",
       " 'искусство': 259,\n",
       " 'учиться': 814,\n",
       " 'сводить': 644,\n",
       " 'заведение': 206,\n",
       " 'соглашаться': 705,\n",
       " 'мотив': 361,\n",
       " 'совместный': 704,\n",
       " 'напарник': 373,\n",
       " 'случайно': 687,\n",
       " 'убивать': 779,\n",
       " 'спустя': 718,\n",
       " 'объединяться': 422,\n",
       " 'капитан': 273,\n",
       " 'хотеть': 823,\n",
       " 'убийца': 781,\n",
       " 'китайский': 279,\n",
       " 'криминал': 305,\n",
       " 'назад': 369,\n",
       " 'получать': 507,\n",
       " 'таинственный': 751,\n",
       " 'мужчина': 366,\n",
       " 'детский': 155,\n",
       " 'простой': 577,\n",
       " 'задача': 212,\n",
       " 'позволять': 492,\n",
       " 'сталкиваться': 722,\n",
       " 'друг': 181,\n",
       " 'однако': 427,\n",
       " 'талант': 755,\n",
       " 'память': 472,\n",
       " 'сложный': 682,\n",
       " 'оставаться': 449,\n",
       " 'вопрос': 85,\n",
       " 'пора': 516,\n",
       " 'лицо': 314,\n",
       " 'роковой': 620,\n",
       " 'детективный сериал': 154,\n",
       " 'год назад': 121,\n",
       " 'против': 579,\n",
       " 'чей': 832,\n",
       " 'влюбленный': 66,\n",
       " 'остросюжетный': 451,\n",
       " 'район': 599,\n",
       " 'знать': 234,\n",
       " 'заниматься': 217,\n",
       " 'также': 754,\n",
       " 'грязный': 133,\n",
       " 'ждать': 189,\n",
       " 'момент': 359,\n",
       " 'бросать': 34,\n",
       " 'вызов': 101,\n",
       " 'уничтожать': 800,\n",
       " 'преступный': 549,\n",
       " 'империя': 249,\n",
       " 'любить': 322,\n",
       " 'заклятый': 213,\n",
       " 'прекрасный': 541,\n",
       " 'драма': 180,\n",
       " 'который оказываться': 300,\n",
       " 'турецкий драма': 772,\n",
       " 'сон': 707,\n",
       " 'предприниматель': 538,\n",
       " 'создавать': 706,\n",
       " 'парень': 474,\n",
       " 'являться': 857,\n",
       " 'коварный': 281,\n",
       " 'встреча': 91,\n",
       " 'отчаиваться': 466,\n",
       " 'несмотря': 396,\n",
       " 'препятствие': 543,\n",
       " 'удаваться': 786,\n",
       " 'должность': 172,\n",
       " 'уборщица': 782,\n",
       " 'вызывать': 102,\n",
       " 'внимание': 72,\n",
       " 'думать': 183,\n",
       " 'взгляд': 54,\n",
       " 'чувство': 839,\n",
       " 'странный': 732,\n",
       " 'мир': 349,\n",
       " 'дорам': 177,\n",
       " 'сайт': 632,\n",
       " 'узнавать посмотреть': 789,\n",
       " 'посмотреть онлайн': 520,\n",
       " 'онлайн дорам': 433,\n",
       " 'наш сайт': 386,\n",
       " 'сайт приглашать': 633,\n",
       " 'дмитрий': 159,\n",
       " 'возвращаться': 76,\n",
       " 'домой': 175,\n",
       " 'тюрьма': 776,\n",
       " 'карьера': 274,\n",
       " 'городской': 125,\n",
       " 'служба': 683,\n",
       " 'путь': 587,\n",
       " 'проходить': 582,\n",
       " 'оба': 406,\n",
       " 'сторона': 730,\n",
       " 'устраиваться': 807,\n",
       " 'одновременно': 428,\n",
       " 'появляться': 529,\n",
       " 'принципиальный': 559,\n",
       " 'коррупция': 297,\n",
       " 'объединять': 421,\n",
       " 'любитель': 321,\n",
       " 'российский': 627,\n",
       " 'возвращаться домой': 77,\n",
       " 'остросюжетный детектив': 452,\n",
       " 'устраиваться работа': 808,\n",
       " 'онлайн сериал': 437,\n",
       " 'завоевывать': 207,\n",
       " 'опасность': 439,\n",
       " 'личный': 316,\n",
       " 'характер': 818,\n",
       " 'вскоре': 90,\n",
       " 'ситуация': 664,\n",
       " 'обращаться': 414,\n",
       " 'умный': 797,\n",
       " 'кажется': 270,\n",
       " 'способный': 715,\n",
       " 'любой': 325,\n",
       " 'вопреки': 84,\n",
       " 'единственный': 187,\n",
       " 'клиент': 280,\n",
       " 'должный': 173,\n",
       " 'метод': 342,\n",
       " 'адвокат': 3,\n",
       " 'когда': 282,\n",
       " 'череда': 835,\n",
       " 'собираться': 698,\n",
       " 'долгий год': 170,\n",
       " 'молодой человек': 358,\n",
       " 'когда то': 283,\n",
       " 'узнавать продолжение': 790,\n",
       " 'история смотреть': 266,\n",
       " 'женщина': 195,\n",
       " 'мечта': 343,\n",
       " 'шаг': 841,\n",
       " 'неожиданно': 392,\n",
       " 'успех': 803,\n",
       " 'амбициозный': 10,\n",
       " 'очень': 470,\n",
       " 'дерзкий': 151,\n",
       " 'начальник': 382,\n",
       " 'цель': 826,\n",
       " 'бизнес': 17,\n",
       " 'сотрудник': 710,\n",
       " 'отдел': 456,\n",
       " 'относиться': 461,\n",
       " 'готовый': 128,\n",
       " 'отдавать': 455,\n",
       " 'любимый': 320,\n",
       " 'возраст': 81,\n",
       " 'главный герой': 117,\n",
       " 'учительница': 813,\n",
       " 'зейнеп': 227,\n",
       " 'счастливый': 745,\n",
       " 'брак': 31,\n",
       " 'воспитывать': 86,\n",
       " 'двое': 139,\n",
       " 'ребенок': 609,\n",
       " 'навсегда': 367,\n",
       " 'меняться': 338,\n",
       " 'открывать': 459,\n",
       " 'неожиданный': 393,\n",
       " 'секрет': 652,\n",
       " 'испытание': 261,\n",
       " 'младший': 353,\n",
       " 'муж': 365,\n",
       " 'врач': 88,\n",
       " 'супруга': 741,\n",
       " 'переезжать': 479,\n",
       " 'маленький': 328,\n",
       " 'тихий': 760,\n",
       " 'исчезать': 268,\n",
       " 'скрывать': 672,\n",
       " 'комиссар': 288,\n",
       " 'девочка': 140,\n",
       " 'дальнейший': 137,\n",
       " 'турция': 775,\n",
       " 'складываться дальнейший': 667,\n",
       " 'дальнейший история': 138,\n",
       " 'романтический': 624,\n",
       " 'комедия': 287,\n",
       " 'сделать': 650,\n",
       " 'выбор': 98,\n",
       " 'возлюбленный': 80,\n",
       " 'важный': 40,\n",
       " 'тайна': 752,\n",
       " 'несколько': 395,\n",
       " 'девушка': 141,\n",
       " 'из': 242,\n",
       " 'за': 203,\n",
       " 'собственный': 699,\n",
       " 'накануне': 371,\n",
       " 'свадьба': 638,\n",
       " 'обретать': 415,\n",
       " 'счастие': 744,\n",
       " 'героиня': 111,\n",
       " 'душевный': 185,\n",
       " 'комедийный': 286,\n",
       " 'романтический комедия': 625,\n",
       " 'из за': 243,\n",
       " 'просто': 576,\n",
       " 'привыкать': 552,\n",
       " 'продолжать': 567,\n",
       " 'обычный': 423,\n",
       " 'образ': 413,\n",
       " 'часть': 831,\n",
       " 'положение': 506,\n",
       " 'сила': 661,\n",
       " 'принимать': 556,\n",
       " 'угроза': 785,\n",
       " 'подросток': 489,\n",
       " 'обещать': 409,\n",
       " 'продолжение смотреть': 570,\n",
       " 'роскошный': 626,\n",
       " 'сохранять': 711,\n",
       " 'статус': 727,\n",
       " 'одиночка': 425,\n",
       " 'сразу': 720,\n",
       " 'напряженный': 374,\n",
       " 'режиссер': 611,\n",
       " 'уникальный': 799,\n",
       " 'род': 615,\n",
       " 'анна': 12,\n",
       " 'окружать': 431,\n",
       " 'никто': 398,\n",
       " 'голова': 122,\n",
       " 'приходить': 560,\n",
       " 'слишком': 679,\n",
       " 'прозвище': 572,\n",
       " 'знакомиться': 230,\n",
       " 'вид': 57,\n",
       " 'след': 674,\n",
       " 'завязываться': 208,\n",
       " 'иметь': 248,\n",
       " 'видеть': 58,\n",
       " 'опыт': 443,\n",
       " 'тайный': 753,\n",
       " 'ироничный': 257,\n",
       " 'тяжелый': 777,\n",
       " 'слава': 673,\n",
       " 'громкий': 131,\n",
       " 'скандал': 665,\n",
       " 'интернет': 253,\n",
       " 'измена': 245,\n",
       " 'миссия': 351,\n",
       " 'чужой': 840,\n",
       " 'закручивать': 215,\n",
       " 'невероятный': 388,\n",
       " 'юмор': 853,\n",
       " 'небольшой': 387,\n",
       " 'городок': 124,\n",
       " 'превращаться': 533,\n",
       " 'идеальный': 240,\n",
       " 'мечтать': 344,\n",
       " 'нужно': 404,\n",
       " 'внутренний': 74,\n",
       " 'приключение': 555,\n",
       " 'шокировать': 845,\n",
       " 'местный': 339,\n",
       " 'основывать': 447,\n",
       " 'роман': 622,\n",
       " 'одноименный': 429,\n",
       " 'фильм': 815,\n",
       " 'сюрприз': 750,\n",
       " 'задание': 211,\n",
       " 'деревня': 150,\n",
       " 'зло': 229,\n",
       " 'ценитель': 828,\n",
       " 'жанр': 188,\n",
       " 'брат': 32,\n",
       " 'соперник': 708,\n",
       " 'сюжет': 749,\n",
       " 'провинция': 564,\n",
       " 'стамбул': 723,\n",
       " 'поиск': 494,\n",
       " 'юноша': 854,\n",
       " 'подруга': 490,\n",
       " 'мафия': 333,\n",
       " 'трагедия': 765,\n",
       " 'делать': 145,\n",
       " 'многий': 354,\n",
       " 'вокруг': 83,\n",
       " 'следовать': 677,\n",
       " 'трудность': 770,\n",
       " 'реальный': 608,\n",
       " 'взросление': 55,\n",
       " 'открытие': 460,\n",
       " 'представлять': 539,\n",
       " 'конфликт': 292,\n",
       " 'родитель': 616,\n",
       " 'развиваться': 593,\n",
       " 'молодой девушка': 357,\n",
       " 'узнавать развиваться': 791,\n",
       " 'развиваться событие': 594,\n",
       " 'событие смотреть': 701,\n",
       " 'сергей': 655,\n",
       " 'отправляться': 465,\n",
       " 'москва': 360,\n",
       " 'участник': 811,\n",
       " 'ход': 822,\n",
       " 'оперативник': 441,\n",
       " 'агент': 2,\n",
       " 'успешно': 804,\n",
       " 'выдавать': 99,\n",
       " 'приезжать': 554,\n",
       " 'входить': 96,\n",
       " 'полный': 505,\n",
       " 'операция': 442,\n",
       " 'родной': 617,\n",
       " 'бандит': 14,\n",
       " 'погружаться': 487,\n",
       " 'темный': 758,\n",
       " 'рано': 600,\n",
       " 'ким': 275,\n",
       " 'король': 295,\n",
       " 'власть': 63,\n",
       " 'превращать': 532,\n",
       " 'демон': 147,\n",
       " 'сосед': 709,\n",
       " 'смерть': 690,\n",
       " 'мрачный': 364,\n",
       " 'искать': 258,\n",
       " 'душа': 184,\n",
       " 'процесс': 583,\n",
       " 'нужный': 405,\n",
       " 'обладать': 410,\n",
       " 'способность': 714,\n",
       " 'встречать': 92,\n",
       " 'по': 483,\n",
       " 'настоящему': 376,\n",
       " 'который давно': 299,\n",
       " 'по настоящему': 484,\n",
       " 'терять': 759,\n",
       " 'сильный': 663,\n",
       " 'боевой': 26,\n",
       " 'товарищ': 762,\n",
       " 'язык': 858,\n",
       " 'цена': 827,\n",
       " 'слово': 680,\n",
       " 'пойти': 495,\n",
       " 'мини': 347,\n",
       " 'смотреть остросюжетный': 693,\n",
       " 'мини сериал': 348,\n",
       " 'хен': 819,\n",
       " 'престижный': 545,\n",
       " 'очаровательный': 469,\n",
       " 'юный': 855,\n",
       " 'считать': 746,\n",
       " 'надеяться': 368,\n",
       " 'сердце': 656,\n",
       " 'ревность': 610,\n",
       " 'готовиться': 127,\n",
       " 'разрушать': 597,\n",
       " 'отправлять': 464,\n",
       " 'зритель': 236,\n",
       " '15': 0,\n",
       " 'называть': 370,\n",
       " 'место': 340,\n",
       " 'часто': 830,\n",
       " 'руководить': 629,\n",
       " 'мало': 329,\n",
       " 'земля': 228,\n",
       " 'вернуть': 46,\n",
       " 'королева': 294,\n",
       " 'приглашать поклонник': 553,\n",
       " 'поручать': 517,\n",
       " 'следственный': 678,\n",
       " 'яркий': 859,\n",
       " 'добиваться': 160,\n",
       " 'дочка': 178,\n",
       " 'ум': 795,\n",
       " 'распутывать': 602,\n",
       " 'общий язык': 420,\n",
       " 'участие': 810,\n",
       " 'прокурор': 574,\n",
       " 'вынуждать': 103,\n",
       " 'вновь': 73,\n",
       " 'вернуться': 47,\n",
       " 'юридический': 856,\n",
       " 'золотой': 235,\n",
       " 'отказываться': 458,\n",
       " 'продавать': 566,\n",
       " 'убеждаться': 778,\n",
       " 'браться': 33,\n",
       " 'снова': 696,\n",
       " 'мочь посмотреть': 363,\n",
       " 'онлайн наш': 435,\n",
       " 'эпоха': 850,\n",
       " 'актриса': 7,\n",
       " 'ночь': 403,\n",
       " 'провинциальный': 563,\n",
       " 'случай': 686,\n",
       " 'уезжать': 787,\n",
       " 'столица': 729,\n",
       " 'университет': 798,\n",
       " 'будущее': 36,\n",
       " 'оружие': 445,\n",
       " 'мировой': 350,\n",
       " 'скромный': 671,\n",
       " 'иной': 251,\n",
       " 'сценарий': 743,\n",
       " 'намерен': 372,\n",
       " 'способ': 713,\n",
       " 'мексиканский': 335,\n",
       " 'студентка': 736,\n",
       " 'машина': 334,\n",
       " 'рассказывать': 603,\n",
       " 'знакомый': 232,\n",
       " 'поэтому': 528,\n",
       " 'легенда': 310,\n",
       " 'легкий': 311,\n",
       " 'красавец': 302,\n",
       " 'построить': 523,\n",
       " 'успешный': 805,\n",
       " 'шанс': 842,\n",
       " 'покидать': 498,\n",
       " 'втягивать': 95,\n",
       " 'множество': 355,\n",
       " 'преграда': 534,\n",
       " 'вырастать': 105,\n",
       " 'мама': 331,\n",
       " 'родственник': 618,\n",
       " 'недавно': 390,\n",
       " 'финансовый': 816,\n",
       " 'будущий': 37,\n",
       " 'уверенный': 783,\n",
       " 'заставлять': 220,\n",
       " 'история узнавать': 267,\n",
       " 'сериал любовь': 657,\n",
       " 'детство': 156,\n",
       " 'защищать': 223,\n",
       " 'замуж': 216,\n",
       " 'выходить замуж': 109,\n",
       " 'взаимный': 53,\n",
       " 'служебный': 684,\n",
       " 'кино': 276,\n",
       " 'долгожданный': 171,\n",
       " 'элитный': 847,\n",
       " 'блестящий': 19,\n",
       " 'популярность': 514,\n",
       " 'дуэт': 186,\n",
       " 'запретный': 218,\n",
       " 'вещь': 52,\n",
       " 'преуспевать': 550,\n",
       " 'принц': 558,\n",
       " 'обманывать': 411,\n",
       " 'хит': 821,\n",
       " 'актерский дуэт': 6,\n",
       " 'партнер': 475,\n",
       " 'личный жизнь': 317,\n",
       " 'хотя': 824,\n",
       " 'покорять': 500,\n",
       " 'красавица': 303,\n",
       " 'рука': 628,\n",
       " 'доказывать': 165,\n",
       " 'долг': 168,\n",
       " 'павел': 471,\n",
       " 'просыпаться': 578,\n",
       " 'сближаться': 637,\n",
       " 'первый взгляд': 477,\n",
       " 'ми': 345,\n",
       " 'просить': 575,\n",
       " 'верить': 45,\n",
       " 'повзрослеть': 485,\n",
       " 'южнокорейский': 852,\n",
       " 'складываться судьба': 669,\n",
       " 'вечер': 51,\n",
       " 'обнаруживать': 412,\n",
       " 'авторитет': 1,\n",
       " 'наш интернет': 385,\n",
       " 'интернет кинотеатр': 254,\n",
       " 'гибель': 114,\n",
       " 'полковник': 504,\n",
       " 'огромный': 424,\n",
       " 'майор': 326,\n",
       " 'быстро': 39,\n",
       " 'репутация': 612,\n",
       " 'лидер': 313,\n",
       " 'постепенно': 521,\n",
       " 'руководство': 630,\n",
       " 'проводить': 565,\n",
       " 'личность': 315,\n",
       " 'казаться': 271,\n",
       " 'звездный': 226,\n",
       " 'ён': 860,\n",
       " 'сверхъестественный': 639,\n",
       " 'разыскивать': 598,\n",
       " 'потерять': 525,\n",
       " 'тело': 757,\n",
       " 'романтика': 623,\n",
       " 'девушка который': 143,\n",
       " 'жених': 194,\n",
       " 'рушиться': 631,\n",
       " 'жертва': 196,\n",
       " 'трое': 769,\n",
       " 'наследник': 375,\n",
       " 'богач': 24,\n",
       " 'страшный': 733,\n",
       " 'травма': 764,\n",
       " 'девушка имя': 142,\n",
       " 'свет': 640,\n",
       " 'стремиться': 734,\n",
       " 'поздно': 493,\n",
       " 'выживать': 100,\n",
       " 'виктория': 59,\n",
       " 'справляться': 717,\n",
       " 'научаться': 378,\n",
       " 'контроль': 291,\n",
       " 'участок': 812,\n",
       " 'свободный': 643,\n",
       " 'именно': 247,\n",
       " 'кто': 308,\n",
       " 'номер': 402,\n",
       " 'кто то': 309,\n",
       " 'связывать': 648,\n",
       " 'суждено': 740,\n",
       " 'связь': 649,\n",
       " 'близкий': 21,\n",
       " 'обвинять': 408,\n",
       " 'богатый семья': 23,\n",
       " 'максим': 327,\n",
       " 'устраивать': 806,\n",
       " 'самый дело': 635,\n",
       " 'целый': 825,\n",
       " 'собирать': 697,\n",
       " 'сестра': 660,\n",
       " 'онлайн турецкий': 438,\n",
       " 'отважный': 454,\n",
       " 'мина': 346,\n",
       " 'друг друг': 182,\n",
       " 'четыре': 836,\n",
       " 'случаться': 689,\n",
       " 'грань': 130,\n",
       " 'пара': 473,\n",
       " 'последний': 519,\n",
       " 'серьезный': 659,\n",
       " 'добронравов': 161,\n",
       " 'кравченко': 301,\n",
       " 'дедушка': 144,\n",
       " 'живописный': 199,\n",
       " 'мальчик': 330,\n",
       " 'новость': 400,\n",
       " 'житель': 201,\n",
       " 'успевать': 802,\n",
       " 'получаться': 508,\n",
       " 'похожий': 527,\n",
       " 'рождаться': 619,\n",
       " 'какой': 272,\n",
       " 'прошлый': 585,\n",
       " 'улика': 793,\n",
       " 'динамичный детектив': 158,\n",
       " 'жениться': 193,\n",
       " 'деньги': 149,\n",
       " 'короткий': 296,\n",
       " 'сыграть': 747,\n",
       " 'основа': 446,\n",
       " 'проект': 571,\n",
       " 'первый любовь': 478,\n",
       " 'судьба наш': 738,\n",
       " 'влиятельный бизнесмен': 65,\n",
       " 'скоро': 670,\n",
       " 'реальность': 607,\n",
       " 'преследовать': 544,\n",
       " 'любовный': 323,\n",
       " 'совершать': 702,\n",
       " 'остроумный': 453,\n",
       " 'связанный': 647,\n",
       " 'выбирать': 97,\n",
       " 'человек разный': 834,\n",
       " 'показывать': 497,\n",
       " 'александр': 8,\n",
       " 'заботиться': 204,\n",
       " 'алексей': 9,\n",
       " 'владимир': 62,\n",
       " 'горячий': 126,\n",
       " 'точка': 763,\n",
       " 'свой жизнь': 646,\n",
       " 'звать': 224,\n",
       " 'поездка': 491,\n",
       " 'разный мир': 596,\n",
       " 'путешествие': 586,\n",
       " 'обаятельный': 407,\n",
       " 'глаз': 119,\n",
       " 'доброта': 162,\n",
       " 'снимать': 695,\n",
       " 'великолепный': 44,\n",
       " 'влюблять': 67,\n",
       " 'желать': 191,\n",
       " 'судьба сводить': 739,\n",
       " 'школьный': 844,\n",
       " 'взять': 56,\n",
       " 'николай': 397,\n",
       " 'трогательный': 768,\n",
       " 'рассказывать история': 604,\n",
       " 'находить свой': 380,\n",
       " 'ловелас': 319,\n",
       " 'доверять': 164}"
      ]
     },
     "execution_count": 98,
     "metadata": {},
     "output_type": "execute_result"
    }
   ],
   "source": [
    "tfidf_model.vocabulary_"
   ]
  },
  {
   "cell_type": "code",
   "execution_count": 101,
   "id": "c66d079d",
   "metadata": {},
   "outputs": [
    {
     "data": {
      "text/html": [
       "<div>\n",
       "<style scoped>\n",
       "    .dataframe tbody tr th:only-of-type {\n",
       "        vertical-align: middle;\n",
       "    }\n",
       "\n",
       "    .dataframe tbody tr th {\n",
       "        vertical-align: top;\n",
       "    }\n",
       "\n",
       "    .dataframe thead th {\n",
       "        text-align: right;\n",
       "    }\n",
       "</style>\n",
       "<table border=\"1\" class=\"dataframe\">\n",
       "  <thead>\n",
       "    <tr style=\"text-align: right;\">\n",
       "      <th></th>\n",
       "      <th>15</th>\n",
       "      <th>авторитет</th>\n",
       "      <th>агент</th>\n",
       "      <th>адвокат</th>\n",
       "      <th>актер</th>\n",
       "      <th>актерский</th>\n",
       "      <th>актерский дуэт</th>\n",
       "      <th>актриса</th>\n",
       "      <th>александр</th>\n",
       "      <th>алексей</th>\n",
       "      <th>...</th>\n",
       "      <th>это</th>\n",
       "      <th>южнокорейский</th>\n",
       "      <th>юмор</th>\n",
       "      <th>юноша</th>\n",
       "      <th>юный</th>\n",
       "      <th>юридический</th>\n",
       "      <th>являться</th>\n",
       "      <th>язык</th>\n",
       "      <th>яркий</th>\n",
       "      <th>ён</th>\n",
       "    </tr>\n",
       "  </thead>\n",
       "  <tbody>\n",
       "    <tr>\n",
       "      <th>0</th>\n",
       "      <td>0.0</td>\n",
       "      <td>0.0</td>\n",
       "      <td>0.0</td>\n",
       "      <td>0.000000</td>\n",
       "      <td>3.786909</td>\n",
       "      <td>0.000000</td>\n",
       "      <td>0.0</td>\n",
       "      <td>0.0</td>\n",
       "      <td>0.0</td>\n",
       "      <td>0.0</td>\n",
       "      <td>...</td>\n",
       "      <td>0.000000</td>\n",
       "      <td>0.0</td>\n",
       "      <td>0.0</td>\n",
       "      <td>0.000000</td>\n",
       "      <td>0.0</td>\n",
       "      <td>0.000000</td>\n",
       "      <td>0.0</td>\n",
       "      <td>0.000000</td>\n",
       "      <td>0.0</td>\n",
       "      <td>0.0</td>\n",
       "    </tr>\n",
       "    <tr>\n",
       "      <th>1</th>\n",
       "      <td>0.0</td>\n",
       "      <td>0.0</td>\n",
       "      <td>0.0</td>\n",
       "      <td>0.000000</td>\n",
       "      <td>0.000000</td>\n",
       "      <td>0.000000</td>\n",
       "      <td>0.0</td>\n",
       "      <td>0.0</td>\n",
       "      <td>0.0</td>\n",
       "      <td>0.0</td>\n",
       "      <td>...</td>\n",
       "      <td>4.548641</td>\n",
       "      <td>0.0</td>\n",
       "      <td>0.0</td>\n",
       "      <td>0.000000</td>\n",
       "      <td>0.0</td>\n",
       "      <td>0.000000</td>\n",
       "      <td>0.0</td>\n",
       "      <td>0.000000</td>\n",
       "      <td>0.0</td>\n",
       "      <td>0.0</td>\n",
       "    </tr>\n",
       "    <tr>\n",
       "      <th>2</th>\n",
       "      <td>0.0</td>\n",
       "      <td>0.0</td>\n",
       "      <td>0.0</td>\n",
       "      <td>0.000000</td>\n",
       "      <td>0.000000</td>\n",
       "      <td>3.307336</td>\n",
       "      <td>0.0</td>\n",
       "      <td>0.0</td>\n",
       "      <td>0.0</td>\n",
       "      <td>0.0</td>\n",
       "      <td>...</td>\n",
       "      <td>2.274321</td>\n",
       "      <td>0.0</td>\n",
       "      <td>0.0</td>\n",
       "      <td>0.000000</td>\n",
       "      <td>0.0</td>\n",
       "      <td>0.000000</td>\n",
       "      <td>0.0</td>\n",
       "      <td>0.000000</td>\n",
       "      <td>0.0</td>\n",
       "      <td>0.0</td>\n",
       "    </tr>\n",
       "    <tr>\n",
       "      <th>3</th>\n",
       "      <td>0.0</td>\n",
       "      <td>0.0</td>\n",
       "      <td>0.0</td>\n",
       "      <td>0.000000</td>\n",
       "      <td>3.786909</td>\n",
       "      <td>0.000000</td>\n",
       "      <td>0.0</td>\n",
       "      <td>0.0</td>\n",
       "      <td>0.0</td>\n",
       "      <td>0.0</td>\n",
       "      <td>...</td>\n",
       "      <td>2.274321</td>\n",
       "      <td>0.0</td>\n",
       "      <td>0.0</td>\n",
       "      <td>0.000000</td>\n",
       "      <td>0.0</td>\n",
       "      <td>0.000000</td>\n",
       "      <td>0.0</td>\n",
       "      <td>0.000000</td>\n",
       "      <td>0.0</td>\n",
       "      <td>0.0</td>\n",
       "    </tr>\n",
       "    <tr>\n",
       "      <th>4</th>\n",
       "      <td>0.0</td>\n",
       "      <td>0.0</td>\n",
       "      <td>0.0</td>\n",
       "      <td>0.000000</td>\n",
       "      <td>0.000000</td>\n",
       "      <td>0.000000</td>\n",
       "      <td>0.0</td>\n",
       "      <td>0.0</td>\n",
       "      <td>0.0</td>\n",
       "      <td>0.0</td>\n",
       "      <td>...</td>\n",
       "      <td>0.000000</td>\n",
       "      <td>0.0</td>\n",
       "      <td>0.0</td>\n",
       "      <td>0.000000</td>\n",
       "      <td>0.0</td>\n",
       "      <td>0.000000</td>\n",
       "      <td>0.0</td>\n",
       "      <td>0.000000</td>\n",
       "      <td>0.0</td>\n",
       "      <td>0.0</td>\n",
       "    </tr>\n",
       "    <tr>\n",
       "      <th>...</th>\n",
       "      <td>...</td>\n",
       "      <td>...</td>\n",
       "      <td>...</td>\n",
       "      <td>...</td>\n",
       "      <td>...</td>\n",
       "      <td>...</td>\n",
       "      <td>...</td>\n",
       "      <td>...</td>\n",
       "      <td>...</td>\n",
       "      <td>...</td>\n",
       "      <td>...</td>\n",
       "      <td>...</td>\n",
       "      <td>...</td>\n",
       "      <td>...</td>\n",
       "      <td>...</td>\n",
       "      <td>...</td>\n",
       "      <td>...</td>\n",
       "      <td>...</td>\n",
       "      <td>...</td>\n",
       "      <td>...</td>\n",
       "      <td>...</td>\n",
       "    </tr>\n",
       "    <tr>\n",
       "      <th>205</th>\n",
       "      <td>0.0</td>\n",
       "      <td>0.0</td>\n",
       "      <td>0.0</td>\n",
       "      <td>0.000000</td>\n",
       "      <td>0.000000</td>\n",
       "      <td>0.000000</td>\n",
       "      <td>0.0</td>\n",
       "      <td>0.0</td>\n",
       "      <td>0.0</td>\n",
       "      <td>0.0</td>\n",
       "      <td>...</td>\n",
       "      <td>0.000000</td>\n",
       "      <td>0.0</td>\n",
       "      <td>0.0</td>\n",
       "      <td>0.000000</td>\n",
       "      <td>0.0</td>\n",
       "      <td>0.000000</td>\n",
       "      <td>0.0</td>\n",
       "      <td>0.000000</td>\n",
       "      <td>0.0</td>\n",
       "      <td>0.0</td>\n",
       "    </tr>\n",
       "    <tr>\n",
       "      <th>206</th>\n",
       "      <td>0.0</td>\n",
       "      <td>0.0</td>\n",
       "      <td>0.0</td>\n",
       "      <td>0.000000</td>\n",
       "      <td>0.000000</td>\n",
       "      <td>0.000000</td>\n",
       "      <td>0.0</td>\n",
       "      <td>0.0</td>\n",
       "      <td>0.0</td>\n",
       "      <td>0.0</td>\n",
       "      <td>...</td>\n",
       "      <td>0.000000</td>\n",
       "      <td>0.0</td>\n",
       "      <td>0.0</td>\n",
       "      <td>0.000000</td>\n",
       "      <td>0.0</td>\n",
       "      <td>0.000000</td>\n",
       "      <td>0.0</td>\n",
       "      <td>0.000000</td>\n",
       "      <td>0.0</td>\n",
       "      <td>0.0</td>\n",
       "    </tr>\n",
       "    <tr>\n",
       "      <th>207</th>\n",
       "      <td>0.0</td>\n",
       "      <td>0.0</td>\n",
       "      <td>0.0</td>\n",
       "      <td>0.000000</td>\n",
       "      <td>0.000000</td>\n",
       "      <td>0.000000</td>\n",
       "      <td>0.0</td>\n",
       "      <td>0.0</td>\n",
       "      <td>0.0</td>\n",
       "      <td>0.0</td>\n",
       "      <td>...</td>\n",
       "      <td>0.000000</td>\n",
       "      <td>0.0</td>\n",
       "      <td>0.0</td>\n",
       "      <td>0.000000</td>\n",
       "      <td>0.0</td>\n",
       "      <td>0.000000</td>\n",
       "      <td>0.0</td>\n",
       "      <td>0.000000</td>\n",
       "      <td>0.0</td>\n",
       "      <td>0.0</td>\n",
       "    </tr>\n",
       "    <tr>\n",
       "      <th>208</th>\n",
       "      <td>0.0</td>\n",
       "      <td>0.0</td>\n",
       "      <td>0.0</td>\n",
       "      <td>0.000000</td>\n",
       "      <td>0.000000</td>\n",
       "      <td>0.000000</td>\n",
       "      <td>0.0</td>\n",
       "      <td>0.0</td>\n",
       "      <td>0.0</td>\n",
       "      <td>0.0</td>\n",
       "      <td>...</td>\n",
       "      <td>0.000000</td>\n",
       "      <td>0.0</td>\n",
       "      <td>0.0</td>\n",
       "      <td>4.049273</td>\n",
       "      <td>0.0</td>\n",
       "      <td>0.000000</td>\n",
       "      <td>0.0</td>\n",
       "      <td>4.405948</td>\n",
       "      <td>0.0</td>\n",
       "      <td>0.0</td>\n",
       "    </tr>\n",
       "    <tr>\n",
       "      <th>209</th>\n",
       "      <td>0.0</td>\n",
       "      <td>0.0</td>\n",
       "      <td>0.0</td>\n",
       "      <td>11.360726</td>\n",
       "      <td>0.000000</td>\n",
       "      <td>3.307336</td>\n",
       "      <td>0.0</td>\n",
       "      <td>0.0</td>\n",
       "      <td>0.0</td>\n",
       "      <td>0.0</td>\n",
       "      <td>...</td>\n",
       "      <td>0.000000</td>\n",
       "      <td>0.0</td>\n",
       "      <td>0.0</td>\n",
       "      <td>0.000000</td>\n",
       "      <td>0.0</td>\n",
       "      <td>4.272417</td>\n",
       "      <td>0.0</td>\n",
       "      <td>0.000000</td>\n",
       "      <td>0.0</td>\n",
       "      <td>0.0</td>\n",
       "    </tr>\n",
       "  </tbody>\n",
       "</table>\n",
       "<p>210 rows × 861 columns</p>\n",
       "</div>"
      ],
      "text/plain": [
       "      15  авторитет  агент    адвокат     актер  актерский  актерский дуэт  \\\n",
       "0    0.0        0.0    0.0   0.000000  3.786909   0.000000             0.0   \n",
       "1    0.0        0.0    0.0   0.000000  0.000000   0.000000             0.0   \n",
       "2    0.0        0.0    0.0   0.000000  0.000000   3.307336             0.0   \n",
       "3    0.0        0.0    0.0   0.000000  3.786909   0.000000             0.0   \n",
       "4    0.0        0.0    0.0   0.000000  0.000000   0.000000             0.0   \n",
       "..   ...        ...    ...        ...       ...        ...             ...   \n",
       "205  0.0        0.0    0.0   0.000000  0.000000   0.000000             0.0   \n",
       "206  0.0        0.0    0.0   0.000000  0.000000   0.000000             0.0   \n",
       "207  0.0        0.0    0.0   0.000000  0.000000   0.000000             0.0   \n",
       "208  0.0        0.0    0.0   0.000000  0.000000   0.000000             0.0   \n",
       "209  0.0        0.0    0.0  11.360726  0.000000   3.307336             0.0   \n",
       "\n",
       "     актриса  александр  алексей  ...       это  южнокорейский  юмор  \\\n",
       "0        0.0        0.0      0.0  ...  0.000000            0.0   0.0   \n",
       "1        0.0        0.0      0.0  ...  4.548641            0.0   0.0   \n",
       "2        0.0        0.0      0.0  ...  2.274321            0.0   0.0   \n",
       "3        0.0        0.0      0.0  ...  2.274321            0.0   0.0   \n",
       "4        0.0        0.0      0.0  ...  0.000000            0.0   0.0   \n",
       "..       ...        ...      ...  ...       ...            ...   ...   \n",
       "205      0.0        0.0      0.0  ...  0.000000            0.0   0.0   \n",
       "206      0.0        0.0      0.0  ...  0.000000            0.0   0.0   \n",
       "207      0.0        0.0      0.0  ...  0.000000            0.0   0.0   \n",
       "208      0.0        0.0      0.0  ...  0.000000            0.0   0.0   \n",
       "209      0.0        0.0      0.0  ...  0.000000            0.0   0.0   \n",
       "\n",
       "        юноша  юный  юридический  являться      язык  яркий   ён  \n",
       "0    0.000000   0.0     0.000000       0.0  0.000000    0.0  0.0  \n",
       "1    0.000000   0.0     0.000000       0.0  0.000000    0.0  0.0  \n",
       "2    0.000000   0.0     0.000000       0.0  0.000000    0.0  0.0  \n",
       "3    0.000000   0.0     0.000000       0.0  0.000000    0.0  0.0  \n",
       "4    0.000000   0.0     0.000000       0.0  0.000000    0.0  0.0  \n",
       "..        ...   ...          ...       ...       ...    ...  ...  \n",
       "205  0.000000   0.0     0.000000       0.0  0.000000    0.0  0.0  \n",
       "206  0.000000   0.0     0.000000       0.0  0.000000    0.0  0.0  \n",
       "207  0.000000   0.0     0.000000       0.0  0.000000    0.0  0.0  \n",
       "208  4.049273   0.0     0.000000       0.0  4.405948    0.0  0.0  \n",
       "209  0.000000   0.0     4.272417       0.0  0.000000    0.0  0.0  \n",
       "\n",
       "[210 rows x 861 columns]"
      ]
     },
     "execution_count": 101,
     "metadata": {},
     "output_type": "execute_result"
    }
   ],
   "source": [
    "#Создадим табличку для дальнейшей работы.\n",
    "\n",
    "train_data = pd.DataFrame(\n",
    "    tfidf_model.fit_transform(X_train).todense(),\n",
    "    columns=tfidf_model.get_feature_names_out()\n",
    ")\n",
    "train_data"
   ]
  },
  {
   "cell_type": "code",
   "execution_count": 105,
   "id": "90586809",
   "metadata": {},
   "outputs": [
    {
     "data": {
      "text/html": [
       "<div>\n",
       "<style scoped>\n",
       "    .dataframe tbody tr th:only-of-type {\n",
       "        vertical-align: middle;\n",
       "    }\n",
       "\n",
       "    .dataframe tbody tr th {\n",
       "        vertical-align: top;\n",
       "    }\n",
       "\n",
       "    .dataframe thead th {\n",
       "        text-align: right;\n",
       "    }\n",
       "</style>\n",
       "<table border=\"1\" class=\"dataframe\">\n",
       "  <thead>\n",
       "    <tr style=\"text-align: right;\">\n",
       "      <th></th>\n",
       "      <th>15</th>\n",
       "      <th>авторитет</th>\n",
       "      <th>агент</th>\n",
       "      <th>адвокат</th>\n",
       "      <th>актер</th>\n",
       "      <th>актерский</th>\n",
       "      <th>актерский дуэт</th>\n",
       "      <th>актриса</th>\n",
       "      <th>александр</th>\n",
       "      <th>алексей</th>\n",
       "      <th>...</th>\n",
       "      <th>это</th>\n",
       "      <th>южнокорейский</th>\n",
       "      <th>юмор</th>\n",
       "      <th>юноша</th>\n",
       "      <th>юный</th>\n",
       "      <th>юридический</th>\n",
       "      <th>являться</th>\n",
       "      <th>язык</th>\n",
       "      <th>яркий</th>\n",
       "      <th>ён</th>\n",
       "    </tr>\n",
       "  </thead>\n",
       "  <tbody>\n",
       "    <tr>\n",
       "      <th>0</th>\n",
       "      <td>0.0</td>\n",
       "      <td>0.0</td>\n",
       "      <td>0.0</td>\n",
       "      <td>0.000000</td>\n",
       "      <td>0.0</td>\n",
       "      <td>0.000000</td>\n",
       "      <td>0.0</td>\n",
       "      <td>0.000000</td>\n",
       "      <td>0.000000</td>\n",
       "      <td>0.0</td>\n",
       "      <td>...</td>\n",
       "      <td>0.000000</td>\n",
       "      <td>0.0</td>\n",
       "      <td>0.000000</td>\n",
       "      <td>0.0</td>\n",
       "      <td>0.000000</td>\n",
       "      <td>0.0</td>\n",
       "      <td>0.000000</td>\n",
       "      <td>0.0</td>\n",
       "      <td>0.000000</td>\n",
       "      <td>0.000000</td>\n",
       "    </tr>\n",
       "    <tr>\n",
       "      <th>1</th>\n",
       "      <td>0.0</td>\n",
       "      <td>0.0</td>\n",
       "      <td>0.0</td>\n",
       "      <td>0.000000</td>\n",
       "      <td>0.0</td>\n",
       "      <td>0.000000</td>\n",
       "      <td>0.0</td>\n",
       "      <td>8.309267</td>\n",
       "      <td>0.000000</td>\n",
       "      <td>0.0</td>\n",
       "      <td>...</td>\n",
       "      <td>2.274321</td>\n",
       "      <td>0.0</td>\n",
       "      <td>0.000000</td>\n",
       "      <td>0.0</td>\n",
       "      <td>3.407419</td>\n",
       "      <td>0.0</td>\n",
       "      <td>0.000000</td>\n",
       "      <td>0.0</td>\n",
       "      <td>0.000000</td>\n",
       "      <td>0.000000</td>\n",
       "    </tr>\n",
       "    <tr>\n",
       "      <th>2</th>\n",
       "      <td>0.0</td>\n",
       "      <td>0.0</td>\n",
       "      <td>0.0</td>\n",
       "      <td>0.000000</td>\n",
       "      <td>0.0</td>\n",
       "      <td>0.000000</td>\n",
       "      <td>0.0</td>\n",
       "      <td>0.000000</td>\n",
       "      <td>0.000000</td>\n",
       "      <td>0.0</td>\n",
       "      <td>...</td>\n",
       "      <td>0.000000</td>\n",
       "      <td>0.0</td>\n",
       "      <td>0.000000</td>\n",
       "      <td>0.0</td>\n",
       "      <td>3.407419</td>\n",
       "      <td>0.0</td>\n",
       "      <td>0.000000</td>\n",
       "      <td>0.0</td>\n",
       "      <td>0.000000</td>\n",
       "      <td>0.000000</td>\n",
       "    </tr>\n",
       "    <tr>\n",
       "      <th>3</th>\n",
       "      <td>0.0</td>\n",
       "      <td>0.0</td>\n",
       "      <td>0.0</td>\n",
       "      <td>0.000000</td>\n",
       "      <td>0.0</td>\n",
       "      <td>3.307336</td>\n",
       "      <td>0.0</td>\n",
       "      <td>0.000000</td>\n",
       "      <td>0.000000</td>\n",
       "      <td>0.0</td>\n",
       "      <td>...</td>\n",
       "      <td>0.000000</td>\n",
       "      <td>0.0</td>\n",
       "      <td>0.000000</td>\n",
       "      <td>0.0</td>\n",
       "      <td>0.000000</td>\n",
       "      <td>0.0</td>\n",
       "      <td>4.049273</td>\n",
       "      <td>0.0</td>\n",
       "      <td>0.000000</td>\n",
       "      <td>0.000000</td>\n",
       "    </tr>\n",
       "    <tr>\n",
       "      <th>4</th>\n",
       "      <td>0.0</td>\n",
       "      <td>0.0</td>\n",
       "      <td>0.0</td>\n",
       "      <td>0.000000</td>\n",
       "      <td>0.0</td>\n",
       "      <td>0.000000</td>\n",
       "      <td>0.0</td>\n",
       "      <td>0.000000</td>\n",
       "      <td>0.000000</td>\n",
       "      <td>0.0</td>\n",
       "      <td>...</td>\n",
       "      <td>0.000000</td>\n",
       "      <td>0.0</td>\n",
       "      <td>0.000000</td>\n",
       "      <td>0.0</td>\n",
       "      <td>0.000000</td>\n",
       "      <td>0.0</td>\n",
       "      <td>0.000000</td>\n",
       "      <td>0.0</td>\n",
       "      <td>0.000000</td>\n",
       "      <td>0.000000</td>\n",
       "    </tr>\n",
       "    <tr>\n",
       "      <th>...</th>\n",
       "      <td>...</td>\n",
       "      <td>...</td>\n",
       "      <td>...</td>\n",
       "      <td>...</td>\n",
       "      <td>...</td>\n",
       "      <td>...</td>\n",
       "      <td>...</td>\n",
       "      <td>...</td>\n",
       "      <td>...</td>\n",
       "      <td>...</td>\n",
       "      <td>...</td>\n",
       "      <td>...</td>\n",
       "      <td>...</td>\n",
       "      <td>...</td>\n",
       "      <td>...</td>\n",
       "      <td>...</td>\n",
       "      <td>...</td>\n",
       "      <td>...</td>\n",
       "      <td>...</td>\n",
       "      <td>...</td>\n",
       "      <td>...</td>\n",
       "    </tr>\n",
       "    <tr>\n",
       "      <th>85</th>\n",
       "      <td>0.0</td>\n",
       "      <td>0.0</td>\n",
       "      <td>0.0</td>\n",
       "      <td>0.000000</td>\n",
       "      <td>0.0</td>\n",
       "      <td>0.000000</td>\n",
       "      <td>0.0</td>\n",
       "      <td>4.154634</td>\n",
       "      <td>0.000000</td>\n",
       "      <td>0.0</td>\n",
       "      <td>...</td>\n",
       "      <td>4.548641</td>\n",
       "      <td>0.0</td>\n",
       "      <td>4.154634</td>\n",
       "      <td>0.0</td>\n",
       "      <td>0.000000</td>\n",
       "      <td>0.0</td>\n",
       "      <td>0.000000</td>\n",
       "      <td>0.0</td>\n",
       "      <td>0.000000</td>\n",
       "      <td>4.560099</td>\n",
       "    </tr>\n",
       "    <tr>\n",
       "      <th>86</th>\n",
       "      <td>0.0</td>\n",
       "      <td>0.0</td>\n",
       "      <td>0.0</td>\n",
       "      <td>0.000000</td>\n",
       "      <td>0.0</td>\n",
       "      <td>0.000000</td>\n",
       "      <td>0.0</td>\n",
       "      <td>0.000000</td>\n",
       "      <td>0.000000</td>\n",
       "      <td>0.0</td>\n",
       "      <td>...</td>\n",
       "      <td>0.000000</td>\n",
       "      <td>0.0</td>\n",
       "      <td>0.000000</td>\n",
       "      <td>0.0</td>\n",
       "      <td>0.000000</td>\n",
       "      <td>0.0</td>\n",
       "      <td>0.000000</td>\n",
       "      <td>0.0</td>\n",
       "      <td>8.309267</td>\n",
       "      <td>0.000000</td>\n",
       "    </tr>\n",
       "    <tr>\n",
       "      <th>87</th>\n",
       "      <td>0.0</td>\n",
       "      <td>0.0</td>\n",
       "      <td>0.0</td>\n",
       "      <td>0.000000</td>\n",
       "      <td>0.0</td>\n",
       "      <td>0.000000</td>\n",
       "      <td>0.0</td>\n",
       "      <td>0.000000</td>\n",
       "      <td>0.000000</td>\n",
       "      <td>0.0</td>\n",
       "      <td>...</td>\n",
       "      <td>0.000000</td>\n",
       "      <td>0.0</td>\n",
       "      <td>0.000000</td>\n",
       "      <td>0.0</td>\n",
       "      <td>0.000000</td>\n",
       "      <td>0.0</td>\n",
       "      <td>0.000000</td>\n",
       "      <td>0.0</td>\n",
       "      <td>0.000000</td>\n",
       "      <td>0.000000</td>\n",
       "    </tr>\n",
       "    <tr>\n",
       "      <th>88</th>\n",
       "      <td>0.0</td>\n",
       "      <td>0.0</td>\n",
       "      <td>0.0</td>\n",
       "      <td>7.573818</td>\n",
       "      <td>0.0</td>\n",
       "      <td>0.000000</td>\n",
       "      <td>0.0</td>\n",
       "      <td>0.000000</td>\n",
       "      <td>0.000000</td>\n",
       "      <td>0.0</td>\n",
       "      <td>...</td>\n",
       "      <td>0.000000</td>\n",
       "      <td>0.0</td>\n",
       "      <td>0.000000</td>\n",
       "      <td>0.0</td>\n",
       "      <td>0.000000</td>\n",
       "      <td>0.0</td>\n",
       "      <td>0.000000</td>\n",
       "      <td>0.0</td>\n",
       "      <td>0.000000</td>\n",
       "      <td>0.000000</td>\n",
       "    </tr>\n",
       "    <tr>\n",
       "      <th>89</th>\n",
       "      <td>0.0</td>\n",
       "      <td>0.0</td>\n",
       "      <td>0.0</td>\n",
       "      <td>0.000000</td>\n",
       "      <td>0.0</td>\n",
       "      <td>0.000000</td>\n",
       "      <td>0.0</td>\n",
       "      <td>0.000000</td>\n",
       "      <td>4.154634</td>\n",
       "      <td>0.0</td>\n",
       "      <td>...</td>\n",
       "      <td>0.000000</td>\n",
       "      <td>0.0</td>\n",
       "      <td>0.000000</td>\n",
       "      <td>0.0</td>\n",
       "      <td>0.000000</td>\n",
       "      <td>0.0</td>\n",
       "      <td>0.000000</td>\n",
       "      <td>0.0</td>\n",
       "      <td>0.000000</td>\n",
       "      <td>0.000000</td>\n",
       "    </tr>\n",
       "  </tbody>\n",
       "</table>\n",
       "<p>90 rows × 861 columns</p>\n",
       "</div>"
      ],
      "text/plain": [
       "     15  авторитет  агент   адвокат  актер  актерский  актерский дуэт  \\\n",
       "0   0.0        0.0    0.0  0.000000    0.0   0.000000             0.0   \n",
       "1   0.0        0.0    0.0  0.000000    0.0   0.000000             0.0   \n",
       "2   0.0        0.0    0.0  0.000000    0.0   0.000000             0.0   \n",
       "3   0.0        0.0    0.0  0.000000    0.0   3.307336             0.0   \n",
       "4   0.0        0.0    0.0  0.000000    0.0   0.000000             0.0   \n",
       "..  ...        ...    ...       ...    ...        ...             ...   \n",
       "85  0.0        0.0    0.0  0.000000    0.0   0.000000             0.0   \n",
       "86  0.0        0.0    0.0  0.000000    0.0   0.000000             0.0   \n",
       "87  0.0        0.0    0.0  0.000000    0.0   0.000000             0.0   \n",
       "88  0.0        0.0    0.0  7.573818    0.0   0.000000             0.0   \n",
       "89  0.0        0.0    0.0  0.000000    0.0   0.000000             0.0   \n",
       "\n",
       "     актриса  александр  алексей  ...       это  южнокорейский      юмор  \\\n",
       "0   0.000000   0.000000      0.0  ...  0.000000            0.0  0.000000   \n",
       "1   8.309267   0.000000      0.0  ...  2.274321            0.0  0.000000   \n",
       "2   0.000000   0.000000      0.0  ...  0.000000            0.0  0.000000   \n",
       "3   0.000000   0.000000      0.0  ...  0.000000            0.0  0.000000   \n",
       "4   0.000000   0.000000      0.0  ...  0.000000            0.0  0.000000   \n",
       "..       ...        ...      ...  ...       ...            ...       ...   \n",
       "85  4.154634   0.000000      0.0  ...  4.548641            0.0  4.154634   \n",
       "86  0.000000   0.000000      0.0  ...  0.000000            0.0  0.000000   \n",
       "87  0.000000   0.000000      0.0  ...  0.000000            0.0  0.000000   \n",
       "88  0.000000   0.000000      0.0  ...  0.000000            0.0  0.000000   \n",
       "89  0.000000   4.154634      0.0  ...  0.000000            0.0  0.000000   \n",
       "\n",
       "    юноша      юный  юридический  являться  язык     яркий        ён  \n",
       "0     0.0  0.000000          0.0  0.000000   0.0  0.000000  0.000000  \n",
       "1     0.0  3.407419          0.0  0.000000   0.0  0.000000  0.000000  \n",
       "2     0.0  3.407419          0.0  0.000000   0.0  0.000000  0.000000  \n",
       "3     0.0  0.000000          0.0  4.049273   0.0  0.000000  0.000000  \n",
       "4     0.0  0.000000          0.0  0.000000   0.0  0.000000  0.000000  \n",
       "..    ...       ...          ...       ...   ...       ...       ...  \n",
       "85    0.0  0.000000          0.0  0.000000   0.0  0.000000  4.560099  \n",
       "86    0.0  0.000000          0.0  0.000000   0.0  8.309267  0.000000  \n",
       "87    0.0  0.000000          0.0  0.000000   0.0  0.000000  0.000000  \n",
       "88    0.0  0.000000          0.0  0.000000   0.0  0.000000  0.000000  \n",
       "89    0.0  0.000000          0.0  0.000000   0.0  0.000000  0.000000  \n",
       "\n",
       "[90 rows x 861 columns]"
      ]
     },
     "execution_count": 105,
     "metadata": {},
     "output_type": "execute_result"
    }
   ],
   "source": [
    "test_data = pd.DataFrame(\n",
    "    tfidf_model.transform(X_test).todense(),\n",
    "    columns=tfidf_model.get_feature_names_out()\n",
    ")\n",
    "test_data"
   ]
  },
  {
   "cell_type": "markdown",
   "id": "d898402c",
   "metadata": {},
   "source": [
    "Воспользуемся моделью линейной регрессии и построим модель зависимости текстовое описание фильма + средний рейтинг в качестве целевой переменной.\n",
    "Создадим функцию, которая будет вычислять основные метрики качества."
   ]
  },
  {
   "cell_type": "code",
   "execution_count": 106,
   "id": "36315af3",
   "metadata": {},
   "outputs": [
    {
     "data": {
      "text/html": [
       "<div>\n",
       "<style scoped>\n",
       "    .dataframe tbody tr th:only-of-type {\n",
       "        vertical-align: middle;\n",
       "    }\n",
       "\n",
       "    .dataframe tbody tr th {\n",
       "        vertical-align: top;\n",
       "    }\n",
       "\n",
       "    .dataframe thead th {\n",
       "        text-align: right;\n",
       "    }\n",
       "</style>\n",
       "<table border=\"1\" class=\"dataframe\">\n",
       "  <thead>\n",
       "    <tr style=\"text-align: right;\">\n",
       "      <th></th>\n",
       "    </tr>\n",
       "    <tr>\n",
       "      <th>error_type</th>\n",
       "    </tr>\n",
       "  </thead>\n",
       "  <tbody>\n",
       "    <tr>\n",
       "      <th>MAE</th>\n",
       "    </tr>\n",
       "    <tr>\n",
       "      <th>MSE</th>\n",
       "    </tr>\n",
       "    <tr>\n",
       "      <th>R2</th>\n",
       "    </tr>\n",
       "  </tbody>\n",
       "</table>\n",
       "</div>"
      ],
      "text/plain": [
       "Empty DataFrame\n",
       "Columns: []\n",
       "Index: [MAE, MSE, R2]"
      ]
     },
     "execution_count": 106,
     "metadata": {},
     "output_type": "execute_result"
    }
   ],
   "source": [
    "from sklearn import metrics\n",
    "\n",
    "metrics_table = pd.DataFrame({\"error_type\":[\"MAE\", \"MSE\", \"R2\"]})\n",
    "metrics_table.set_index(\"error_type\")"
   ]
  },
  {
   "cell_type": "code",
   "execution_count": 107,
   "id": "7b6ec7f7",
   "metadata": {},
   "outputs": [
    {
     "name": "stdout",
     "output_type": "stream",
     "text": [
      "Best Score:  0.17851181959026485\n",
      "Best Params:  {'alpha': 0.41000000000000003}\n"
     ]
    },
    {
     "data": {
      "text/html": [
       "<div>\n",
       "<style scoped>\n",
       "    .dataframe tbody tr th:only-of-type {\n",
       "        vertical-align: middle;\n",
       "    }\n",
       "\n",
       "    .dataframe tbody tr th {\n",
       "        vertical-align: top;\n",
       "    }\n",
       "\n",
       "    .dataframe thead th {\n",
       "        text-align: right;\n",
       "    }\n",
       "</style>\n",
       "<table border=\"1\" class=\"dataframe\">\n",
       "  <thead>\n",
       "    <tr style=\"text-align: right;\">\n",
       "      <th></th>\n",
       "      <th>error_type</th>\n",
       "      <th>Regressor</th>\n",
       "    </tr>\n",
       "  </thead>\n",
       "  <tbody>\n",
       "    <tr>\n",
       "      <th>0</th>\n",
       "      <td>MAE</td>\n",
       "      <td>2.773547</td>\n",
       "    </tr>\n",
       "    <tr>\n",
       "      <th>1</th>\n",
       "      <td>MSE</td>\n",
       "      <td>11.820061</td>\n",
       "    </tr>\n",
       "    <tr>\n",
       "      <th>2</th>\n",
       "      <td>R2</td>\n",
       "      <td>0.177760</td>\n",
       "    </tr>\n",
       "  </tbody>\n",
       "</table>\n",
       "</div>"
      ],
      "text/plain": [
       "  error_type  Regressor\n",
       "0        MAE   2.773547\n",
       "1        MSE  11.820061\n",
       "2         R2   0.177760"
      ]
     },
     "execution_count": 107,
     "metadata": {},
     "output_type": "execute_result"
    }
   ],
   "source": [
    "import numpy as np\n",
    "from sklearn.linear_model import Lasso\n",
    "from sklearn.model_selection import GridSearchCV\n",
    "\n",
    "grid_search = GridSearchCV(estimator=Lasso(), \n",
    "                         param_grid={'alpha': np.arange(0.01, 10, 0.1)}, \n",
    "                         scoring='r2',                          \n",
    "                         n_jobs=-1)\n",
    "grid_search.fit(train_data, y_train)\n",
    "\n",
    "print('Best Score: ', grid_search.best_score_)\n",
    "print('Best Params: ', grid_search.best_params_)\n",
    "\n",
    "y_pred = grid_search.predict(test_data)\n",
    "regressor = grid_search.best_estimator_\n",
    "\n",
    "metrics_table['Regressor'] = [\n",
    "    metrics.mean_absolute_error(y_test, y_pred),\n",
    "    metrics.mean_squared_error(y_test, y_pred),\n",
    "    metrics.r2_score(y_test, y_pred)\n",
    "]\n",
    "\n",
    "metrics_table"
   ]
  },
  {
   "cell_type": "code",
   "execution_count": 108,
   "id": "e20651a6",
   "metadata": {},
   "outputs": [
    {
     "data": {
      "text/plain": [
       "Index(['анна', 'богатый', 'брат', 'век', 'весь', 'вскоре', 'город', 'девочка',\n",
       "       'девушка', 'дело', 'демон', 'детектив', 'дмитрий', 'дорам', 'дочь',\n",
       "       'друг друг', 'звезда', 'зейнеп', 'имя', 'интернет', 'ким', 'который',\n",
       "       'легкий', 'лицо', 'майор', 'наш сайт', 'невеста', 'новый',\n",
       "       'обнаруживать', 'остросюжетный', 'подозревать', 'разбираться', 'сайт',\n",
       "       'сайт приглашать', 'самый', 'свой', 'сестра', 'смерть', 'сон',\n",
       "       'счастие', 'хен', 'школа', 'ён'],\n",
       "      dtype='object')"
      ]
     },
     "execution_count": 108,
     "metadata": {},
     "output_type": "execute_result"
    }
   ],
   "source": [
    "#Построим график важности признаков (топ-50 слов)\n",
    "\n",
    "train_data.columns[regressor.coef_!=0]"
   ]
  },
  {
   "cell_type": "code",
   "execution_count": 109,
   "id": "12a0e294",
   "metadata": {},
   "outputs": [
    {
     "data": {
      "image/png": "[encoded data removed]",
      "text/plain": [
       "<Figure size 2000x500 with 1 Axes>"
      ]
     },
     "metadata": {},
     "output_type": "display_data"
    }
   ],
   "source": [
    "import matplotlib.pyplot as plt\n",
    "%matplotlib inline\n",
    "\n",
    "featureImportance = pd.DataFrame({\"feature\": train_data.columns[regressor.coef_!=0], \n",
    "                                  \"importance\": regressor.coef_[regressor.coef_!=0]})\n",
    "\n",
    "featureImportance.set_index('feature', inplace=True)\n",
    "featureImportance.sort_values([\"importance\"], ascending=False, inplace=True)\n",
    "\n",
    "featureImportance[\"importance\"].plot(kind='bar', figsize=(20, 5));    \n",
    "plt.title(\"Feature Importance\")\n",
    "plt.xlabel(\"Feature\")\n",
    "plt.ylabel(\"Importance\")\n",
    "plt.show()"
   ]
  },
  {
   "cell_type": "code",
   "execution_count": null,
   "id": "c9928ac4",
   "metadata": {},
   "outputs": [],
   "source": []
  }
 ],
 "metadata": {
  "kernelspec": {
   "display_name": "Python 3 (ipykernel)",
   "language": "python",
   "name": "python3"
  },
  "language_info": {
   "codemirror_mode": {
    "name": "ipython",
    "version": 3
   },
   "file_extension": ".py",
   "mimetype": "text/x-python",
   "name": "python",
   "nbconvert_exporter": "python",
   "pygments_lexer": "ipython3",
   "version": "3.11.5"
  }
 },
 "nbformat": 4,
 "nbformat_minor": 5
}
