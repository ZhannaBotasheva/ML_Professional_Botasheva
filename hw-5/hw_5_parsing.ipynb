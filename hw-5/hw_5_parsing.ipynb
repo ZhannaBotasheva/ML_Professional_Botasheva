{
 "cells": [
  {
   "cell_type": "markdown",
   "id": "617252a5",
   "metadata": {},
   "source": [
    "## HW 5\n",
    "Botasheva Zhanna"
   ]
  },
  {
   "cell_type": "markdown",
   "id": "e2a59122",
   "metadata": {},
   "source": [
    "## Откуда берутся датасеты? Практический проект по сбору данных и работе с текстами"
   ]
  },
  {
   "cell_type": "markdown",
   "id": "49a3b4b1",
   "metadata": {},
   "source": [
    "### Часть 1. Парсинг"
   ]
  },
  {
   "cell_type": "code",
   "execution_count": 1,
   "id": "4024bbba",
   "metadata": {},
   "outputs": [],
   "source": [
    "import warnings\n",
    "warnings.filterwarnings(\"ignore\")"
   ]
  },
  {
   "cell_type": "code",
   "execution_count": 2,
   "id": "2e52c8f4",
   "metadata": {},
   "outputs": [],
   "source": [
    "import requests      # Библиотека для отправки запросов\n",
    "import numpy as np   # Библиотека для матриц, векторов и линала\n",
    "import pandas as pd  # Библиотека для табличек\n",
    "import time          # Библиотека для времени"
   ]
  },
  {
   "cell_type": "code",
   "execution_count": 3,
   "id": "338010bc",
   "metadata": {},
   "outputs": [],
   "source": [
    "page_link = 'https://www.ivi.ru/collections/serialy-s-vyisokim-rejtingom'"
   ]
  },
  {
   "cell_type": "code",
   "execution_count": 4,
   "id": "36df67bc",
   "metadata": {},
   "outputs": [],
   "source": [
    "# подгрузим один из методов этой библиотеки\n",
    "from fake_useragent import UserAgent"
   ]
  },
  {
   "cell_type": "code",
   "execution_count": 5,
   "id": "41f64e7e",
   "metadata": {},
   "outputs": [
    {
     "data": {
      "text/plain": [
       "'Mozilla/5.0 (X11; Linux x86_64) AppleWebKit/537.36 (KHTML, like Gecko) Chrome/114.0.0.0 Safari/537.36'"
      ]
     },
     "execution_count": 5,
     "metadata": {},
     "output_type": "execute_result"
    }
   ],
   "source": [
    "UserAgent().chrome"
   ]
  },
  {
   "cell_type": "code",
   "execution_count": 6,
   "id": "a7a69679",
   "metadata": {},
   "outputs": [
    {
     "data": {
      "text/plain": [
       "<Response [200]>"
      ]
     },
     "execution_count": 6,
     "metadata": {},
     "output_type": "execute_result"
    }
   ],
   "source": [
    "response = requests.get(page_link, headers={'User-Agent': UserAgent().chrome})\n",
    "response"
   ]
  },
  {
   "cell_type": "code",
   "execution_count": 7,
   "id": "9a97d8c5",
   "metadata": {},
   "outputs": [
    {
     "data": {
      "text/plain": [
       "requests.models.Response"
      ]
     },
     "execution_count": 7,
     "metadata": {},
     "output_type": "execute_result"
    }
   ],
   "source": [
    "type(response)"
   ]
  },
  {
   "cell_type": "code",
   "execution_count": 8,
   "id": "782ef178",
   "metadata": {},
   "outputs": [],
   "source": [
    "html = response.content"
   ]
  },
  {
   "cell_type": "code",
   "execution_count": 9,
   "id": "070680f4",
   "metadata": {},
   "outputs": [
    {
     "data": {
      "text/plain": [
       "b'<!DOCTYPE html><html lang=\"ru\" prefix=\"og: https://ogp.me/ns# video: http://ogp.me/ns/video# ya: https://webmaster.yandex.ru/vocabularies/\"><head><base href=\"https://www.ivi.tv/\"/><script type=\"text/javascript\">\\n                        (function(m,e,t,r,i,k,a){m[i]=m[i]||function(){(m[i].a=m[i].a||[]).push(arguments)};\\n                        m[i].l=1*new Date();\\n                        for (var j = 0; j < document.scripts.length; j++) {if (document.scripts[j].src === r) { return; }}\\n                        k=e.createElement(t),a=e.getElementsByTagName(t)[0],k.async=1,k.src=r,a.parentNode.insertBefore(k,a)})\\n                        (window, document, \"script\", \"https://mc.yandex.ru/metrika/tag.js\", \"ym\");\\n        \\n                        ym(89754140, \"init\", {\\n                            clickmap:true,\\n                            trackLinks:true,\\n                            accurateTrackBounce:true\\n                        });\\n                    </script><noscript><div><img src=\"https:'"
      ]
     },
     "execution_count": 9,
     "metadata": {},
     "output_type": "execute_result"
    }
   ],
   "source": [
    "html[:1000]"
   ]
  },
  {
   "cell_type": "code",
   "execution_count": 10,
   "id": "8e37bf42",
   "metadata": {},
   "outputs": [
    {
     "data": {
      "text/plain": [
       "b'assword\":\"\",\"passwordResetParams\":null,\"loginChangeAllowed\":false,\"authAction\":null,\"authType\":null,\"code\":\"\",\"returnStep\":null,\"codeDevice\":\"\",\"profileData\":null,\"phoneAuthenticationMethod\":\"sms\",\"isLoginFromMenu\":false,\"backRoute\":\"\"},\"buy\":{\"initPsKey\":null,\"initPsMethod\":null,\"initPsAccountId\":null,\"phone\":\"\",\"subscriptionId\":null},\"certificate\":{\"key\":\"\"},\"navigationBar\":{\"title\":\"\",\"subtitle\":\"\",\"prevTitle\":\"\",\"initSubtitle\":\"\",\"totalStepsInScenario\":null},\"contacts\":{\"contactType\":\"email\",\"contactValue\":\"\",\"availableContactValue\":null,\"numberOfAttempts\":null,\"availableMerge\":false,\"mode\":\"bind\"},\"needAcceptOferta\":false,\"reloadOnClose\":false},\"catalog\":{\"pages\":{\"1\":{\"index\":1,\"items\":[14194,16974,17240,17216,15817,16522,17357,16790,9249,17280,16953,16952,14415,16181,15716,16791,15715,17127,16789,15394,16740,16934,7651,9775,9295,8127,14460,12042,14276,7305],\"status\":\"success\"}},\"initialPage\":1,\"itemsCount\":51,\"itemsPerRow\":7}}</script><div id=\"footer-assets\"></div></body></html>'"
      ]
     },
     "execution_count": 10,
     "metadata": {},
     "output_type": "execute_result"
    }
   ],
   "source": [
    "html[-1000:]"
   ]
  },
  {
   "cell_type": "code",
   "execution_count": 11,
   "id": "dd3662f6",
   "metadata": {},
   "outputs": [
    {
     "data": {
      "text/plain": [
       "329020"
      ]
     },
     "execution_count": 11,
     "metadata": {},
     "output_type": "execute_result"
    }
   ],
   "source": [
    "len(html)"
   ]
  },
  {
   "cell_type": "code",
   "execution_count": 12,
   "id": "61e62d4a",
   "metadata": {},
   "outputs": [
    {
     "data": {
      "text/plain": [
       "bytes"
      ]
     },
     "execution_count": 12,
     "metadata": {},
     "output_type": "execute_result"
    }
   ],
   "source": [
    "type(html)"
   ]
  },
  {
   "cell_type": "markdown",
   "id": "0842e211",
   "metadata": {},
   "source": [
    "Готовим суп))"
   ]
  },
  {
   "cell_type": "code",
   "execution_count": 13,
   "id": "dc3707a2",
   "metadata": {},
   "outputs": [],
   "source": [
    "from bs4 import BeautifulSoup"
   ]
  },
  {
   "cell_type": "code",
   "execution_count": 14,
   "id": "f5dd96e0",
   "metadata": {},
   "outputs": [],
   "source": [
    "soup = BeautifulSoup(html, 'html.parser') # В опции также можно указать lxml,\n",
    "                                         # если предварительно установить одноименный пакет"
   ]
  },
  {
   "cell_type": "code",
   "execution_count": 15,
   "id": "3dffe100",
   "metadata": {},
   "outputs": [
    {
     "data": {
      "text/plain": [
       "bs4.BeautifulSoup"
      ]
     },
     "execution_count": 15,
     "metadata": {},
     "output_type": "execute_result"
    }
   ],
   "source": [
    "type(soup)"
   ]
  },
  {
   "cell_type": "code",
   "execution_count": 16,
   "id": "0866f1fd",
   "metadata": {},
   "outputs": [
    {
     "name": "stdout",
     "output_type": "stream",
     "text": [
      "<!DOCTYPE html>\n",
      "<html lang=\"ru\" prefix=\"og: https://ogp.me/ns# video: http://ogp.me/ns/video# ya: https://webmaster.yandex.ru/vocabularies/\">\n",
      " <head>\n",
      "  <base href=\"https://www.ivi.tv/\"/>\n",
      "  <script type=\"text/javascript\">\n",
      "   (function(m,e,t,r,i,k,a){m[i]=m[i]||function(){(m[i].a=m[i].a||[]).push(arguments)};\n",
      "                        m[i].l=1*new Date();\n",
      "                        for (var j = 0; j < document.scripts.length; j++) {if (document.scripts[j].src === r) { return; }}\n",
      "                        k=e.createElement(t),a=e.getElementsByTagName(t)[0],k.async=1,k.src=r,a.parentNode.insertBefore(k,a)})\n",
      "                        (window, document, \"script\", \"https://mc.yandex.ru/metrika/tag.js\", \"ym\");\n",
      "        \n",
      "                        ym(89754140, \"init\", {\n",
      "                            clickmap:true,\n",
      "                            trackLinks:true,\n",
      "                            accurateTrackBounce:true\n",
      "                        });\n",
      "  </script>\n",
      "  <noscript>\n",
      "   <div>\n",
      "    <img alt=\"\" src=\"https://mc.yandex.ru/watch/89754140\" style=\"position:absolute;left:-9999px\"/>\n",
      "   </div>\n",
      "  </noscript>\n",
      "  <title>\n",
      "   Сериалы с высоким рейтингом по подписке смотреть онлайн. Список лучшего контента в подборке в HD качестве\n",
      "  </title>\n",
      "  <link href=\"https://gambit-parent.dfs.ivi.ru/dist/release_23.12.12_d6da2faa/esnext/storm.bundle.dfea71.css\" rel=\"stylesheet\"/>\n",
      "  <link href=\"https://gambit-parent.dfs.ivi.ru/dist/release_23.12.12_d6da2faa/esnext/SingleCollectionPage.eb1f36.css\" rel=\"stylesheet\"/>\n",
      "  <script defer=\"\" fetchpriority=\"high\" src=\"https://gambit-parent.dfs.ivi.ru/dist/release_23.12.12_d6da2faa/esnext/SingleCollectionPage.eb1f36.js\">\n",
      "  </script>\n",
      "  <script defer=\"\" fetchpriority=\"high\" src=\"https://gambit-parent.dfs.ivi.ru/dist/release_23.12.12_d6da2faa/esnext/storm.bundle.dfea71.js\">\n",
      "  </script>\n",
      "  <meta charset=\"utf-8\"/>\n",
      "  <meta content=\"width=device-width, initial-scale=1\" name=\"viewport\"/>\n",
      "  <meta content=\"Сериалы с высоким рейтингом по подписке, Подборка, общие\" name=\"keywords\"/>\n",
      "  <meta content=\"Сериалы с высоким рейтингом по подписке смотреть онлайн. Список лучшего контента в подборке в HD качестве\" property=\"og:title\"/>\n",
      "  <meta content=\"Сериалы с высоким рейтингом по подписке смотреть онлайн. Список лучшего контента в подборке в HD качестве\" property=\"mrc__share_title\"/>\n",
      "  <meta content=\"https://gambit-parent.dfs.ivi.ru/dist/release_23.12.12_d6da2faa/storm/images/social/ivi_1000x523.jpg\" property=\"og:image\"/>\n",
      "  <meta content=\"968\" property=\"og:image:width\"/>\n",
      "  <meta content=\"504\" property=\"og:image:height\"/>\n",
      "  <meta content=\"https://gambit-parent.dfs.ivi.ru/dist/release_23.12.12_d6da2faa/storm/images/social/ivi_1000x523.jpg\" name=\"twitter:image:src\"/>\n",
      "  <link href=\"https://gambit-parent.dfs.ivi.ru/dist/release_23.12.12_d6da2faa/storm/images/social/ivi_1000x523.jpg\" rel=\"image_src\"/>\n",
      "  <link href=\"https://gambit-parent.dfs.ivi.ru/dist/release_23.12.12_d6da2faa/storm/images/favicon/64.png\" rel=\"shortcut icon\" type=\"image/png\"/>\n",
      "  <link href=\"https://gambit-parent.dfs.ivi.ru\n"
     ]
    }
   ],
   "source": [
    "print(soup.prettify()[:3000])"
   ]
  },
  {
   "cell_type": "code",
   "execution_count": 17,
   "id": "8db11a20",
   "metadata": {},
   "outputs": [
    {
     "data": {
      "text/plain": [
       "<title>Сериалы с высоким рейтингом по подписке смотреть онлайн. Список лучшего контента в подборке в HD качестве</title>"
      ]
     },
     "execution_count": 17,
     "metadata": {},
     "output_type": "execute_result"
    }
   ],
   "source": [
    "soup.html.head.title"
   ]
  },
  {
   "cell_type": "code",
   "execution_count": 18,
   "id": "295247f5",
   "metadata": {},
   "outputs": [
    {
     "data": {
      "text/plain": [
       "bs4.element.Tag"
      ]
     },
     "execution_count": 18,
     "metadata": {},
     "output_type": "execute_result"
    }
   ],
   "source": [
    "type(soup.html.head.title)"
   ]
  },
  {
   "cell_type": "code",
   "execution_count": 19,
   "id": "8bf50d47",
   "metadata": {},
   "outputs": [
    {
     "data": {
      "text/plain": [
       "'Сериалы с высоким рейтингом по подписке смотреть онлайн. Список лучшего контента в подборке в HD качестве'"
      ]
     },
     "execution_count": 19,
     "metadata": {},
     "output_type": "execute_result"
    }
   ],
   "source": [
    "soup.html.head.title.text"
   ]
  },
  {
   "cell_type": "code",
   "execution_count": 20,
   "id": "9c86cef1",
   "metadata": {},
   "outputs": [
    {
     "data": {
      "text/plain": [
       "str"
      ]
     },
     "execution_count": 20,
     "metadata": {},
     "output_type": "execute_result"
    }
   ],
   "source": [
    "type(soup.html.head.title.text)"
   ]
  },
  {
   "cell_type": "code",
   "execution_count": 21,
   "id": "d37fab11",
   "metadata": {},
   "outputs": [
    {
     "data": {
      "text/plain": [
       "<a class=\"nbl-slimPosterBlock nbl-slimPosterBlock_type_poster nbl-slimPosterBlock_iconStatus_none nbl-slimPosterBlock_available collections__nbl-slimPosterBlock\" data-content-id=\"14194\" href=\"/watch/nezhnost\" to=\"/watch/nezhnost\"><div class=\"nbl-slimPosterBlock__imageSection\"><div class=\"nbl-poster nbl-poster_type_poster nbl-poster_extrasMode_rusk nbl-slimPosterBlock__nbl-poster\"><div class=\"nbl-poster__imageWrapper\"><picture><source media=\"(min-width: 1272px)\" srcset=\"https://thumbs.dfs.ivi.ru/storage28/contents/0/9/84e84dd3f49ddc4bcedb3e273f0b5a.jpg/160x244/?q=85 \"/><source media=\"(min-width: 1096px)\" srcset=\"https://thumbs.dfs.ivi.ru/storage28/contents/0/9/84e84dd3f49ddc4bcedb3e273f0b5a.jpg/180x280/?q=85 \"/><source media=\"(min-width: 920px)\" srcset=\"https://thumbs.dfs.ivi.ru/storage28/contents/0/9/84e84dd3f49ddc4bcedb3e273f0b5a.jpg/190x290/?q=85 \"/><source media=\"(min-width: 744px)\" srcset=\"https://thumbs.dfs.ivi.ru/storage28/contents/0/9/84e84dd3f49ddc4bcedb3e273f0b5a.jpg/195x300/?q=85 \"/><source media=\"(min-width: 600px)\" srcset=\"https://thumbs.dfs.ivi.ru/storage28/contents/0/9/84e84dd3f49ddc4bcedb3e273f0b5a.jpg/210x322/?q=85 \"/><source media=\"(min-width: 392px)\" srcset=\"https://thumbs.dfs.ivi.ru/storage28/contents/0/9/84e84dd3f49ddc4bcedb3e273f0b5a.jpg/125x190/?q=85 \"/><img alt=\"Нежность\" class=\"nbl-poster__image\" data-srcset=\"\" data-stub=\"false\" src=\"https://thumbs.dfs.ivi.ru/storage28/contents/0/9/84e84dd3f49ddc4bcedb3e273f0b5a.jpg/162x248/?q=85\"/></picture></div><div class=\"nbl-poster__properties\"><div class=\"nbl-poster__properties-inner\"><div class=\"nbl-poster__propertiesRow\"><div class=\"nbl-poster__nbl-ratingCompact nbl-ratingCompact nbl-ratingCompact_style_utis nbl-ratingCompact_hasExtra_0\"><div class=\"nbl-ratingCompact__value\"><div class=\"nbl-ratingCompact__valueInteger\">8</div><div class=\"nbl-ratingCompact__valueFraction\">,<!-- -->6</div></div></div></div><div class=\"nbl-poster__propertiesInfo\"><div class=\"nbl-poster__propertiesRow\">2020-2024, Россия, Мелодрамы</div><div class=\"nbl-poster__propertiesRow\">2 сезона</div></div></div></div><div class=\"nbl-textBadge nbl-textBadge_size_dadom nbl-textBadge_style_alli nbl-textBadge_isShadowEnabled_1 nbl-poster__nbl-textBadge nbl-poster__mainTextBadge\"><div class=\"nbl-textBadge__text\">сериал Иви</div></div><div class=\"nbl-ageBadge nbl-ageBadge nbl-ageBadge_value_18 nbl-poster__nbl-ageBadge\"></div></div></div><div class=\"nbl-slimPosterBlock__textSection\"><div class=\"nbl-slimPosterBlock__title\"><span class=\"nbl-slimPosterBlock__titleText\">Нежность</span></div><div class=\"nbl-slimPosterBlock__extra\"><div class=\"nbl-slimPosterBlock__extraItem\"><div class=\"nbl-stub nbl-stub_hasBlinkAnimation_1 nbl-stub_style_rodi\"></div></div></div></div></a>"
      ]
     },
     "execution_count": 21,
     "metadata": {},
     "output_type": "execute_result"
    }
   ],
   "source": [
    "obj = soup.find('a', attrs = {'class':'nbl-slimPosterBlock'})\n",
    "obj"
   ]
  },
  {
   "cell_type": "code",
   "execution_count": 22,
   "id": "63959e0f",
   "metadata": {},
   "outputs": [
    {
     "data": {
      "text/plain": [
       "['nbl-slimPosterBlock',\n",
       " 'nbl-slimPosterBlock_type_poster',\n",
       " 'nbl-slimPosterBlock_iconStatus_none',\n",
       " 'nbl-slimPosterBlock_available',\n",
       " 'collections__nbl-slimPosterBlock']"
      ]
     },
     "execution_count": 22,
     "metadata": {},
     "output_type": "execute_result"
    }
   ],
   "source": [
    "obj.get(\"class\")"
   ]
  },
  {
   "cell_type": "code",
   "execution_count": 23,
   "id": "e8297882",
   "metadata": {},
   "outputs": [
    {
     "data": {
      "text/plain": [
       "'/watch/nezhnost'"
      ]
     },
     "execution_count": 23,
     "metadata": {},
     "output_type": "execute_result"
    }
   ],
   "source": [
    "obj.attrs['href']"
   ]
  },
  {
   "cell_type": "code",
   "execution_count": 24,
   "id": "645cfca1",
   "metadata": {},
   "outputs": [
    {
     "name": "stdout",
     "output_type": "stream",
     "text": [
      "Тип данных до вытаскивания ссылки: <class 'bs4.element.Tag'>\n",
      "Тип данных после вытаскивания ссылки: <class 'str'>\n"
     ]
    }
   ],
   "source": [
    "print(\"Тип данных до вытаскивания ссылки:\", type(obj))\n",
    "print(\"Тип данных после вытаскивания ссылки:\", type(obj.attrs['href']))"
   ]
  },
  {
   "cell_type": "code",
   "execution_count": 25,
   "id": "9f8fd221",
   "metadata": {},
   "outputs": [
    {
     "data": {
      "text/plain": [
       "[<a class=\"nbl-slimPosterBlock nbl-slimPosterBlock_type_poster nbl-slimPosterBlock_iconStatus_none nbl-slimPosterBlock_available collections__nbl-slimPosterBlock\" data-content-id=\"14194\" href=\"/watch/nezhnost\" to=\"/watch/nezhnost\"><div class=\"nbl-slimPosterBlock__imageSection\"><div class=\"nbl-poster nbl-poster_type_poster nbl-poster_extrasMode_rusk nbl-slimPosterBlock__nbl-poster\"><div class=\"nbl-poster__imageWrapper\"><picture><source media=\"(min-width: 1272px)\" srcset=\"https://thumbs.dfs.ivi.ru/storage28/contents/0/9/84e84dd3f49ddc4bcedb3e273f0b5a.jpg/160x244/?q=85 \"/><source media=\"(min-width: 1096px)\" srcset=\"https://thumbs.dfs.ivi.ru/storage28/contents/0/9/84e84dd3f49ddc4bcedb3e273f0b5a.jpg/180x280/?q=85 \"/><source media=\"(min-width: 920px)\" srcset=\"https://thumbs.dfs.ivi.ru/storage28/contents/0/9/84e84dd3f49ddc4bcedb3e273f0b5a.jpg/190x290/?q=85 \"/><source media=\"(min-width: 744px)\" srcset=\"https://thumbs.dfs.ivi.ru/storage28/contents/0/9/84e84dd3f49ddc4bcedb3e273f0b5a.jpg/195x300/?q=85 \"/><source media=\"(min-width: 600px)\" srcset=\"https://thumbs.dfs.ivi.ru/storage28/contents/0/9/84e84dd3f49ddc4bcedb3e273f0b5a.jpg/210x322/?q=85 \"/><source media=\"(min-width: 392px)\" srcset=\"https://thumbs.dfs.ivi.ru/storage28/contents/0/9/84e84dd3f49ddc4bcedb3e273f0b5a.jpg/125x190/?q=85 \"/><img alt=\"Нежность\" class=\"nbl-poster__image\" data-srcset=\"\" data-stub=\"false\" src=\"https://thumbs.dfs.ivi.ru/storage28/contents/0/9/84e84dd3f49ddc4bcedb3e273f0b5a.jpg/162x248/?q=85\"/></picture></div><div class=\"nbl-poster__properties\"><div class=\"nbl-poster__properties-inner\"><div class=\"nbl-poster__propertiesRow\"><div class=\"nbl-poster__nbl-ratingCompact nbl-ratingCompact nbl-ratingCompact_style_utis nbl-ratingCompact_hasExtra_0\"><div class=\"nbl-ratingCompact__value\"><div class=\"nbl-ratingCompact__valueInteger\">8</div><div class=\"nbl-ratingCompact__valueFraction\">,<!-- -->6</div></div></div></div><div class=\"nbl-poster__propertiesInfo\"><div class=\"nbl-poster__propertiesRow\">2020-2024, Россия, Мелодрамы</div><div class=\"nbl-poster__propertiesRow\">2 сезона</div></div></div></div><div class=\"nbl-textBadge nbl-textBadge_size_dadom nbl-textBadge_style_alli nbl-textBadge_isShadowEnabled_1 nbl-poster__nbl-textBadge nbl-poster__mainTextBadge\"><div class=\"nbl-textBadge__text\">сериал Иви</div></div><div class=\"nbl-ageBadge nbl-ageBadge nbl-ageBadge_value_18 nbl-poster__nbl-ageBadge\"></div></div></div><div class=\"nbl-slimPosterBlock__textSection\"><div class=\"nbl-slimPosterBlock__title\"><span class=\"nbl-slimPosterBlock__titleText\">Нежность</span></div><div class=\"nbl-slimPosterBlock__extra\"><div class=\"nbl-slimPosterBlock__extraItem\"><div class=\"nbl-stub nbl-stub_hasBlinkAnimation_1 nbl-stub_style_rodi\"></div></div></div></div></a>,\n",
       " <a class=\"nbl-slimPosterBlock nbl-slimPosterBlock_type_poster nbl-slimPosterBlock_iconStatus_none nbl-slimPosterBlock_available collections__nbl-slimPosterBlock\" data-content-id=\"16974\" href=\"/watch/blesk\" to=\"/watch/blesk\"><div class=\"nbl-slimPosterBlock__imageSection\"><div class=\"nbl-poster nbl-poster_type_poster nbl-poster_extrasMode_rusk nbl-slimPosterBlock__nbl-poster\"><div class=\"nbl-poster__imageWrapper\"><picture><source media=\"(min-width: 1272px)\" srcset=\"https://thumbs.dfs.ivi.ru/storage9/contents/4/9/cbc88294818c00519b63a3a1b5097d.jpg/160x244/?q=85 \"/><source media=\"(min-width: 1096px)\" srcset=\"https://thumbs.dfs.ivi.ru/storage9/contents/4/9/cbc88294818c00519b63a3a1b5097d.jpg/180x280/?q=85 \"/><source media=\"(min-width: 920px)\" srcset=\"https://thumbs.dfs.ivi.ru/storage9/contents/4/9/cbc88294818c00519b63a3a1b5097d.jpg/190x290/?q=85 \"/><source media=\"(min-width: 744px)\" srcset=\"https://thumbs.dfs.ivi.ru/storage9/contents/4/9/cbc88294818c00519b63a3a1b5097d.jpg/195x300/?q=85 \"/><source media=\"(min-width: 600px)\" srcset=\"https://thumbs.dfs.ivi.ru/storage9/contents/4/9/cbc88294818c00519b63a3a1b5097d.jpg/210x322/?q=85 \"/><source media=\"(min-width: 392px)\" srcset=\"https://thumbs.dfs.ivi.ru/storage9/contents/4/9/cbc88294818c00519b63a3a1b5097d.jpg/125x190/?q=85 \"/><img alt=\"Блеск\" class=\"nbl-poster__image\" data-srcset=\"\" data-stub=\"false\" src=\"https://thumbs.dfs.ivi.ru/storage9/contents/4/9/cbc88294818c00519b63a3a1b5097d.jpg/162x248/?q=85\"/></picture></div><div class=\"nbl-poster__properties\"><div class=\"nbl-poster__properties-inner\"><div class=\"nbl-poster__propertiesRow\"><div class=\"nbl-poster__nbl-ratingCompact nbl-ratingCompact nbl-ratingCompact_style_utis nbl-ratingCompact_hasExtra_0\"><div class=\"nbl-ratingCompact__value\"><div class=\"nbl-ratingCompact__valueInteger\">8</div><div class=\"nbl-ratingCompact__valueFraction\">,<!-- -->0</div></div></div></div><div class=\"nbl-poster__propertiesInfo\"><div class=\"nbl-poster__propertiesRow\">2023, Россия, Мелодрамы</div><div class=\"nbl-poster__propertiesRow\">1 сезон</div></div></div></div><div class=\"nbl-textBadge nbl-textBadge_size_dadom nbl-textBadge_style_alli nbl-textBadge_isShadowEnabled_1 nbl-poster__nbl-textBadge nbl-poster__mainTextBadge\"><div class=\"nbl-textBadge__text\">сериал Иви</div></div><div class=\"nbl-ageBadge nbl-ageBadge nbl-ageBadge_value_18 nbl-poster__nbl-ageBadge\"></div></div></div><div class=\"nbl-slimPosterBlock__textSection\"><div class=\"nbl-slimPosterBlock__title\"><span class=\"nbl-slimPosterBlock__titleText\">Блеск</span></div><div class=\"nbl-slimPosterBlock__extra\"><div class=\"nbl-slimPosterBlock__extraItem\"><div class=\"nbl-stub nbl-stub_hasBlinkAnimation_1 nbl-stub_style_rodi\"></div></div></div></div></a>,\n",
       " <a class=\"nbl-slimPosterBlock nbl-slimPosterBlock_type_poster nbl-slimPosterBlock_iconStatus_none nbl-slimPosterBlock_available collections__nbl-slimPosterBlock\" data-content-id=\"17240\" href=\"/watch/sama-vinovata\" to=\"/watch/sama-vinovata\"><div class=\"nbl-slimPosterBlock__imageSection\"><div class=\"nbl-poster nbl-poster_type_poster nbl-poster_extrasMode_rusk nbl-slimPosterBlock__nbl-poster\"><div class=\"nbl-poster__imageWrapper\"><picture><source media=\"(min-width: 1272px)\" srcset=\"https://thumbs.dfs.ivi.ru/storage6/contents/3/8/7595c21d1add448ad28b87db8d77be.jpg/160x244/?q=85 \"/><source media=\"(min-width: 1096px)\" srcset=\"https://thumbs.dfs.ivi.ru/storage6/contents/3/8/7595c21d1add448ad28b87db8d77be.jpg/180x280/?q=85 \"/><source media=\"(min-width: 920px)\" srcset=\"https://thumbs.dfs.ivi.ru/storage6/contents/3/8/7595c21d1add448ad28b87db8d77be.jpg/190x290/?q=85 \"/><source media=\"(min-width: 744px)\" srcset=\"https://thumbs.dfs.ivi.ru/storage6/contents/3/8/7595c21d1add448ad28b87db8d77be.jpg/195x300/?q=85 \"/><source media=\"(min-width: 600px)\" srcset=\"https://thumbs.dfs.ivi.ru/storage6/contents/3/8/7595c21d1add448ad28b87db8d77be.jpg/210x322/?q=85 \"/><source media=\"(min-width: 392px)\" srcset=\"https://thumbs.dfs.ivi.ru/storage6/contents/3/8/7595c21d1add448ad28b87db8d77be.jpg/125x190/?q=85 \"/><img alt=\"Сама виновата?\" class=\"nbl-poster__image\" data-srcset=\"\" data-stub=\"false\" src=\"https://thumbs.dfs.ivi.ru/storage6/contents/3/8/7595c21d1add448ad28b87db8d77be.jpg/162x248/?q=85\"/></picture></div><div class=\"nbl-poster__properties\"><div class=\"nbl-poster__properties-inner\"><div class=\"nbl-poster__propertiesRow\"><div class=\"nbl-poster__nbl-ratingCompact nbl-ratingCompact nbl-ratingCompact_style_utis nbl-ratingCompact_hasExtra_0\"><div class=\"nbl-ratingCompact__value\"><div class=\"nbl-ratingCompact__valueInteger\">8</div><div class=\"nbl-ratingCompact__valueFraction\">,<!-- -->8</div></div></div></div><div class=\"nbl-poster__propertiesInfo\"><div class=\"nbl-poster__propertiesRow\">2023, Россия, Драмы</div><div class=\"nbl-poster__propertiesRow\">1 сезон</div></div></div></div><div class=\"nbl-ageBadge nbl-ageBadge nbl-ageBadge_value_18 nbl-poster__nbl-ageBadge\"></div></div></div><div class=\"nbl-slimPosterBlock__textSection\"><div class=\"nbl-slimPosterBlock__title\"><span class=\"nbl-slimPosterBlock__titleText\">Сама виновата?</span></div><div class=\"nbl-slimPosterBlock__extra\"><div class=\"nbl-slimPosterBlock__extraItem\"><div class=\"nbl-stub nbl-stub_hasBlinkAnimation_1 nbl-stub_style_rodi\"></div></div></div></div></a>]"
      ]
     },
     "execution_count": 25,
     "metadata": {},
     "output_type": "execute_result"
    }
   ],
   "source": [
    "film_links = soup.findAll(lambda tag: tag.name == 'a' and tag.get('class') == ['nbl-slimPosterBlock',\n",
    " 'nbl-slimPosterBlock_type_poster',\n",
    " 'nbl-slimPosterBlock_iconStatus_none',\n",
    " 'nbl-slimPosterBlock_available',\n",
    " 'collections__nbl-slimPosterBlock'])\n",
    "film_links[:3]"
   ]
  },
  {
   "cell_type": "code",
   "execution_count": 26,
   "id": "1a0b9b4d",
   "metadata": {},
   "outputs": [
    {
     "data": {
      "text/plain": [
       "30"
      ]
     },
     "execution_count": 26,
     "metadata": {},
     "output_type": "execute_result"
    }
   ],
   "source": [
    "len(film_links)"
   ]
  },
  {
   "cell_type": "code",
   "execution_count": 27,
   "id": "8f37a138",
   "metadata": {
    "scrolled": true
   },
   "outputs": [],
   "source": [
    "film_links = [link.attrs['href'] for link in film_links]"
   ]
  },
  {
   "cell_type": "code",
   "execution_count": 28,
   "id": "aeb97013",
   "metadata": {},
   "outputs": [
    {
     "data": {
      "text/plain": [
       "['/watch/nezhnost',\n",
       " '/watch/blesk',\n",
       " '/watch/sama-vinovata',\n",
       " '/watch/gospozha',\n",
       " '/watch/svatyi-7',\n",
       " '/watch/teoriya-bolshih-deneg',\n",
       " '/watch/zhenskoe-delo',\n",
       " '/watch/lada-gold',\n",
       " '/watch/sklifosovskij_2',\n",
       " '/watch/sssr']"
      ]
     },
     "execution_count": 28,
     "metadata": {},
     "output_type": "execute_result"
    }
   ],
   "source": [
    "film_links[:10]"
   ]
  },
  {
   "cell_type": "code",
   "execution_count": 29,
   "id": "5bd0e27d",
   "metadata": {},
   "outputs": [],
   "source": [
    "def getPageLinks(page_number):\n",
    "    \"\"\"\n",
    "        Возвращает список ссылок на мемы, полученный с текущей страницы\n",
    "\n",
    "        page_number: int/string\n",
    "            номер страницы для парсинга\n",
    "\n",
    "    \"\"\"\n",
    "    # составляем ссылку на страницу поиска\n",
    "    page_link = 'https://www.ivi.ru/collections/serialy-s-vyisokim-rejtingom/page/{}'.format(page_number)\n",
    "\n",
    "    # запрашиваем данные по ней\n",
    "    response = requests.get(page_link, headers={'User-Agent': UserAgent().chrome})\n",
    "\n",
    "    if not response.ok:\n",
    "        # если сервер нам отказал, вернем пустой лист для текущей страницы\n",
    "        return []\n",
    "\n",
    "    # получаем содержимое страницы и переводим в суп\n",
    "    html = response.content\n",
    "    soup = BeautifulSoup(html,'html.parser')\n",
    "\n",
    "    # наконец, ищем ссылки на мемы и очищаем их от ненужных тэгов\n",
    "    film_links = soup.findAll(lambda tag: tag.name == 'a' and tag.get('class') == ['nbl-slimPosterBlock',\n",
    " 'nbl-slimPosterBlock_type_poster',\n",
    " 'nbl-slimPosterBlock_iconStatus_none',\n",
    " 'nbl-slimPosterBlock_available',\n",
    " 'collections__nbl-slimPosterBlock'])\n",
    "    film_links = ['https://www.ivi.ru' + link.attrs['href'] for link in film_links]\n",
    "\n",
    "    return film_links"
   ]
  },
  {
   "cell_type": "code",
   "execution_count": 30,
   "id": "c92df1ac",
   "metadata": {},
   "outputs": [
    {
     "data": {
      "text/plain": [
       "['https://www.ivi.ru/watch/nezhnost', 'https://www.ivi.ru/watch/blesk']"
      ]
     },
     "execution_count": 30,
     "metadata": {},
     "output_type": "execute_result"
    }
   ],
   "source": [
    "film_links = getPageLinks(1)\n",
    "film_links[:2]"
   ]
  },
  {
   "cell_type": "code",
   "execution_count": 31,
   "id": "4d1f2583",
   "metadata": {},
   "outputs": [],
   "source": [
    "film_page = 'https://www.ivi.tv/watch/nezhnost'\n",
    "response = requests.get(film_page, headers={'User-Agent': UserAgent().chrome})\n",
    "\n",
    "html = response.content\n",
    "soup = BeautifulSoup(html,'html.parser')"
   ]
  },
  {
   "cell_type": "code",
   "execution_count": 32,
   "id": "b7e0f970",
   "metadata": {},
   "outputs": [
    {
     "data": {
      "text/plain": [
       "<div class=\"nbl-ratingPlate__value\">8,6</div>"
      ]
     },
     "execution_count": 32,
     "metadata": {},
     "output_type": "execute_result"
    }
   ],
   "source": [
    "raiting = soup.find(attrs={'class':'nbl-ratingPlate__value'})\n",
    "raiting"
   ]
  },
  {
   "cell_type": "code",
   "execution_count": 33,
   "id": "9f20497e",
   "metadata": {},
   "outputs": [
    {
     "data": {
      "text/plain": [
       "bs4.element.Tag"
      ]
     },
     "execution_count": 33,
     "metadata": {},
     "output_type": "execute_result"
    }
   ],
   "source": [
    "type(raiting)"
   ]
  },
  {
   "cell_type": "code",
   "execution_count": 34,
   "id": "8dd82303",
   "metadata": {},
   "outputs": [
    {
     "data": {
      "text/plain": [
       "bs4.element.NavigableString"
      ]
     },
     "execution_count": 34,
     "metadata": {},
     "output_type": "execute_result"
    }
   ],
   "source": [
    "raiting = raiting.string\n",
    "type(raiting)"
   ]
  },
  {
   "cell_type": "code",
   "execution_count": 35,
   "id": "976651ef",
   "metadata": {},
   "outputs": [
    {
     "data": {
      "text/plain": [
       "<div class=\"ratingBlock__extra\">184 465 оценок</div>"
      ]
     },
     "execution_count": 35,
     "metadata": {},
     "output_type": "execute_result"
    }
   ],
   "source": [
    "numberofraitings = soup.find(attrs={'class':'ratingBlock__extra'})\n",
    "numberofraitings"
   ]
  },
  {
   "cell_type": "code",
   "execution_count": 36,
   "id": "d9efa38e",
   "metadata": {},
   "outputs": [
    {
     "data": {
      "text/plain": [
       "str"
      ]
     },
     "execution_count": 36,
     "metadata": {},
     "output_type": "execute_result"
    }
   ],
   "source": [
    "numberofraitings = numberofraitings.string\n",
    "type(str(numberofraitings))"
   ]
  },
  {
   "cell_type": "code",
   "execution_count": 37,
   "id": "c19b569d",
   "metadata": {},
   "outputs": [
    {
     "data": {
      "text/plain": [
       "'184 465 оценок'"
      ]
     },
     "execution_count": 37,
     "metadata": {},
     "output_type": "execute_result"
    }
   ],
   "source": [
    "numberofraitings"
   ]
  },
  {
   "cell_type": "code",
   "execution_count": 38,
   "id": "fe659e8e",
   "metadata": {},
   "outputs": [],
   "source": [
    "numberofraitings = numberofraitings.split()[:-1]"
   ]
  },
  {
   "cell_type": "code",
   "execution_count": 39,
   "id": "8dfeccca",
   "metadata": {},
   "outputs": [
    {
     "data": {
      "text/plain": [
       "list"
      ]
     },
     "execution_count": 39,
     "metadata": {},
     "output_type": "execute_result"
    }
   ],
   "source": [
    "type(numberofraitings)"
   ]
  },
  {
   "cell_type": "code",
   "execution_count": 40,
   "id": "efb86a52",
   "metadata": {},
   "outputs": [
    {
     "data": {
      "text/plain": [
       "184465"
      ]
     },
     "execution_count": 40,
     "metadata": {},
     "output_type": "execute_result"
    }
   ],
   "source": [
    "numberofraitings = int(''.join(numberofraitings))\n",
    "numberofraitings"
   ]
  },
  {
   "cell_type": "code",
   "execution_count": 41,
   "id": "119da5c9",
   "metadata": {},
   "outputs": [],
   "source": [
    "def getStats(soup, stats):\n",
    "    \"\"\"\n",
    "        Возвращает очищенное число просмотров/коментариев/...\n",
    "\n",
    "        soup: объект bs4.BeautifulSoup\n",
    "            суп текущей страницы\n",
    "\n",
    "        stats: string\n",
    "            views/videos/photos/comments\n",
    "\n",
    "    \"\"\"\n",
    "    try:\n",
    "        obj = soup.find(attrs={'class':stats})\n",
    "        obj = obj.string\n",
    "        obj = int(obj.replace(',', ''))\n",
    "        #obj = obj.split()[:-1]\n",
    "        #obj = int(''.join(obj))\n",
    "    except:\n",
    "        obj=None\n",
    "\n",
    "    return obj"
   ]
  },
  {
   "cell_type": "code",
   "execution_count": 42,
   "id": "271ee4fe",
   "metadata": {},
   "outputs": [],
   "source": [
    "def getNumberofraitings(soup, stats1):\n",
    "    \"\"\"\n",
    "        Возвращает очищенное число просмотров/коментариев/...\n",
    "\n",
    "        soup: объект bs4.BeautifulSoup\n",
    "            суп текущей страницы\n",
    "\n",
    "        stats: string\n",
    "            views/videos/photos/comments\n",
    "\n",
    "    \"\"\"\n",
    "    try:\n",
    "        obj = soup.find(attrs={'class':stats1})\n",
    "        obj = obj.string\n",
    "        obj = obj.split()[:-1]\n",
    "        obj = int(''.join(obj))\n",
    "    except:\n",
    "        obj=None\n",
    "\n",
    "    return obj"
   ]
  },
  {
   "cell_type": "code",
   "execution_count": 43,
   "id": "f17845f1",
   "metadata": {},
   "outputs": [
    {
     "name": "stdout",
     "output_type": "stream",
     "text": [
      "Рейтинг: 86\n",
      "Количество оценок: 184465\n",
      "Отзывы: 304\n",
      "\n"
     ]
    }
   ],
   "source": [
    "raiting = getStats(soup, stats='nbl-ratingPlate__value')\n",
    "numberofraitings = getNumberofraitings(soup, stats1='ratingBlock__extra')\n",
    "reviews = getStats(soup, stats='nbl-superscript__text')\n",
    "\n",
    "print(\"Рейтинг: {}\\nКоличество оценок: {}\\nОтзывы: {}\\n\".format(raiting, numberofraitings, reviews))"
   ]
  },
  {
   "cell_type": "code",
   "execution_count": 44,
   "id": "86faa2fd",
   "metadata": {},
   "outputs": [
    {
     "data": {
      "text/plain": [
       "int"
      ]
     },
     "execution_count": 44,
     "metadata": {},
     "output_type": "execute_result"
    }
   ],
   "source": [
    "#type(raiting)\n",
    "type(numberofraitings)\n",
    "#type(reviews)"
   ]
  },
  {
   "cell_type": "code",
   "execution_count": 45,
   "id": "8f4d500e",
   "metadata": {},
   "outputs": [
    {
     "data": {
      "text/plain": [
       "<a class=\"nbl-link nbl-link_style_wovou\" href=\"https://www.ivi.tv/series/2020\">2020-2024</a>"
      ]
     },
     "execution_count": 45,
     "metadata": {},
     "output_type": "execute_result"
    }
   ],
   "source": [
    "year = soup.find(attrs={'class':'nbl-link nbl-link_style_wovou'})\n",
    "year"
   ]
  },
  {
   "cell_type": "code",
   "execution_count": 46,
   "id": "d4393756",
   "metadata": {},
   "outputs": [
    {
     "data": {
      "text/plain": [
       "bs4.element.Tag"
      ]
     },
     "execution_count": 46,
     "metadata": {},
     "output_type": "execute_result"
    }
   ],
   "source": [
    "type(year)"
   ]
  },
  {
   "cell_type": "code",
   "execution_count": 47,
   "id": "b1de6183",
   "metadata": {},
   "outputs": [],
   "source": [
    "year = year.string"
   ]
  },
  {
   "cell_type": "code",
   "execution_count": 48,
   "id": "e13f0e5f",
   "metadata": {},
   "outputs": [
    {
     "data": {
      "text/plain": [
       "bs4.element.NavigableString"
      ]
     },
     "execution_count": 48,
     "metadata": {},
     "output_type": "execute_result"
    }
   ],
   "source": [
    "type(year)"
   ]
  },
  {
   "cell_type": "code",
   "execution_count": 49,
   "id": "7180bfe7",
   "metadata": {},
   "outputs": [
    {
     "data": {
      "text/plain": [
       "'2020-2024'"
      ]
     },
     "execution_count": 49,
     "metadata": {},
     "output_type": "execute_result"
    }
   ],
   "source": [
    "year"
   ]
  },
  {
   "cell_type": "code",
   "execution_count": 50,
   "id": "76411fb7",
   "metadata": {},
   "outputs": [
    {
     "data": {
      "text/plain": [
       "str"
      ]
     },
     "execution_count": 50,
     "metadata": {},
     "output_type": "execute_result"
    }
   ],
   "source": [
    "year = str(year)\n",
    "type(year)"
   ]
  },
  {
   "cell_type": "code",
   "execution_count": 51,
   "id": "b334ff10",
   "metadata": {},
   "outputs": [
    {
     "data": {
      "text/plain": [
       "'2020-2024'"
      ]
     },
     "execution_count": 51,
     "metadata": {},
     "output_type": "execute_result"
    }
   ],
   "source": [
    "year"
   ]
  },
  {
   "cell_type": "code",
   "execution_count": 52,
   "id": "7a36c729",
   "metadata": {},
   "outputs": [],
   "source": [
    "def getText(soup):\n",
    "    \"\"\"\n",
    "        Возвращает текстовые описания фильма\n",
    "\n",
    "        soup: объект bs4.BeautifulSoup\n",
    "            суп текущей страницы\n",
    "\n",
    "    \"\"\"\n",
    "    # название фильма\n",
    "    film_name = soup.find('h1', attrs={'class':['watchTitle__title', 'font-1160-42-44 font-600-50-50 font-320-32-36']}).text.strip()\n",
    "    film_name = str(film_name[:-16])\n",
    "    #film_name = film_name.split()[1]\n",
    "    #film_name = soup.find('span', attrs={'class':'nbl-slimPosterBlock__titleText'}).find('h1').text.strip()\n",
    "     \n",
    "    # достаём описание\n",
    "    film_about = soup.find('div', attrs={'class':'clause__text-inner'}).text.strip()\n",
    "\n",
    "    # раздел about (если он есть), должен идти первым, берем его без уточнения класса\n",
    "    #meme_about = body.find('p')\n",
    "    #meme_about = \"\" if not meme_about else meme_about.text\n",
    "\n",
    "    # раздел origin можно найти после заголовка Origin или History,\n",
    "    # находим заголовок, определяем родителя и ищем следущего ребенка - наш раздел\n",
    "    #meme_origin = body.find(text='Origin') or body.find(text='History')\n",
    "    #meme_origin = \"\" if not meme_origin else meme_origin.parent.find_next().text\n",
    "\n",
    "    # весь остальной текст (если он есть) можно запихнуть в одно текстовое поле\n",
    "    #if body.text:\n",
    "        #other_text = body.text.strip().split('\\n')[4:]\n",
    "        #other_text = \" \".join(other_text).strip()\n",
    "   # else:\n",
    "       # other_text = \"\"\n",
    "\n",
    "    return {'Название': film_name, 'Описание':film_about}"
   ]
  },
  {
   "cell_type": "code",
   "execution_count": 53,
   "id": "e1c8917c",
   "metadata": {},
   "outputs": [
    {
     "name": "stdout",
     "output_type": "stream",
     "text": [
      "Название фильма:\n",
      "Сериал Нежность\n",
      "\n",
      "Описание:\n",
      "Одна ночь в гостинице «Астория» переворачивает жизнь двоих незнакомцев с ног на голову. Нежная комедия с Викторией Исаковой и Евгением Цыгановым, уже ставшая народным хитом. Два сезона – два взгляда на одну и ту же встречу мужчины и женщины. В новых сериях к звёздной команде присоединились Михаил Боярский, Светлана Ходченкова, Максим Лагашкин, Тимофей Трибунцев.Финансовый директор Елена Ивановна однажды встретила мужчину своей мечты и почти сразу его потеряла. В поисках утраченного она перебрала все доступные и недоступные методы, от дедукции до эзотерики. А чем же занимался тот, кого она искала? Во втором сезоне – история рассудительного Сергея Николаевича, которого начинает преследовать образ Незнакомки. Эта загадочная женщина пошатнула систему, навсегда меняя стабильную жизнь стабильного Серёжи. Теперь он хочет её найти. Отбросив все запреты, заядлый прагматик-реалист отправляется на поиски потерянной нежности.Смотри два сезона лирической комедии «Нежность» онлайн. Приглашаем посмотреть сериал «Нежность» в нашем онлайн-кинотеатре в хорошем HD качестве. Приятного просмотра!\n",
      "\n",
      "\n"
     ]
    }
   ],
   "source": [
    "text_fields = getText(soup)\n",
    "\n",
    "print(\"Название фильма:\\n{}\\n\\nОписание:\\n{}\\n\\n\".format(text_fields['Название'], text_fields['Описание']))"
   ]
  },
  {
   "cell_type": "code",
   "execution_count": 54,
   "id": "c75ef350",
   "metadata": {},
   "outputs": [],
   "source": [
    "def getFilmData(film_page):\n",
    "    \"\"\"\n",
    "        Запрашивает данные по странице, возвращает обработанный словарь с данными\n",
    "\n",
    "        film_page: string\n",
    "            ссылка на страницу с фильмом\n",
    "\n",
    "    \"\"\"\n",
    "\n",
    "    # запрашиваем данные по ссылке\n",
    "    response = requests.get(film_page, headers={'User-Agent': UserAgent().chrome})\n",
    "\n",
    "    if not response.ok:\n",
    "        # если сервер нам отказал, вернем статус ошибки\n",
    "        return response.status_code\n",
    "\n",
    "    # получаем содержимое страницы и переводим в суп\n",
    "    html = response.content\n",
    "    soup = BeautifulSoup(html,'html.parser')\n",
    "\n",
    "    # используя ранее написанные функции парсим информацию\n",
    "    # views = getStats(soup=soup, stats='views')\n",
    "    # videos = getStats(soup=soup, stats='videos')\n",
    "    #photos = getStats(soup=soup, stats='photos')\n",
    "   # comments = getStats(soup=soup, stats='comments')\n",
    "    \n",
    "    raiting = getStats(soup=soup, stats='nbl-ratingPlate__value')\n",
    "    numberofraitings = getNumberofraitings(soup=soup, stats1='ratingBlock__extra')\n",
    "    reviews = getStats(soup=soup, stats='nbl-superscript__text')\n",
    "\n",
    "    # дата\n",
    "    #date = soup.findAll('abbr', attrs={'class':'timeago'})[1].attrs['title']\n",
    "\n",
    "    # текстовые поля\n",
    "    text_fileds = getText(soup=soup)\n",
    "\n",
    "    # составляем словарь, в котором будут хранится все полученные и обработанные данные\n",
    "    data_row = {\"Рейтинг\":raiting, \"Кол-во оценок\":numberofraitings, \"Отзывы\":reviews}\n",
    "    data_row.update(text_fileds)\n",
    "\n",
    "    return data_row"
   ]
  },
  {
   "cell_type": "code",
   "execution_count": 55,
   "id": "3ac8d3a3",
   "metadata": {},
   "outputs": [],
   "source": [
    "data_row = getFilmData('https://www.ivi.tv/watch/nezhnost')"
   ]
  },
  {
   "cell_type": "code",
   "execution_count": 56,
   "id": "c2df0638",
   "metadata": {},
   "outputs": [
    {
     "data": {
      "text/plain": [
       "{'Рейтинг': 86,\n",
       " 'Кол-во оценок': 184465,\n",
       " 'Отзывы': 304,\n",
       " 'Название': 'Сериал Нежность',\n",
       " 'Описание': 'Одна ночь в гостинице «Астория» переворачивает жизнь двоих незнакомцев с ног на голову. Нежная комедия с Викторией Исаковой и Евгением Цыгановым, уже ставшая народным хитом. Два сезона – два взгляда на одну и ту же встречу мужчины и женщины. В новых сериях к звёздной команде присоединились Михаил Боярский, Светлана Ходченкова, Максим Лагашкин, Тимофей Трибунцев.Финансовый директор Елена Ивановна однажды встретила мужчину своей мечты и почти сразу его потеряла. В поисках утраченного она перебрала все доступные и недоступные методы, от дедукции до эзотерики. А чем же занимался тот, кого она искала? Во втором сезоне – история рассудительного Сергея Николаевича, которого начинает преследовать образ Незнакомки. Эта загадочная женщина пошатнула систему, навсегда меняя стабильную жизнь стабильного Серёжи. Теперь он хочет её найти. Отбросив все запреты, заядлый прагматик-реалист отправляется на поиски потерянной нежности.Смотри два сезона лирической комедии «Нежность» онлайн. Приглашаем посмотреть сериал «Нежность» в нашем онлайн-кинотеатре в хорошем HD качестве. Приятного просмотра!'}"
      ]
     },
     "execution_count": 56,
     "metadata": {},
     "output_type": "execute_result"
    }
   ],
   "source": [
    "data_row"
   ]
  },
  {
   "cell_type": "code",
   "execution_count": 57,
   "id": "70b11235",
   "metadata": {},
   "outputs": [],
   "source": [
    "final_df = pd.DataFrame(columns=['Название',  'Рейтинг', 'Кол-во оценок', 'Отзывы', 'Описание'])"
   ]
  },
  {
   "cell_type": "code",
   "execution_count": 58,
   "id": "cf1fed86",
   "metadata": {},
   "outputs": [
    {
     "data": {
      "text/html": [
       "<div>\n",
       "<style scoped>\n",
       "    .dataframe tbody tr th:only-of-type {\n",
       "        vertical-align: middle;\n",
       "    }\n",
       "\n",
       "    .dataframe tbody tr th {\n",
       "        vertical-align: top;\n",
       "    }\n",
       "\n",
       "    .dataframe thead th {\n",
       "        text-align: right;\n",
       "    }\n",
       "</style>\n",
       "<table border=\"1\" class=\"dataframe\">\n",
       "  <thead>\n",
       "    <tr style=\"text-align: right;\">\n",
       "      <th></th>\n",
       "      <th>Название</th>\n",
       "      <th>Рейтинг</th>\n",
       "      <th>Кол-во оценок</th>\n",
       "      <th>Отзывы</th>\n",
       "      <th>Описание</th>\n",
       "    </tr>\n",
       "  </thead>\n",
       "  <tbody>\n",
       "    <tr>\n",
       "      <th>0</th>\n",
       "      <td>Сериал Нежность</td>\n",
       "      <td>86</td>\n",
       "      <td>184465</td>\n",
       "      <td>304</td>\n",
       "      <td>Одна ночь в гостинице «Астория» переворачивает...</td>\n",
       "    </tr>\n",
       "  </tbody>\n",
       "</table>\n",
       "</div>"
      ],
      "text/plain": [
       "          Название Рейтинг Кол-во оценок Отзывы  \\\n",
       "0  Сериал Нежность      86        184465    304   \n",
       "\n",
       "                                            Описание  \n",
       "0  Одна ночь в гостинице «Астория» переворачивает...  "
      ]
     },
     "execution_count": 58,
     "metadata": {},
     "output_type": "execute_result"
    }
   ],
   "source": [
    "#final_df = final_df.np.concat(data_row, ignore_index=True).dropna(axis = 1)\n",
    "#final_df\n",
    "#df = pd.DataFrame(df).append(new_row, ignore_index=True)\n",
    "final_df = pd.concat([final_df, pd.DataFrame([data_row])], ignore_index=True)\n",
    "final_df"
   ]
  },
  {
   "cell_type": "code",
   "execution_count": 59,
   "id": "1302f4e4",
   "metadata": {},
   "outputs": [],
   "source": [
    "from tqdm import tqdm_notebook"
   ]
  },
  {
   "cell_type": "code",
   "execution_count": 60,
   "id": "a0bf741c",
   "metadata": {},
   "outputs": [
    {
     "data": {
      "text/plain": [
       "['https://www.ivi.ru/watch/nezhnost',\n",
       " 'https://www.ivi.ru/watch/blesk',\n",
       " 'https://www.ivi.ru/watch/sama-vinovata',\n",
       " 'https://www.ivi.ru/watch/gospozha',\n",
       " 'https://www.ivi.ru/watch/svatyi-7',\n",
       " 'https://www.ivi.ru/watch/teoriya-bolshih-deneg',\n",
       " 'https://www.ivi.ru/watch/zhenskoe-delo',\n",
       " 'https://www.ivi.ru/watch/lada-gold',\n",
       " 'https://www.ivi.ru/watch/sklifosovskij_2',\n",
       " 'https://www.ivi.ru/watch/sssr',\n",
       " 'https://www.ivi.ru/watch/serzhant',\n",
       " 'https://www.ivi.ru/watch/krutyie-meryi',\n",
       " 'https://www.ivi.ru/watch/zhestokij-mir-muzhchin',\n",
       " 'https://www.ivi.ru/watch/13-ya-klinicheskaya',\n",
       " 'https://www.ivi.ru/watch/i-snova-zdravstvujte',\n",
       " 'https://www.ivi.ru/watch/razreshite-obratitsya',\n",
       " 'https://www.ivi.ru/watch/himera',\n",
       " 'https://www.ivi.ru/watch/bolshoj-dom',\n",
       " 'https://www.ivi.ru/watch/rajtsentr',\n",
       " 'https://www.ivi.ru/watch/za-pervogo-vstrechnogo',\n",
       " 'https://www.ivi.ru/watch/hochu-ne-mogu-2023',\n",
       " 'https://www.ivi.ru/watch/pozyivnoj-zhuravli',\n",
       " 'https://www.ivi.ru/watch/svaty_4',\n",
       " 'https://www.ivi.ru/watch/svatyi-3',\n",
       " 'https://www.ivi.ru/watch/svatyi_6',\n",
       " 'https://www.ivi.ru/watch/svaty_5',\n",
       " 'https://www.ivi.ru/watch/po-koleno',\n",
       " 'https://www.ivi.ru/watch/zvstupniki',\n",
       " 'https://www.ivi.ru/watch/mertvyie-dushi-2020',\n",
       " 'https://www.ivi.ru/watch/master-i-margarita']"
      ]
     },
     "execution_count": 60,
     "metadata": {},
     "output_type": "execute_result"
    }
   ],
   "source": [
    "film_links"
   ]
  },
  {
   "cell_type": "code",
   "execution_count": 61,
   "id": "1ea15801",
   "metadata": {},
   "outputs": [
    {
     "data": {
      "application/vnd.jupyter.widget-view+json": {
       "model_id": "213dbdf1b5b34b389fcf792bbabb0403",
       "version_major": 2,
       "version_minor": 0
      },
      "text/plain": [
       "  0%|          | 0/30 [00:00<?, ?it/s]"
      ]
     },
     "metadata": {},
     "output_type": "display_data"
    }
   ],
   "source": [
    "for film_link in tqdm_notebook(film_links):\n",
    "    try:\n",
    "        data_row = getFilmData(film_link)\n",
    "        final_df = pd.concat([final_df, pd.DataFrame([data_row])], ignore_index=True)\n",
    "        time.sleep(0.3)\n",
    "    except:\n",
    "        continue"
   ]
  },
  {
   "cell_type": "code",
   "execution_count": 62,
   "id": "89ba0150",
   "metadata": {},
   "outputs": [],
   "source": [
    "final_df = final_df.drop_duplicates().dropna(axis = 1)"
   ]
  },
  {
   "cell_type": "code",
   "execution_count": 63,
   "id": "431c8e2a",
   "metadata": {},
   "outputs": [
    {
     "data": {
      "text/plain": [
       "(30, 5)"
      ]
     },
     "execution_count": 63,
     "metadata": {},
     "output_type": "execute_result"
    }
   ],
   "source": [
    "final_df.shape"
   ]
  },
  {
   "cell_type": "code",
   "execution_count": 64,
   "id": "a5245ed0",
   "metadata": {},
   "outputs": [
    {
     "data": {
      "text/html": [
       "<div>\n",
       "<style scoped>\n",
       "    .dataframe tbody tr th:only-of-type {\n",
       "        vertical-align: middle;\n",
       "    }\n",
       "\n",
       "    .dataframe tbody tr th {\n",
       "        vertical-align: top;\n",
       "    }\n",
       "\n",
       "    .dataframe thead th {\n",
       "        text-align: right;\n",
       "    }\n",
       "</style>\n",
       "<table border=\"1\" class=\"dataframe\">\n",
       "  <thead>\n",
       "    <tr style=\"text-align: right;\">\n",
       "      <th></th>\n",
       "      <th>Название</th>\n",
       "      <th>Рейтинг</th>\n",
       "      <th>Кол-во оценок</th>\n",
       "      <th>Отзывы</th>\n",
       "      <th>Описание</th>\n",
       "    </tr>\n",
       "  </thead>\n",
       "  <tbody>\n",
       "    <tr>\n",
       "      <th>0</th>\n",
       "      <td>Сериал Нежность</td>\n",
       "      <td>86</td>\n",
       "      <td>184465</td>\n",
       "      <td>304</td>\n",
       "      <td>Одна ночь в гостинице «Астория» переворачивает...</td>\n",
       "    </tr>\n",
       "    <tr>\n",
       "      <th>2</th>\n",
       "      <td>Сериал Блеск</td>\n",
       "      <td>80</td>\n",
       "      <td>17488</td>\n",
       "      <td>13</td>\n",
       "      <td>Красавицу Аню и султана Серкана объединяет бол...</td>\n",
       "    </tr>\n",
       "    <tr>\n",
       "      <th>3</th>\n",
       "      <td>Сериал Сама виновата?</td>\n",
       "      <td>88</td>\n",
       "      <td>40441</td>\n",
       "      <td>34</td>\n",
       "      <td>Реальная история, шокировавшая страну: драма о...</td>\n",
       "    </tr>\n",
       "    <tr>\n",
       "      <th>4</th>\n",
       "      <td>Сериал Госпожа</td>\n",
       "      <td>77</td>\n",
       "      <td>33560</td>\n",
       "      <td>32</td>\n",
       "      <td>Скромная Маруся работает в службе соцзащиты и ...</td>\n",
       "    </tr>\n",
       "    <tr>\n",
       "      <th>5</th>\n",
       "      <td>Сериал Сваты 7</td>\n",
       "      <td>87</td>\n",
       "      <td>281531</td>\n",
       "      <td>205</td>\n",
       "      <td>Сваты снова с нами! Неутомимые, непредсказуемы...</td>\n",
       "    </tr>\n",
       "  </tbody>\n",
       "</table>\n",
       "</div>"
      ],
      "text/plain": [
       "                Название Рейтинг Кол-во оценок Отзывы  \\\n",
       "0        Сериал Нежность      86        184465    304   \n",
       "2           Сериал Блеск      80         17488     13   \n",
       "3  Сериал Сама виновата?      88         40441     34   \n",
       "4         Сериал Госпожа      77         33560     32   \n",
       "5         Сериал Сваты 7      87        281531    205   \n",
       "\n",
       "                                            Описание  \n",
       "0  Одна ночь в гостинице «Астория» переворачивает...  \n",
       "2  Красавицу Аню и султана Серкана объединяет бол...  \n",
       "3  Реальная история, шокировавшая страну: драма о...  \n",
       "4  Скромная Маруся работает в службе соцзащиты и ...  \n",
       "5  Сваты снова с нами! Неутомимые, непредсказуемы...  "
      ]
     },
     "execution_count": 64,
     "metadata": {},
     "output_type": "execute_result"
    }
   ],
   "source": [
    "final_df.head()"
   ]
  },
  {
   "cell_type": "code",
   "execution_count": 65,
   "id": "3e483db4",
   "metadata": {},
   "outputs": [
    {
     "data": {
      "application/vnd.jupyter.widget-view+json": {
       "model_id": "b4c536ae368c4e4da34c7b238b41f14c",
       "version_major": 2,
       "version_minor": 0
      },
      "text/plain": [
       "Pages:   0%|          | 0/2 [00:00<?, ?it/s]"
      ]
     },
     "metadata": {},
     "output_type": "display_data"
    },
    {
     "data": {
      "application/vnd.jupyter.widget-view+json": {
       "model_id": "",
       "version_major": 2,
       "version_minor": 0
      },
      "text/plain": [
       "Films:   0%|          | 0/30 [00:00<?, ?it/s]"
      ]
     },
     "metadata": {},
     "output_type": "display_data"
    },
    {
     "data": {
      "application/vnd.jupyter.widget-view+json": {
       "model_id": "",
       "version_major": 2,
       "version_minor": 0
      },
      "text/plain": [
       "Films:   0%|          | 0/30 [00:00<?, ?it/s]"
      ]
     },
     "metadata": {},
     "output_type": "display_data"
    }
   ],
   "source": [
    "# Немного красивых циклов. При желании пакет можно отключить и\n",
    "# удалить команду tqdm_notebook из всех циклов\n",
    "from tqdm import tqdm_notebook\n",
    "\n",
    "\n",
    "final_df = pd.DataFrame(columns=['Название',  'Рейтинг', 'Кол-во оценок', 'Отзывы', 'Описание'])\n",
    "\n",
    "for page_number in tqdm_notebook(range(2), desc='Pages'):\n",
    "    # собрали хрефы с текущей страницы\n",
    "    film_links = getPageLinks(page_number)\n",
    "    for film_link in tqdm_notebook(film_links, desc='Films', leave=False):\n",
    "        # иногда с первого раза страничка не парсится\n",
    "        for i in range(3):\n",
    "            try:\n",
    "                # закидываем её в таблицу\n",
    "                #final_df = final_df.append(data_row, ignore_index=True)\n",
    "                final_df = pd.concat([final_df, pd.DataFrame([data_row])], ignore_index=True)\n",
    "                # если всё получилось - выходим из внутреннего цикла\n",
    "                break\n",
    "            except:\n",
    "                # Иначе, пробуем еще несколько раз, пока не закончатся попытки\n",
    "                print('AHTUNG! parsing once again:', film_link)\n",
    "                continue\n",
    "            time.sleep(0.3)"
   ]
  },
  {
   "cell_type": "code",
   "execution_count": 66,
   "id": "6bdd9396",
   "metadata": {},
   "outputs": [
    {
     "data": {
      "text/html": [
       "<div>\n",
       "<style scoped>\n",
       "    .dataframe tbody tr th:only-of-type {\n",
       "        vertical-align: middle;\n",
       "    }\n",
       "\n",
       "    .dataframe tbody tr th {\n",
       "        vertical-align: top;\n",
       "    }\n",
       "\n",
       "    .dataframe thead th {\n",
       "        text-align: right;\n",
       "    }\n",
       "</style>\n",
       "<table border=\"1\" class=\"dataframe\">\n",
       "  <thead>\n",
       "    <tr style=\"text-align: right;\">\n",
       "      <th></th>\n",
       "      <th>Название</th>\n",
       "      <th>Рейтинг</th>\n",
       "      <th>Кол-во оценок</th>\n",
       "      <th>Отзывы</th>\n",
       "      <th>Описание</th>\n",
       "    </tr>\n",
       "  </thead>\n",
       "  <tbody>\n",
       "    <tr>\n",
       "      <th>0</th>\n",
       "      <td>Сериал Мастер и Маргарита</td>\n",
       "      <td>87</td>\n",
       "      <td>39563</td>\n",
       "      <td>83</td>\n",
       "      <td>Попыток переложить самое мистическое творение ...</td>\n",
       "    </tr>\n",
       "    <tr>\n",
       "      <th>1</th>\n",
       "      <td>Сериал Мастер и Маргарита</td>\n",
       "      <td>87</td>\n",
       "      <td>39563</td>\n",
       "      <td>83</td>\n",
       "      <td>Попыток переложить самое мистическое творение ...</td>\n",
       "    </tr>\n",
       "    <tr>\n",
       "      <th>2</th>\n",
       "      <td>Сериал Мастер и Маргарита</td>\n",
       "      <td>87</td>\n",
       "      <td>39563</td>\n",
       "      <td>83</td>\n",
       "      <td>Попыток переложить самое мистическое творение ...</td>\n",
       "    </tr>\n",
       "    <tr>\n",
       "      <th>3</th>\n",
       "      <td>Сериал Мастер и Маргарита</td>\n",
       "      <td>87</td>\n",
       "      <td>39563</td>\n",
       "      <td>83</td>\n",
       "      <td>Попыток переложить самое мистическое творение ...</td>\n",
       "    </tr>\n",
       "    <tr>\n",
       "      <th>4</th>\n",
       "      <td>Сериал Мастер и Маргарита</td>\n",
       "      <td>87</td>\n",
       "      <td>39563</td>\n",
       "      <td>83</td>\n",
       "      <td>Попыток переложить самое мистическое творение ...</td>\n",
       "    </tr>\n",
       "    <tr>\n",
       "      <th>5</th>\n",
       "      <td>Сериал Мастер и Маргарита</td>\n",
       "      <td>87</td>\n",
       "      <td>39563</td>\n",
       "      <td>83</td>\n",
       "      <td>Попыток переложить самое мистическое творение ...</td>\n",
       "    </tr>\n",
       "    <tr>\n",
       "      <th>6</th>\n",
       "      <td>Сериал Мастер и Маргарита</td>\n",
       "      <td>87</td>\n",
       "      <td>39563</td>\n",
       "      <td>83</td>\n",
       "      <td>Попыток переложить самое мистическое творение ...</td>\n",
       "    </tr>\n",
       "    <tr>\n",
       "      <th>7</th>\n",
       "      <td>Сериал Мастер и Маргарита</td>\n",
       "      <td>87</td>\n",
       "      <td>39563</td>\n",
       "      <td>83</td>\n",
       "      <td>Попыток переложить самое мистическое творение ...</td>\n",
       "    </tr>\n",
       "    <tr>\n",
       "      <th>8</th>\n",
       "      <td>Сериал Мастер и Маргарита</td>\n",
       "      <td>87</td>\n",
       "      <td>39563</td>\n",
       "      <td>83</td>\n",
       "      <td>Попыток переложить самое мистическое творение ...</td>\n",
       "    </tr>\n",
       "    <tr>\n",
       "      <th>9</th>\n",
       "      <td>Сериал Мастер и Маргарита</td>\n",
       "      <td>87</td>\n",
       "      <td>39563</td>\n",
       "      <td>83</td>\n",
       "      <td>Попыток переложить самое мистическое творение ...</td>\n",
       "    </tr>\n",
       "  </tbody>\n",
       "</table>\n",
       "</div>"
      ],
      "text/plain": [
       "                    Название Рейтинг Кол-во оценок Отзывы  \\\n",
       "0  Сериал Мастер и Маргарита      87         39563     83   \n",
       "1  Сериал Мастер и Маргарита      87         39563     83   \n",
       "2  Сериал Мастер и Маргарита      87         39563     83   \n",
       "3  Сериал Мастер и Маргарита      87         39563     83   \n",
       "4  Сериал Мастер и Маргарита      87         39563     83   \n",
       "5  Сериал Мастер и Маргарита      87         39563     83   \n",
       "6  Сериал Мастер и Маргарита      87         39563     83   \n",
       "7  Сериал Мастер и Маргарита      87         39563     83   \n",
       "8  Сериал Мастер и Маргарита      87         39563     83   \n",
       "9  Сериал Мастер и Маргарита      87         39563     83   \n",
       "\n",
       "                                            Описание  \n",
       "0  Попыток переложить самое мистическое творение ...  \n",
       "1  Попыток переложить самое мистическое творение ...  \n",
       "2  Попыток переложить самое мистическое творение ...  \n",
       "3  Попыток переложить самое мистическое творение ...  \n",
       "4  Попыток переложить самое мистическое творение ...  \n",
       "5  Попыток переложить самое мистическое творение ...  \n",
       "6  Попыток переложить самое мистическое творение ...  \n",
       "7  Попыток переложить самое мистическое творение ...  \n",
       "8  Попыток переложить самое мистическое творение ...  \n",
       "9  Попыток переложить самое мистическое творение ...  "
      ]
     },
     "execution_count": 66,
     "metadata": {},
     "output_type": "execute_result"
    }
   ],
   "source": [
    "final_df.head(10)"
   ]
  },
  {
   "cell_type": "code",
   "execution_count": 67,
   "id": "c0afb495",
   "metadata": {},
   "outputs": [
    {
     "data": {
      "text/plain": [
       "(60, 5)"
      ]
     },
     "execution_count": 67,
     "metadata": {},
     "output_type": "execute_result"
    }
   ],
   "source": [
    "final_df.shape"
   ]
  }
 ],
 "metadata": {
  "kernelspec": {
   "display_name": "Python 3 (ipykernel)",
   "language": "python",
   "name": "python3"
  },
  "language_info": {
   "codemirror_mode": {
    "name": "ipython",
    "version": 3
   },
   "file_extension": ".py",
   "mimetype": "text/x-python",
   "name": "python",
   "nbconvert_exporter": "python",
   "pygments_lexer": "ipython3",
   "version": "3.11.5"
  }
 },
 "nbformat": 4,
 "nbformat_minor": 5
}
