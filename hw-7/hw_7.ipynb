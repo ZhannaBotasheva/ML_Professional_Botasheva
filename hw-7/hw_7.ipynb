{
 "cells": [
  {
   "cell_type": "markdown",
   "id": "dfd6c4ec",
   "metadata": {},
   "source": [
    "## HW 7\n",
    "Botasheva Zhanna"
   ]
  },
  {
   "cell_type": "markdown",
   "id": "b6bf07f1",
   "metadata": {},
   "source": [
    "## Памперсы или пиво? Практический проект по созданию рекомендательной системы"
   ]
  },
  {
   "cell_type": "code",
   "execution_count": 18,
   "id": "3ad37466",
   "metadata": {},
   "outputs": [
    {
     "name": "stdout",
     "output_type": "stream",
     "text": [
      "%pylab is deprecated, use %matplotlib inline and import the required libraries.\n",
      "Populating the interactive namespace from numpy and matplotlib\n"
     ]
    }
   ],
   "source": [
    "import warnings\n",
    "warnings.simplefilter('ignore')\n",
    "\n",
    "import numpy as np\n",
    "import pandas as pd\n",
    "import matplotlib.pyplot as plt\n",
    "import seaborn as sns\n",
    "from tqdm import tqdm_notebook\n",
    "from sklearn.metrics import mean_squared_error\n",
    "from sklearn.metrics.pairwise import cosine_similarity\n",
    "from sklearn.base import BaseEstimator\n",
    "\n",
    "%pylab inline"
   ]
  },
  {
   "cell_type": "code",
   "execution_count": 9,
   "id": "7d590f7e",
   "metadata": {},
   "outputs": [
    {
     "data": {
      "text/html": [
       "<div>\n",
       "<style scoped>\n",
       "    .dataframe tbody tr th:only-of-type {\n",
       "        vertical-align: middle;\n",
       "    }\n",
       "\n",
       "    .dataframe tbody tr th {\n",
       "        vertical-align: top;\n",
       "    }\n",
       "\n",
       "    .dataframe thead th {\n",
       "        text-align: right;\n",
       "    }\n",
       "</style>\n",
       "<table border=\"1\" class=\"dataframe\">\n",
       "  <thead>\n",
       "    <tr style=\"text-align: right;\">\n",
       "      <th></th>\n",
       "      <th>overall</th>\n",
       "      <th>verified</th>\n",
       "      <th>reviewTime</th>\n",
       "      <th>reviewerID</th>\n",
       "      <th>asin</th>\n",
       "      <th>style</th>\n",
       "      <th>reviewerName</th>\n",
       "      <th>reviewText</th>\n",
       "      <th>summary</th>\n",
       "      <th>unixReviewTime</th>\n",
       "      <th>vote</th>\n",
       "      <th>image</th>\n",
       "    </tr>\n",
       "  </thead>\n",
       "  <tbody>\n",
       "    <tr>\n",
       "      <th>0</th>\n",
       "      <td>5</td>\n",
       "      <td>True</td>\n",
       "      <td>06 17, 2018</td>\n",
       "      <td>A31UBHTUUIFJUT</td>\n",
       "      <td>B004LLIKVU</td>\n",
       "      <td>{'Gift Amount:': ' 50'}</td>\n",
       "      <td>john stoiber</td>\n",
       "      <td>Another great gift.</td>\n",
       "      <td>Five Stars</td>\n",
       "      <td>1529193600</td>\n",
       "      <td>NaN</td>\n",
       "      <td>NaN</td>\n",
       "    </tr>\n",
       "    <tr>\n",
       "      <th>1</th>\n",
       "      <td>4</td>\n",
       "      <td>True</td>\n",
       "      <td>06 14, 2018</td>\n",
       "      <td>A2MN5JQMIY0FQ2</td>\n",
       "      <td>B004LLIKVU</td>\n",
       "      <td>{'Gift Amount:': ' 50'}</td>\n",
       "      <td>Amazon Customer</td>\n",
       "      <td>Gift card for my daughter</td>\n",
       "      <td>Ease of use</td>\n",
       "      <td>1528934400</td>\n",
       "      <td>NaN</td>\n",
       "      <td>NaN</td>\n",
       "    </tr>\n",
       "    <tr>\n",
       "      <th>2</th>\n",
       "      <td>5</td>\n",
       "      <td>True</td>\n",
       "      <td>06 2, 2018</td>\n",
       "      <td>A25POI5IGGENPM</td>\n",
       "      <td>B004LLIKVU</td>\n",
       "      <td>{'Gift Amount:': ' 50'}</td>\n",
       "      <td>Kindle Customer</td>\n",
       "      <td>Nice present</td>\n",
       "      <td>Five Stars</td>\n",
       "      <td>1527897600</td>\n",
       "      <td>NaN</td>\n",
       "      <td>NaN</td>\n",
       "    </tr>\n",
       "    <tr>\n",
       "      <th>3</th>\n",
       "      <td>5</td>\n",
       "      <td>True</td>\n",
       "      <td>05 19, 2018</td>\n",
       "      <td>A2HYGTHB4LJ9FW</td>\n",
       "      <td>B004LLIKVU</td>\n",
       "      <td>{'Gift Amount:': ' 50'}</td>\n",
       "      <td>Amante dei Gatti</td>\n",
       "      <td>My niece loved this birthday greeting/gift card.</td>\n",
       "      <td>Love the convenience of eCards</td>\n",
       "      <td>1526688000</td>\n",
       "      <td>NaN</td>\n",
       "      <td>NaN</td>\n",
       "    </tr>\n",
       "    <tr>\n",
       "      <th>4</th>\n",
       "      <td>5</td>\n",
       "      <td>True</td>\n",
       "      <td>05 18, 2018</td>\n",
       "      <td>ACDG3M94UMZGJ</td>\n",
       "      <td>B004LLIKVU</td>\n",
       "      <td>{'Gift Amount:': ' 50'}</td>\n",
       "      <td>Joan Freesh</td>\n",
       "      <td>fine as a gift.</td>\n",
       "      <td>Five Stars</td>\n",
       "      <td>1526601600</td>\n",
       "      <td>NaN</td>\n",
       "      <td>NaN</td>\n",
       "    </tr>\n",
       "  </tbody>\n",
       "</table>\n",
       "</div>"
      ],
      "text/plain": [
       "   overall  verified   reviewTime      reviewerID        asin  \\\n",
       "0        5      True  06 17, 2018  A31UBHTUUIFJUT  B004LLIKVU   \n",
       "1        4      True  06 14, 2018  A2MN5JQMIY0FQ2  B004LLIKVU   \n",
       "2        5      True   06 2, 2018  A25POI5IGGENPM  B004LLIKVU   \n",
       "3        5      True  05 19, 2018  A2HYGTHB4LJ9FW  B004LLIKVU   \n",
       "4        5      True  05 18, 2018   ACDG3M94UMZGJ  B004LLIKVU   \n",
       "\n",
       "                     style      reviewerName  \\\n",
       "0  {'Gift Amount:': ' 50'}      john stoiber   \n",
       "1  {'Gift Amount:': ' 50'}   Amazon Customer   \n",
       "2  {'Gift Amount:': ' 50'}   Kindle Customer   \n",
       "3  {'Gift Amount:': ' 50'}  Amante dei Gatti   \n",
       "4  {'Gift Amount:': ' 50'}       Joan Freesh   \n",
       "\n",
       "                                         reviewText  \\\n",
       "0                               Another great gift.   \n",
       "1                         Gift card for my daughter   \n",
       "2                                      Nice present   \n",
       "3  My niece loved this birthday greeting/gift card.   \n",
       "4                                   fine as a gift.   \n",
       "\n",
       "                          summary  unixReviewTime  vote image  \n",
       "0                      Five Stars      1529193600   NaN   NaN  \n",
       "1                     Ease of use      1528934400   NaN   NaN  \n",
       "2                      Five Stars      1527897600   NaN   NaN  \n",
       "3  Love the convenience of eCards      1526688000   NaN   NaN  \n",
       "4                      Five Stars      1526601600   NaN   NaN  "
      ]
     },
     "execution_count": 9,
     "metadata": {},
     "output_type": "execute_result"
    }
   ],
   "source": [
    "# подгружаем данные\n",
    "data = pd.read_json('C:/Users/Zhanna Botasheva/Desktop/Курс ML/Professional/33 Практическое занятие по рекомендательным системам. Surpsise/Gift_Cards_5.json.gz', orient='records', lines=True)\n",
    "data.head()"
   ]
  },
  {
   "cell_type": "code",
   "execution_count": 10,
   "id": "dde632e2",
   "metadata": {},
   "outputs": [
    {
     "name": "stdout",
     "output_type": "stream",
     "text": [
      "<class 'pandas.core.frame.DataFrame'>\n",
      "RangeIndex: 2972 entries, 0 to 2971\n",
      "Data columns (total 12 columns):\n",
      " #   Column          Non-Null Count  Dtype  \n",
      "---  ------          --------------  -----  \n",
      " 0   overall         2972 non-null   int64  \n",
      " 1   verified        2972 non-null   bool   \n",
      " 2   reviewTime      2972 non-null   object \n",
      " 3   reviewerID      2972 non-null   object \n",
      " 4   asin            2972 non-null   object \n",
      " 5   style           864 non-null    object \n",
      " 6   reviewerName    2972 non-null   object \n",
      " 7   reviewText      2966 non-null   object \n",
      " 8   summary         2972 non-null   object \n",
      " 9   unixReviewTime  2972 non-null   int64  \n",
      " 10  vote            208 non-null    float64\n",
      " 11  image           12 non-null     object \n",
      "dtypes: bool(1), float64(1), int64(2), object(8)\n",
      "memory usage: 258.4+ KB\n"
     ]
    }
   ],
   "source": [
    "data.info()"
   ]
  },
  {
   "cell_type": "code",
   "execution_count": 11,
   "id": "2f1408b5",
   "metadata": {},
   "outputs": [
    {
     "data": {
      "text/html": [
       "<div>\n",
       "<style scoped>\n",
       "    .dataframe tbody tr th:only-of-type {\n",
       "        vertical-align: middle;\n",
       "    }\n",
       "\n",
       "    .dataframe tbody tr th {\n",
       "        vertical-align: top;\n",
       "    }\n",
       "\n",
       "    .dataframe thead th {\n",
       "        text-align: right;\n",
       "    }\n",
       "</style>\n",
       "<table border=\"1\" class=\"dataframe\">\n",
       "  <thead>\n",
       "    <tr style=\"text-align: right;\">\n",
       "      <th></th>\n",
       "      <th>overall</th>\n",
       "      <th>unixReviewTime</th>\n",
       "      <th>vote</th>\n",
       "    </tr>\n",
       "  </thead>\n",
       "  <tbody>\n",
       "    <tr>\n",
       "      <th>count</th>\n",
       "      <td>2972.000000</td>\n",
       "      <td>2.972000e+03</td>\n",
       "      <td>208.000000</td>\n",
       "    </tr>\n",
       "    <tr>\n",
       "      <th>mean</th>\n",
       "      <td>4.885262</td>\n",
       "      <td>1.476136e+09</td>\n",
       "      <td>5.158654</td>\n",
       "    </tr>\n",
       "    <tr>\n",
       "      <th>std</th>\n",
       "      <td>0.484660</td>\n",
       "      <td>3.379616e+07</td>\n",
       "      <td>7.366121</td>\n",
       "    </tr>\n",
       "    <tr>\n",
       "      <th>min</th>\n",
       "      <td>1.000000</td>\n",
       "      <td>1.327968e+09</td>\n",
       "      <td>2.000000</td>\n",
       "    </tr>\n",
       "    <tr>\n",
       "      <th>25%</th>\n",
       "      <td>5.000000</td>\n",
       "      <td>1.454890e+09</td>\n",
       "      <td>2.000000</td>\n",
       "    </tr>\n",
       "    <tr>\n",
       "      <th>50%</th>\n",
       "      <td>5.000000</td>\n",
       "      <td>1.482710e+09</td>\n",
       "      <td>3.000000</td>\n",
       "    </tr>\n",
       "    <tr>\n",
       "      <th>75%</th>\n",
       "      <td>5.000000</td>\n",
       "      <td>1.500271e+09</td>\n",
       "      <td>5.000000</td>\n",
       "    </tr>\n",
       "    <tr>\n",
       "      <th>max</th>\n",
       "      <td>5.000000</td>\n",
       "      <td>1.534896e+09</td>\n",
       "      <td>60.000000</td>\n",
       "    </tr>\n",
       "  </tbody>\n",
       "</table>\n",
       "</div>"
      ],
      "text/plain": [
       "           overall  unixReviewTime        vote\n",
       "count  2972.000000    2.972000e+03  208.000000\n",
       "mean      4.885262    1.476136e+09    5.158654\n",
       "std       0.484660    3.379616e+07    7.366121\n",
       "min       1.000000    1.327968e+09    2.000000\n",
       "25%       5.000000    1.454890e+09    2.000000\n",
       "50%       5.000000    1.482710e+09    3.000000\n",
       "75%       5.000000    1.500271e+09    5.000000\n",
       "max       5.000000    1.534896e+09   60.000000"
      ]
     },
     "execution_count": 11,
     "metadata": {},
     "output_type": "execute_result"
    }
   ],
   "source": [
    "data.describe()"
   ]
  },
  {
   "cell_type": "code",
   "execution_count": 13,
   "id": "9a9c2af2",
   "metadata": {},
   "outputs": [
    {
     "data": {
      "text/plain": [
       "overall\n",
       "5    2752\n",
       "4     154\n",
       "3      33\n",
       "1      22\n",
       "2      11\n",
       "Name: count, dtype: int64"
      ]
     },
     "execution_count": 13,
     "metadata": {},
     "output_type": "execute_result"
    }
   ],
   "source": [
    "data.overall.value_counts()"
   ]
  },
  {
   "cell_type": "code",
   "execution_count": 15,
   "id": "0ca3aba0",
   "metadata": {},
   "outputs": [
    {
     "data": {
      "text/plain": [
       "['overall', 'unixReviewTime', 'vote']"
      ]
     },
     "execution_count": 15,
     "metadata": {},
     "output_type": "execute_result"
    }
   ],
   "source": [
    "num_columns = data.select_dtypes(include=['int64','float64']).columns.tolist()\n",
    "num_columns"
   ]
  },
  {
   "cell_type": "code",
   "execution_count": 16,
   "id": "a6761b66",
   "metadata": {},
   "outputs": [
    {
     "name": "stdout",
     "output_type": "stream",
     "text": [
      "overall 5\n",
      "unixReviewTime 797\n",
      "vote 20\n"
     ]
    }
   ],
   "source": [
    "for column in num_columns:\n",
    "    print(f'{column} {data[column].nunique()}')"
   ]
  },
  {
   "cell_type": "code",
   "execution_count": 19,
   "id": "389c147f",
   "metadata": {},
   "outputs": [
    {
     "data": {
      "text/plain": [
       "<Axes: xlabel='overall', ylabel='count'>"
      ]
     },
     "execution_count": 19,
     "metadata": {},
     "output_type": "execute_result"
    },
    {
     "data": {
      "image/png": "[encoded data removed]",
      "text/plain": [
       "<Figure size 500x300 with 1 Axes>"
      ]
     },
     "metadata": {},
     "output_type": "display_data"
    }
   ],
   "source": [
    "plt.figure(figsize=(5, 3))\n",
    "sns.countplot(x='overall', data=data)"
   ]
  },
  {
   "cell_type": "code",
   "execution_count": 20,
   "id": "c9a7027b",
   "metadata": {},
   "outputs": [
    {
     "data": {
      "image/png": "[encoded data removed]",
      "text/plain": [
       "<Figure size 1000x500 with 1 Axes>"
      ]
     },
     "metadata": {},
     "output_type": "display_data"
    }
   ],
   "source": [
    "plt.figure(figsize=(10, 5))\n",
    "sns.histplot(x='unixReviewTime', bins=100, kde=True, data=data)\n",
    "plt.show()"
   ]
  },
  {
   "cell_type": "code",
   "execution_count": 21,
   "id": "54b347ed",
   "metadata": {},
   "outputs": [
    {
     "data": {
      "text/plain": [
       "['reviewTime',\n",
       " 'reviewerID',\n",
       " 'asin',\n",
       " 'style',\n",
       " 'reviewerName',\n",
       " 'reviewText',\n",
       " 'summary',\n",
       " 'image']"
      ]
     },
     "execution_count": 21,
     "metadata": {},
     "output_type": "execute_result"
    }
   ],
   "source": [
    "cat_columns = data.select_dtypes(include='object').columns.tolist()\n",
    "cat_columns"
   ]
  },
  {
   "cell_type": "code",
   "execution_count": 22,
   "id": "cb13b355",
   "metadata": {},
   "outputs": [
    {
     "name": "stdout",
     "output_type": "stream",
     "text": [
      "reviewTime 2972\n",
      "reviewerID 2972\n",
      "asin 2972\n",
      "style 864\n",
      "reviewerName 2972\n",
      "reviewText 2966\n",
      "summary 2972\n",
      "image 12\n"
     ]
    }
   ],
   "source": [
    "for column in cat_columns:\n",
    "    print(f'{column} {data[column].value_counts().sum()}')"
   ]
  },
  {
   "cell_type": "code",
   "execution_count": 23,
   "id": "4f9dea6e",
   "metadata": {},
   "outputs": [],
   "source": [
    "def train_test_split(X, ratio=0.2, user_col='reviewerID', item_col='asin',\n",
    "                     rating_col='overall', time_col='unixReviewTime'):\n",
    "  \n",
    "    # сортируем оценки по времени\n",
    "    X.sort_values(by=[time_col], inplace=True)\n",
    "\n",
    "    # список всех пользователей\n",
    "    userIds = X[user_col].unique()\n",
    "    X_train_data = []\n",
    "    X_test_data = []\n",
    "    y_train = []\n",
    "    y_test = []\n",
    "\n",
    "    for userId in tqdm_notebook(userIds):\n",
    "        curUser = X[X[user_col] == userId]\n",
    "        # определяем позицию, по которой делим выборку и размещаем данные по массивам\n",
    "        idx = int(curUser.shape[0] * (1 - ratio))\n",
    "        X_train_data.append(curUser[[user_col, item_col]].iloc[:idx, :].values)\n",
    "        X_test_data.append(curUser[[user_col, item_col]].iloc[idx:, :].values)\n",
    "        y_train.append(curUser[rating_col].values[:idx])\n",
    "        y_test.append(curUser[rating_col].values[idx:])\n",
    "\n",
    "    # cтекуем данные по каждому пользователю в общие массивы\n",
    "    X_train = pd.DataFrame(np.vstack(X_train_data), columns=[user_col, item_col])\n",
    "    X_test = pd.DataFrame(np.vstack(X_test_data), columns=[user_col, item_col])\n",
    "    y_train = np.hstack(y_train)\n",
    "    y_test = np.hstack(y_test)\n",
    "\n",
    "    return X_train, X_test, y_train, y_test"
   ]
  },
  {
   "cell_type": "code",
   "execution_count": 24,
   "id": "7093053e",
   "metadata": {},
   "outputs": [
    {
     "data": {
      "application/vnd.jupyter.widget-view+json": {
       "model_id": "c9144feb39d8496f9f68104b38790603",
       "version_major": 2,
       "version_minor": 0
      },
      "text/plain": [
       "  0%|          | 0/458 [00:00<?, ?it/s]"
      ]
     },
     "metadata": {},
     "output_type": "display_data"
    }
   ],
   "source": [
    "X_train, X_test, y_train, y_test = train_test_split(data)"
   ]
  },
  {
   "cell_type": "code",
   "execution_count": 25,
   "id": "1924efed",
   "metadata": {},
   "outputs": [
    {
     "data": {
      "text/plain": [
       "((2223, 2), 2223, (749, 2), 749)"
      ]
     },
     "execution_count": 25,
     "metadata": {},
     "output_type": "execute_result"
    }
   ],
   "source": [
    "X_train.shape, len(y_train), X_test.shape, len(y_test)"
   ]
  },
  {
   "cell_type": "code",
   "execution_count": 26,
   "id": "0e3b0b78",
   "metadata": {},
   "outputs": [
    {
     "data": {
      "text/html": [
       "<div>\n",
       "<style scoped>\n",
       "    .dataframe tbody tr th:only-of-type {\n",
       "        vertical-align: middle;\n",
       "    }\n",
       "\n",
       "    .dataframe tbody tr th {\n",
       "        vertical-align: top;\n",
       "    }\n",
       "\n",
       "    .dataframe thead th {\n",
       "        text-align: right;\n",
       "    }\n",
       "</style>\n",
       "<table border=\"1\" class=\"dataframe\">\n",
       "  <thead>\n",
       "    <tr style=\"text-align: right;\">\n",
       "      <th></th>\n",
       "      <th>reviewerID</th>\n",
       "      <th>asin</th>\n",
       "    </tr>\n",
       "  </thead>\n",
       "  <tbody>\n",
       "    <tr>\n",
       "      <th>0</th>\n",
       "      <td>A2K90J2GLB0B8D</td>\n",
       "      <td>B005ESMMWW</td>\n",
       "    </tr>\n",
       "    <tr>\n",
       "      <th>1</th>\n",
       "      <td>A2K90J2GLB0B8D</td>\n",
       "      <td>B0080IR6BA</td>\n",
       "    </tr>\n",
       "    <tr>\n",
       "      <th>2</th>\n",
       "      <td>A2K90J2GLB0B8D</td>\n",
       "      <td>B0091JKJ0M</td>\n",
       "    </tr>\n",
       "  </tbody>\n",
       "</table>\n",
       "</div>"
      ],
      "text/plain": [
       "       reviewerID        asin\n",
       "0  A2K90J2GLB0B8D  B005ESMMWW\n",
       "1  A2K90J2GLB0B8D  B0080IR6BA\n",
       "2  A2K90J2GLB0B8D  B0091JKJ0M"
      ]
     },
     "execution_count": 26,
     "metadata": {},
     "output_type": "execute_result"
    }
   ],
   "source": [
    "X_train.head(3)"
   ]
  },
  {
   "cell_type": "code",
   "execution_count": 27,
   "id": "6ae31d66",
   "metadata": {},
   "outputs": [
    {
     "data": {
      "text/plain": [
       "array([4, 4, 5, 5, 4, 5, 5, 4, 5], dtype=int64)"
      ]
     },
     "execution_count": 27,
     "metadata": {},
     "output_type": "execute_result"
    }
   ],
   "source": [
    "y_train[1:10]"
   ]
  },
  {
   "cell_type": "markdown",
   "id": "e1bdd335",
   "metadata": {},
   "source": [
    "### Collaborative filtering\n",
    "### User-based model"
   ]
  },
  {
   "cell_type": "code",
   "execution_count": 28,
   "id": "84859ebb",
   "metadata": {},
   "outputs": [],
   "source": [
    "class UserBased(BaseEstimator):\n",
    "\n",
    "    def fit(self, X, y, user_col='reviewerID', item_col='asin'):\n",
    "\n",
    "        X = X.copy()\n",
    "        # сохраним текущих пользователей и имеющиеся предметы\n",
    "        self.users = X[user_col].unique()\n",
    "        self.items = X[item_col].unique()\n",
    "        \n",
    "        X['y'] = y\n",
    "        \n",
    "        # рассчитаем среднее значение рейтинга для пользователя и предмета\n",
    "        self.mean_y_user = X.groupby(user_col)['y'].mean()\n",
    "        self.mean_y_item = X.groupby(item_col)['y'].mean()\n",
    "        \n",
    "        # вычитаем среднюю оценку пользователя\n",
    "        X['y'] -= X[user_col].apply(lambda x: self.mean_y_user[x])\n",
    "        \n",
    "        # создаём векторы для каждого пользователя из купленных предметов\n",
    "        # для неизвестных предметов ставим оценку 0\n",
    "        self.user_ratings = pd.pivot_table(X, values='y', index=user_col,\n",
    "                                           columns=item_col, fill_value=0)\n",
    "        \n",
    "        # считаем попарную схожесть между пользователями\n",
    "        self.user_sim = cosine_similarity(self.user_ratings)\n",
    "        \n",
    "        # также сделаем словарь - {значение user_col: index в user_ratings}\n",
    "        self.user_pos = dict()\n",
    "        for user in self.users:\n",
    "            self.user_pos[user] = np.argwhere(self.user_ratings.index.values == user)[0][0]\n",
    "        return self\n",
    "\n",
    "    \n",
    "    def predict_rating(self, pr_user, pr_item):\n",
    "\n",
    "        # если в обучающей выборке нет такого предмета\n",
    "        # или пользователя, то вернём 0\n",
    "        if not pr_item in self.items or not pr_user in self.users:\n",
    "            return 0\n",
    "        \n",
    "        # считаем числитель и знаменатель дроби из формулы предсказания\n",
    "        numerator = self.user_sim[self.user_pos[pr_user]].dot(\n",
    "                        self.user_ratings.loc[:, pr_item])   \n",
    "        # вычитаем 1, так как схожесть пользователя с самим собой равна 1,\n",
    "        # и модель не должна это учитывать\n",
    "        denominator = np.abs(self.user_sim[self.user_pos[pr_user]]).sum() - 1\n",
    "        \n",
    "        return self.mean_y_user[pr_user] + numerator / denominator\n",
    "\n",
    "    \n",
    "    def predict(self, X, user_col='reviewerID', item_col='asin'):\n",
    "\n",
    "        y = X[[user_col, item_col]].apply(lambda row: self.predict_rating(row[0], row[1]), axis=1)\n",
    "        return y"
   ]
  },
  {
   "cell_type": "code",
   "execution_count": 29,
   "id": "669ebd15",
   "metadata": {},
   "outputs": [],
   "source": [
    "rmse = lambda y_true, y_pred: np.sqrt(mean_squared_error(y_true, y_pred))"
   ]
  },
  {
   "cell_type": "code",
   "execution_count": 30,
   "id": "471dff78",
   "metadata": {},
   "outputs": [
    {
     "name": "stdout",
     "output_type": "stream",
     "text": [
      "start fitting...\n",
      "start predicting...\n",
      "rmse = 0.48612924036787514\n",
      "CPU times: total: 281 ms\n",
      "Wall time: 154 ms\n"
     ]
    }
   ],
   "source": [
    "%%time\n",
    "print('start fitting...')\n",
    "ub = UserBased().fit(X_train, y_train)\n",
    "print('start predicting...')\n",
    "print('rmse = {}'.format(rmse(y_test, ub.predict(X_test))))"
   ]
  },
  {
   "cell_type": "markdown",
   "id": "14a67b63",
   "metadata": {},
   "source": [
    "### Item-based model"
   ]
  },
  {
   "cell_type": "code",
   "execution_count": 32,
   "id": "42bf5e8d",
   "metadata": {},
   "outputs": [],
   "source": [
    "class ItemBased(BaseEstimator):\n",
    "\n",
    "    def fit(self, X, y, user_col='reviewerID', item_col='asin'):\n",
    "\n",
    "        X = X.copy()\n",
    "        # сохраним текущих пользователей и имеющиеся предметы\n",
    "        self.users = X[user_col].unique()\n",
    "        self.items = X[item_col].unique()\n",
    "        \n",
    "        X['y'] = y\n",
    "        # рассчитаем среднее значение рейтинга для пользователя и предмета\n",
    "        self.mean_y_user = X.groupby(user_col)['y'].mean()\n",
    "        self.mean_y_item = X.groupby(item_col)['y'].mean()\n",
    "        \n",
    "        # вычитаем среднюю оценку предмета\n",
    "        X['y'] -= X[item_col].apply(lambda x: self.mean_y_item[x])\n",
    "        \n",
    "        # создаём векторы для каждого предмета с оценками пользователя\n",
    "        # если пользователь не поставил оценку, то ставим 0\n",
    "        self.item_ratings = pd.pivot_table(X, values='y', index=item_col,\n",
    "                                           columns=user_col, fill_value=0)\n",
    "        \n",
    "        # считаем попарную схожесть между предметами\n",
    "        self.item_sim = cosine_similarity(self.item_ratings)\n",
    "        \n",
    "        # также сделаем словарь {значение item_col: index в item_ratings}\n",
    "        self.item_pos = dict()\n",
    "        for item in self.items:\n",
    "            self.item_pos[item] = np.argwhere(self.item_ratings.index.values == item)[0][0]\n",
    "\n",
    "        return self\n",
    "    \n",
    "\n",
    "    def predict_rating(self, pr_user, pr_item):\n",
    "\n",
    "        # если в обучающей выборке нет такого предмета\n",
    "        # или пользователя, то вернём 0\n",
    "        if not pr_item in self.items or not pr_user in self.users:\n",
    "            return 0\n",
    "        \n",
    "        # считаем числитель и знаменатель дроби из формулы предсказания\n",
    "        numerator = self.item_sim[self.item_pos[pr_item]].dot(\n",
    "                        self.item_ratings.loc[:, pr_user])   \n",
    "        \n",
    "        # вычитаем 1, так как схожесть предмета с самим собой равна 1,\n",
    "        # но модель не должна это учитывать\n",
    "        denominator = np.abs(self.item_sim[self.item_pos[pr_item]]).sum() - 1\n",
    "        \n",
    "        return self.mean_y_item[pr_item] + numerator / denominator\n",
    "    \n",
    "\n",
    "    def predict(self, X, user_col='reviewerID', item_col='asin'):\n",
    "\n",
    "        y = X[[user_col, item_col]].apply(lambda row: self.predict_rating(row[0], row[1]), axis=1)\n",
    "        return y"
   ]
  },
  {
   "cell_type": "code",
   "execution_count": 33,
   "id": "25e97402",
   "metadata": {},
   "outputs": [
    {
     "name": "stdout",
     "output_type": "stream",
     "text": [
      "start fitting...\n",
      "start predicting...\n",
      "rmse = 0.4791070868638017\n",
      "CPU times: total: 156 ms\n",
      "Wall time: 181 ms\n"
     ]
    }
   ],
   "source": [
    "%%time\n",
    "print('start fitting...')\n",
    "ib = ItemBased().fit(X_train, y_train)\n",
    "print('start predicting...')\n",
    "print('rmse = {}'.format(rmse(y_test, ib.predict(X_test))))"
   ]
  },
  {
   "cell_type": "markdown",
   "id": "95e5b467",
   "metadata": {},
   "source": [
    "RMSE для для данных моделей получился практически одинаковый."
   ]
  },
  {
   "cell_type": "code",
   "execution_count": null,
   "id": "9173995b",
   "metadata": {},
   "outputs": [],
   "source": []
  }
 ],
 "metadata": {
  "kernelspec": {
   "display_name": "Python 3 (ipykernel)",
   "language": "python",
   "name": "python3"
  },
  "language_info": {
   "codemirror_mode": {
    "name": "ipython",
    "version": 3
   },
   "file_extension": ".py",
   "mimetype": "text/x-python",
   "name": "python",
   "nbconvert_exporter": "python",
   "pygments_lexer": "ipython3",
   "version": "3.11.5"
  }
 },
 "nbformat": 4,
 "nbformat_minor": 5
}
